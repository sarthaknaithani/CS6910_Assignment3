{
 "cells": [
  {
   "cell_type": "markdown",
   "id": "156bc591",
   "metadata": {
    "_cell_guid": "b1076dfc-b9ad-4769-8c92-a6c4dae69d19",
    "_uuid": "8f2839f25d086af736a60e9eeb907d3b93b6e0e5",
    "papermill": {
     "duration": 0.007213,
     "end_time": "2023-05-02T19:21:09.468183",
     "exception": false,
     "start_time": "2023-05-02T19:21:09.460970",
     "status": "completed"
    },
    "tags": []
   },
   "source": [
    "## IMPORTING LIBRARIES"
   ]
  },
  {
   "cell_type": "code",
   "execution_count": 1,
   "id": "569ac145",
   "metadata": {
    "execution": {
     "iopub.execute_input": "2023-05-02T19:21:09.479869Z",
     "iopub.status.busy": "2023-05-02T19:21:09.479522Z",
     "iopub.status.idle": "2023-05-02T19:21:13.290806Z",
     "shell.execute_reply": "2023-05-02T19:21:13.289880Z"
    },
    "papermill": {
     "duration": 3.819829,
     "end_time": "2023-05-02T19:21:13.293264",
     "exception": false,
     "start_time": "2023-05-02T19:21:09.473435",
     "status": "completed"
    },
    "tags": []
   },
   "outputs": [],
   "source": [
    "import requests,zipfile,io\n",
    "import pandas as pd\n",
    "import torch\n",
    "from torch.utils.data import Dataset, DataLoader\n",
    "import torch.nn as nn\n",
    "from torch import optim\n",
    "import numpy as np\n",
    "import random\n",
    "import torch.nn.functional as F\n",
    "import warnings\n",
    "warnings.filterwarnings(\"ignore\")\n",
    "import wandb"
   ]
  },
  {
   "cell_type": "code",
   "execution_count": 2,
   "id": "b1b3ec76",
   "metadata": {
    "execution": {
     "iopub.execute_input": "2023-05-02T19:21:13.305584Z",
     "iopub.status.busy": "2023-05-02T19:21:13.305313Z",
     "iopub.status.idle": "2023-05-02T19:21:13.362242Z",
     "shell.execute_reply": "2023-05-02T19:21:13.361332Z"
    },
    "papermill": {
     "duration": 0.065253,
     "end_time": "2023-05-02T19:21:13.364182",
     "exception": false,
     "start_time": "2023-05-02T19:21:13.298929",
     "status": "completed"
    },
    "tags": []
   },
   "outputs": [],
   "source": [
    "device = torch.device(\"cuda\" if torch.cuda.is_available() else \"cpu\")\n",
    "torch.cuda.empty_cache()"
   ]
  },
  {
   "cell_type": "code",
   "execution_count": 3,
   "id": "ec4ad5f7",
   "metadata": {
    "execution": {
     "iopub.execute_input": "2023-05-02T19:21:13.376476Z",
     "iopub.status.busy": "2023-05-02T19:21:13.375655Z",
     "iopub.status.idle": "2023-05-02T19:21:13.380702Z",
     "shell.execute_reply": "2023-05-02T19:21:13.379778Z"
    },
    "papermill": {
     "duration": 0.012829,
     "end_time": "2023-05-02T19:21:13.382442",
     "exception": false,
     "start_time": "2023-05-02T19:21:13.369613",
     "status": "completed"
    },
    "tags": []
   },
   "outputs": [
    {
     "name": "stdout",
     "output_type": "stream",
     "text": [
      "cuda\n"
     ]
    }
   ],
   "source": [
    "print(device)"
   ]
  },
  {
   "cell_type": "markdown",
   "id": "598a4164",
   "metadata": {
    "papermill": {
     "duration": 0.005019,
     "end_time": "2023-05-02T19:21:13.392721",
     "exception": false,
     "start_time": "2023-05-02T19:21:13.387702",
     "status": "completed"
    },
    "tags": []
   },
   "source": [
    "## DOWNLOADING AND UNZIPPING DATA"
   ]
  },
  {
   "cell_type": "code",
   "execution_count": 4,
   "id": "2197b3ab",
   "metadata": {
    "execution": {
     "iopub.execute_input": "2023-05-02T19:21:13.404666Z",
     "iopub.status.busy": "2023-05-02T19:21:13.403967Z",
     "iopub.status.idle": "2023-05-02T19:21:13.408511Z",
     "shell.execute_reply": "2023-05-02T19:21:13.407727Z"
    },
    "papermill": {
     "duration": 0.012451,
     "end_time": "2023-05-02T19:21:13.410348",
     "exception": false,
     "start_time": "2023-05-02T19:21:13.397897",
     "status": "completed"
    },
    "tags": []
   },
   "outputs": [],
   "source": [
    "def download_data(url=\"https://drive.google.com/u/0/uc?id=1uRKU4as2NlS9i8sdLRS1e326vQRdhvfw&export=download\"):\n",
    "    response=requests.get(url)\n",
    "    z = zipfile.ZipFile(io.BytesIO(response.content))\n",
    "    z.extractall()"
   ]
  },
  {
   "cell_type": "markdown",
   "id": "c52745b6",
   "metadata": {
    "papermill": {
     "duration": 0.005047,
     "end_time": "2023-05-02T19:21:13.420619",
     "exception": false,
     "start_time": "2023-05-02T19:21:13.415572",
     "status": "completed"
    },
    "tags": []
   },
   "source": [
    "## METHODS FOR GETTING CHARACTERS FOR CORPUSS AND ADDING THEIR INDICES"
   ]
  },
  {
   "cell_type": "code",
   "execution_count": 5,
   "id": "2046ead4",
   "metadata": {
    "execution": {
     "iopub.execute_input": "2023-05-02T19:21:13.432584Z",
     "iopub.status.busy": "2023-05-02T19:21:13.432100Z",
     "iopub.status.idle": "2023-05-02T19:21:13.437821Z",
     "shell.execute_reply": "2023-05-02T19:21:13.436917Z"
    },
    "papermill": {
     "duration": 0.013447,
     "end_time": "2023-05-02T19:21:13.439597",
     "exception": false,
     "start_time": "2023-05-02T19:21:13.426150",
     "status": "completed"
    },
    "tags": []
   },
   "outputs": [],
   "source": [
    "def get_corpus(data):\n",
    "    eng_corpus=set()\n",
    "    hin_corpus=set()\n",
    "    for i in range(0,len(data)):\n",
    "        eng_word=data[0][i]\n",
    "        hin_word=data[1][i]\n",
    "        for ch in eng_word:\n",
    "            eng_corpus.add(ch)\n",
    "        for ch in hin_word:\n",
    "            hin_corpus.add(ch)\n",
    "        # End Delimiter\n",
    "        eng_corpus.add('#')\n",
    "        hin_corpus.add('#')\n",
    "        hin_corpus.add('$')\n",
    "        eng_corpus.add('$')\n",
    "        # Start Delimiter\n",
    "#         eng_corpus.add('^')\n",
    "        hin_corpus.add('^')\n",
    "    return hin_corpus,eng_corpus"
   ]
  },
  {
   "cell_type": "code",
   "execution_count": 6,
   "id": "93560ec7",
   "metadata": {
    "execution": {
     "iopub.execute_input": "2023-05-02T19:21:13.451561Z",
     "iopub.status.busy": "2023-05-02T19:21:13.450822Z",
     "iopub.status.idle": "2023-05-02T19:21:13.456342Z",
     "shell.execute_reply": "2023-05-02T19:21:13.455586Z"
    },
    "papermill": {
     "duration": 0.013328,
     "end_time": "2023-05-02T19:21:13.458116",
     "exception": false,
     "start_time": "2023-05-02T19:21:13.444788",
     "status": "completed"
    },
    "tags": []
   },
   "outputs": [],
   "source": [
    "def word2index(data):\n",
    "    hin_corpus,eng_corpus=get_corpus(data)\n",
    "    engchar_idx={}\n",
    "    hinchar_idx={}\n",
    "    idx_engchar={}\n",
    "    idx_hinchar={}\n",
    "    i=0\n",
    "    for char in eng_corpus:\n",
    "        engchar_idx[char]=i\n",
    "        idx_engchar[i]=char\n",
    "        i+=1\n",
    "    i=0\n",
    "    for char in hin_corpus:\n",
    "        hinchar_idx[char]=i\n",
    "        idx_hinchar[i]=char\n",
    "        i+=1\n",
    "    return engchar_idx,hinchar_idx,idx_engchar,idx_hinchar,len(eng_corpus),len(hin_corpus)"
   ]
  },
  {
   "cell_type": "markdown",
   "id": "334f99a8",
   "metadata": {
    "papermill": {
     "duration": 0.005176,
     "end_time": "2023-05-02T19:21:13.468624",
     "exception": false,
     "start_time": "2023-05-02T19:21:13.463448",
     "status": "completed"
    },
    "tags": []
   },
   "source": [
    "## DATA PREPROCESSING"
   ]
  },
  {
   "cell_type": "code",
   "execution_count": 7,
   "id": "d218aa71",
   "metadata": {
    "execution": {
     "iopub.execute_input": "2023-05-02T19:21:13.480299Z",
     "iopub.status.busy": "2023-05-02T19:21:13.480034Z",
     "iopub.status.idle": "2023-05-02T19:21:13.484852Z",
     "shell.execute_reply": "2023-05-02T19:21:13.483997Z"
    },
    "papermill": {
     "duration": 0.012618,
     "end_time": "2023-05-02T19:21:13.486616",
     "exception": false,
     "start_time": "2023-05-02T19:21:13.473998",
     "status": "completed"
    },
    "tags": []
   },
   "outputs": [],
   "source": [
    "def maxlen(data):\n",
    "    maxlen_eng=0\n",
    "    maxlen_hin=0\n",
    "    for i in range(0,len(data)):\n",
    "        eng_word=data[0][i]\n",
    "        hin_word=data[1][i]\n",
    "        if(len(eng_word)>maxlen_eng):\n",
    "            maxlen_eng=len(eng_word)\n",
    "        if(len(hin_word)>maxlen_hin):\n",
    "            maxlen_hin=len(hin_word)\n",
    "    return maxlen_eng,maxlen_hin"
   ]
  },
  {
   "cell_type": "code",
   "execution_count": 8,
   "id": "8241ae66",
   "metadata": {
    "execution": {
     "iopub.execute_input": "2023-05-02T19:21:13.498627Z",
     "iopub.status.busy": "2023-05-02T19:21:13.497890Z",
     "iopub.status.idle": "2023-05-02T19:21:13.504724Z",
     "shell.execute_reply": "2023-05-02T19:21:13.503966Z"
    },
    "papermill": {
     "duration": 0.014569,
     "end_time": "2023-05-02T19:21:13.506483",
     "exception": false,
     "start_time": "2023-05-02T19:21:13.491914",
     "status": "completed"
    },
    "tags": []
   },
   "outputs": [],
   "source": [
    "def pre_process(data,eng_to_idx,hin_to_idx):\n",
    "    eng=[]\n",
    "    hin=[]\n",
    "    maxlen_eng,maxlen_hin=maxlen(data)\n",
    "    \n",
    "    unknown= eng_to_idx['$']\n",
    "    for i in range(0,len(data)):\n",
    "        sz=0\n",
    "        eng_word=data[0][i]\n",
    "        hin_word='^'+data[1][i]\n",
    "        eng_word = eng_word.ljust(maxlen_eng+1, '#')\n",
    "        hin_word = hin_word.ljust(maxlen_hin+1, '#')\n",
    "        idx=[]\n",
    "        for char in eng_word:\n",
    "            if eng_to_idx.get(char) is not None:\n",
    "                idx.append(eng_to_idx[char])\n",
    "            else:\n",
    "                idx.append(unknown)\n",
    "        eng.append(idx)\n",
    "        idx=[]\n",
    "        for char in hin_word:\n",
    "            if hin_to_idx.get(char) is not None:\n",
    "                idx.append(hin_to_idx[char])\n",
    "            else:\n",
    "                idx.append(unknown)\n",
    "        hin.append(idx)    \n",
    "    return eng,hin"
   ]
  },
  {
   "cell_type": "markdown",
   "id": "e5a1f83e",
   "metadata": {
    "papermill": {
     "duration": 0.005214,
     "end_time": "2023-05-02T19:21:13.517105",
     "exception": false,
     "start_time": "2023-05-02T19:21:13.511891",
     "status": "completed"
    },
    "tags": []
   },
   "source": [
    "## LOADING OUR CUSTOM DATASET TO DATALOADER"
   ]
  },
  {
   "cell_type": "code",
   "execution_count": 9,
   "id": "aaaeb1c4",
   "metadata": {
    "execution": {
     "iopub.execute_input": "2023-05-02T19:21:13.529212Z",
     "iopub.status.busy": "2023-05-02T19:21:13.528518Z",
     "iopub.status.idle": "2023-05-02T19:21:13.535198Z",
     "shell.execute_reply": "2023-05-02T19:21:13.534409Z"
    },
    "papermill": {
     "duration": 0.014655,
     "end_time": "2023-05-02T19:21:13.537122",
     "exception": false,
     "start_time": "2023-05-02T19:21:13.522467",
     "status": "completed"
    },
    "tags": []
   },
   "outputs": [],
   "source": [
    "class MyDataset(Dataset):\n",
    "    def __init__(self, train_x,train_y, transform=None):\n",
    "        self.train_x = train_x\n",
    "        self.train_y = train_y\n",
    "        self.transform = transform\n",
    "        \n",
    "    \n",
    "    def __len__(self):\n",
    "        return len(self.train_x)\n",
    "    \n",
    "    def __getitem__(self, idx):\n",
    "        if self.transform:\n",
    "            sample = self.transform(sample)\n",
    "        return torch.tensor(self.train_x[idx]).to(device),torch.tensor(self.train_y[idx]).to(device)\n",
    "\n",
    "def get_data():\n",
    "    download_data()\n",
    "    \n",
    "    train_df=pd.read_csv(\"aksharantar_sampled/hin/hin_train.csv\",header=None)\n",
    "    test_df=pd.read_csv(\"aksharantar_sampled/hin/hin_test.csv\",header=None)\n",
    "    val_df=pd.read_csv(\"aksharantar_sampled/hin/hin_valid.csv\",header=None)\n",
    "    eng_to_idx,hin_to_idx,idx_to_eng,idx_to_hin,input_len,target_len=word2index(train_df)\n",
    "    \n",
    "    return train_df,test_df,val_df,eng_to_idx,hin_to_idx,idx_to_eng,idx_to_hin,input_len,target_len"
   ]
  },
  {
   "cell_type": "markdown",
   "id": "9c448f8b",
   "metadata": {
    "papermill": {
     "duration": 0.005249,
     "end_time": "2023-05-02T19:21:13.547786",
     "exception": false,
     "start_time": "2023-05-02T19:21:13.542537",
     "status": "completed"
    },
    "tags": []
   },
   "source": [
    "## Seq2Seq MODEL"
   ]
  },
  {
   "cell_type": "code",
   "execution_count": 10,
   "id": "b5467b90",
   "metadata": {
    "execution": {
     "iopub.execute_input": "2023-05-02T19:21:13.559706Z",
     "iopub.status.busy": "2023-05-02T19:21:13.559459Z",
     "iopub.status.idle": "2023-05-02T19:21:13.569877Z",
     "shell.execute_reply": "2023-05-02T19:21:13.568956Z"
    },
    "papermill": {
     "duration": 0.018509,
     "end_time": "2023-05-02T19:21:13.571660",
     "exception": false,
     "start_time": "2023-05-02T19:21:13.553151",
     "status": "completed"
    },
    "tags": []
   },
   "outputs": [],
   "source": [
    "class EncoderGRU(nn.Module):\n",
    "    def __init__(self,input_size,hidden_size,embedding_size,num_of_layers,batch_size,bi_directional,dropout_p=0.1):\n",
    "        super(EncoderGRU,self).__init__()\n",
    "        self.hidden_size=hidden_size\n",
    "        self.batch_size=batch_size\n",
    "        self.input_size=input_size\n",
    "        self.embedding_size=embedding_size\n",
    "        self.embedding=nn.Embedding(input_size,embedding_size)\n",
    "        self.num_of_layers=num_of_layers\n",
    "        self.bi_directional=bi_directional\n",
    "        if(bi_directional==\"Yes\"):\n",
    "            flag=True\n",
    "        else:\n",
    "            flag=False\n",
    "        self.gru = nn.GRU(embedding_size,hidden_size,num_of_layers,bidirectional=flag)\n",
    "        self.dropout = nn.Dropout(dropout_p)\n",
    "\n",
    "    def forward(self,input,hidden):\n",
    "        embedded=self.embedding(input).view(-1,self.batch_size, self.embedding_size)\n",
    "        embedded = self.dropout(embedded)\n",
    "        output,hidden=self.gru(embedded,hidden)\n",
    "    \n",
    "        if self.bi_directional==\"Yes\":\n",
    "            hidden=hidden.resize(2,self.num_of_layers,self.batch_size,self.hidden_size)\n",
    "            hidden=torch.add(hidden[0],hidden[1])/2\n",
    "            \n",
    "        return output,hidden\n",
    "\n",
    "    def initHidden(self):\n",
    "        if(self.bi_directional==\"Yes\"):\n",
    "            return torch.zeros(2*self.num_of_layers,self.batch_size,self.hidden_size,device=device)\n",
    "        else:\n",
    "            return torch.zeros(self.num_of_layers,self.batch_size,self.hidden_size,device=device)\n",
    "\n",
    "class DecoderGRU(nn.Module):\n",
    "    def __init__(self, output_size,hidden_size, embedding_size, decoder_layers,batch_size,dropout_p=0.1):\n",
    "        super(DecoderGRU, self).__init__()\n",
    "        self.hidden_size = hidden_size\n",
    "        self.embedding_size=embedding_size\n",
    "        self.embedding = nn.Embedding(output_size, embedding_size)\n",
    "        self.gru = nn.GRU(embedding_size,hidden_size, decoder_layers)\n",
    "        self.out = nn.Linear(hidden_size, output_size)\n",
    "        self.softmax = nn.LogSoftmax(dim=1)\n",
    "        self.batch_size=batch_size\n",
    "        self.dropout = nn.Dropout(dropout_p)\n",
    "\n",
    "    def forward(self, input, hidden):\n",
    "        embedded = self.embedding(input).view(-1, self.batch_size, self.embedding_size)\n",
    "        embedded = self.dropout(embedded)\n",
    "        output, hidden = self.gru(embedded, hidden)\n",
    "        output = self.softmax(self.out(output))\n",
    "        return output, hidden"
   ]
  },
  {
   "cell_type": "code",
   "execution_count": 11,
   "id": "4cea310c",
   "metadata": {
    "execution": {
     "iopub.execute_input": "2023-05-02T19:21:13.584160Z",
     "iopub.status.busy": "2023-05-02T19:21:13.583602Z",
     "iopub.status.idle": "2023-05-02T19:21:13.594233Z",
     "shell.execute_reply": "2023-05-02T19:21:13.593489Z"
    },
    "papermill": {
     "duration": 0.019269,
     "end_time": "2023-05-02T19:21:13.596588",
     "exception": false,
     "start_time": "2023-05-02T19:21:13.577319",
     "status": "completed"
    },
    "tags": []
   },
   "outputs": [],
   "source": [
    "class EncoderRNN(nn.Module):\n",
    "    def __init__(self,input_size,hidden_size,embedding_size,num_of_layers,batch_size,bi_directional,dropout_p=0.1):\n",
    "        super(EncoderRNN,self).__init__()\n",
    "        self.hidden_size=hidden_size\n",
    "        self.batch_size=batch_size\n",
    "        self.input_size=input_size\n",
    "        self.embedding_size=embedding_size\n",
    "        self.embedding=nn.Embedding(input_size,embedding_size)\n",
    "        self.num_of_layers=num_of_layers\n",
    "        self.bi_directional=bi_directional\n",
    "        if(bi_directional==\"Yes\"):\n",
    "            flag=True\n",
    "        else:\n",
    "            flag=False\n",
    "        self.rnn = nn.RNN(embedding_size,hidden_size,num_of_layers,bidirectional=flag)\n",
    "        self.dropout = nn.Dropout(dropout_p)\n",
    "\n",
    "    def forward(self,input,hidden):\n",
    "        embedded=self.embedding(input).view(-1,self.batch_size, self.embedding_size)\n",
    "        embedded = self.dropout(embedded)\n",
    "        output,hidden=self.rnn(embedded,hidden)\n",
    "    \n",
    "        if self.bi_directional==\"Yes\":\n",
    "            hidden=hidden.resize(2,self.num_of_layers,self.batch_size,self.hidden_size)\n",
    "            hidden=torch.add(hidden[0],hidden[1])/2\n",
    "            \n",
    "        return output,hidden\n",
    "\n",
    "    def initHidden(self):\n",
    "        if(self.bi_directional==\"Yes\"):\n",
    "            return torch.zeros(2*self.num_of_layers,self.batch_size,self.hidden_size,device=device)\n",
    "        else:\n",
    "            return torch.zeros(self.num_of_layers,self.batch_size,self.hidden_size,device=device)\n",
    "\n",
    "class DecoderRNN(nn.Module):\n",
    "    def __init__(self, output_size,hidden_size, embedding_size, decoder_layers,batch_size,dropout_p=0.1):\n",
    "        super(DecoderRNN, self).__init__()\n",
    "        self.hidden_size = hidden_size\n",
    "        self.embedding_size=embedding_size\n",
    "        self.embedding = nn.Embedding(output_size, embedding_size)\n",
    "        self.rnn = nn.RNN(embedding_size,hidden_size, decoder_layers)\n",
    "        self.out = nn.Linear(hidden_size, output_size)\n",
    "        self.softmax = nn.LogSoftmax(dim=1)\n",
    "        self.batch_size=batch_size\n",
    "        self.dropout = nn.Dropout(dropout_p)\n",
    "\n",
    "    def forward(self, input, hidden):\n",
    "        embedded = self.embedding(input).view(-1, self.batch_size, self.embedding_size)\n",
    "        embedded = self.dropout(embedded)\n",
    "        output, hidden = self.rnn(embedded, hidden)\n",
    "        output = self.out(output)\n",
    "        output = self.softmax(self.out(output))\n",
    "        return output, hidden"
   ]
  },
  {
   "cell_type": "code",
   "execution_count": 12,
   "id": "66c5d7be",
   "metadata": {
    "execution": {
     "iopub.execute_input": "2023-05-02T19:21:13.609452Z",
     "iopub.status.busy": "2023-05-02T19:21:13.609193Z",
     "iopub.status.idle": "2023-05-02T19:21:13.621799Z",
     "shell.execute_reply": "2023-05-02T19:21:13.620985Z"
    },
    "papermill": {
     "duration": 0.020772,
     "end_time": "2023-05-02T19:21:13.623583",
     "exception": false,
     "start_time": "2023-05-02T19:21:13.602811",
     "status": "completed"
    },
    "tags": []
   },
   "outputs": [],
   "source": [
    "class EncoderLSTM(nn.Module):\n",
    "    def __init__(self,input_size,hidden_size,embedding_size,num_of_layers,batch_size,bi_directional,dropout_p=0.1):\n",
    "        super(EncoderLSTM,self).__init__()\n",
    "        self.hidden_size=hidden_size\n",
    "        self.batch_size=batch_size\n",
    "        self.input_size=input_size\n",
    "        self.embedding_size=embedding_size\n",
    "        self.embedding=nn.Embedding(input_size,embedding_size)\n",
    "        self.num_of_layers=num_of_layers\n",
    "        self.bi_directional=bi_directional\n",
    "        if(bi_directional==\"Yes\"):\n",
    "            flag=True\n",
    "        else:\n",
    "            flag=False\n",
    "        self.lstm = nn.LSTM(embedding_size,hidden_size,num_of_layers,bidirectional=flag)\n",
    "        self.dropout = nn.Dropout(dropout_p)\n",
    "\n",
    "    def forward(self,input,hidden,state):\n",
    "        embedded=self.embedding(input).view(-1,self.batch_size, self.embedding_size)\n",
    "        embedded = self.dropout(embedded)\n",
    "        output,(hidden,state)=self.lstm(embedded,(hidden,state))\n",
    "    \n",
    "        if self.bi_directional==\"Yes\":\n",
    "            hidden=hidden.resize(2,self.num_of_layers,self.batch_size,self.hidden_size)\n",
    "            state=state.resize(2,self.num_of_layers,self.batch_size,self.hidden_size)\n",
    "            hidden=torch.add(hidden[0],hidden[1])/2\n",
    "            state=torch.add(state[0],hidden[1])/2\n",
    "            \n",
    "        return output,hidden,state\n",
    "\n",
    "    def initHidden(self):\n",
    "        if(self.bi_directional==\"Yes\"):\n",
    "            return torch.zeros(2*self.num_of_layers,self.batch_size,self.hidden_size,device=device)\n",
    "        else:\n",
    "            return torch.zeros(self.num_of_layers,self.batch_size,self.hidden_size,device=device)\n",
    "    \n",
    "    def initState(self):\n",
    "        if(self.bi_directional==\"Yes\"):\n",
    "            return torch.zeros(2*self.num_of_layers,self.batch_size,self.hidden_size,device=device)\n",
    "        else:\n",
    "            return torch.zeros(self.num_of_layers,self.batch_size,self.hidden_size,device=device)\n",
    "\n",
    "class DecoderLSTM(nn.Module):\n",
    "    def __init__(self, output_size,hidden_size, embedding_size, decoder_layers,batch_size,dropout_p=0.1):\n",
    "        super(DecoderLSTM, self).__init__()\n",
    "        self.hidden_size = hidden_size\n",
    "        self.embedding_size=embedding_size\n",
    "        self.embedding = nn.Embedding(output_size, embedding_size)\n",
    "        self.lstm = nn.LSTM(embedding_size,hidden_size,decoder_layers)\n",
    "        self.out = nn.Linear(hidden_size, output_size)\n",
    "        self.softmax = nn.LogSoftmax(dim=1)\n",
    "        self.batch_size=batch_size\n",
    "        self.dropout = nn.Dropout(dropout_p)\n",
    "\n",
    "    def forward(self, input,hidden,state):\n",
    "        embedded = self.embedding(input).view(-1, self.batch_size, self.embedding_size)\n",
    "        embedded = self.dropout(embedded)\n",
    "        output,(hidden,state)=self.lstm(embedded,(hidden,state))\n",
    "        output = self.out(output)\n",
    "        return output,hidden,state"
   ]
  },
  {
   "cell_type": "markdown",
   "id": "bcff5ca0",
   "metadata": {
    "papermill": {
     "duration": 0.005373,
     "end_time": "2023-05-02T19:21:13.634512",
     "exception": false,
     "start_time": "2023-05-02T19:21:13.629139",
     "status": "completed"
    },
    "tags": []
   },
   "source": [
    "## ATTENTION MECHANISM"
   ]
  },
  {
   "cell_type": "code",
   "execution_count": 13,
   "id": "4f999974",
   "metadata": {
    "execution": {
     "iopub.execute_input": "2023-05-02T19:21:13.646574Z",
     "iopub.status.busy": "2023-05-02T19:21:13.646341Z",
     "iopub.status.idle": "2023-05-02T19:21:13.657161Z",
     "shell.execute_reply": "2023-05-02T19:21:13.656294Z"
    },
    "papermill": {
     "duration": 0.018984,
     "end_time": "2023-05-02T19:21:13.658908",
     "exception": false,
     "start_time": "2023-05-02T19:21:13.639924",
     "status": "completed"
    },
    "tags": []
   },
   "outputs": [],
   "source": [
    "class AttnDecoder(nn.Module):\n",
    "    def __init__(self,output_size,hidden_size,embedding_size,decoder_layers,batch_size,cell_type,dropout_p=0.1):\n",
    "        super(AttnDecoder, self).__init__()\n",
    "        self.hidden_size = hidden_size\n",
    "        self.output_size = output_size\n",
    "        self.dropout_p = dropout_p\n",
    "        self.batch_size=batch_size\n",
    "        self.cell_type=cell_type\n",
    "        self.embedding_size=embedding_size\n",
    "        self.decoder_layers=decoder_layers\n",
    "        \n",
    "        self.embedding = nn.Embedding(self.output_size, self.embedding_size)\n",
    "        self.dropout = nn.Dropout(self.dropout_p)\n",
    "\n",
    "        self.U=nn.Linear(self.hidden_size,self.hidden_size,bias=False).to(device)\n",
    "        self.W=nn.Linear(self.hidden_size,self.hidden_size,bias=False).to(device)\n",
    "        self.V=nn.Linear(self.hidden_size,1,bias=False).to(device)\n",
    "        \n",
    "        self.linear=nn.Linear(self.hidden_size,output_size,bias=True)\n",
    "        self.softmax=nn.Softmax()\n",
    "        if(cell_type==\"GRU\"):\n",
    "            self.gru = nn.GRU(self.embedding_size+self.hidden_size, self.hidden_size,self.decoder_layers)\n",
    "        if(cell_type==\"LSTM\"):\n",
    "            self.lstm = nn.LSTM(self.embedding_size+self.hidden_size, self.hidden_size,self.decoder_layers)\n",
    "        if(cell_type==\"RNN\"):\n",
    "            self.rnn = nn.RNN(self.embedding_size+self.hidden_size, self.hidden_size,self.decoder_layers)\n",
    "\n",
    "    def forward(self, input, hidden,encoder_outputs,word_length,state=None):\n",
    "        embedded = self.embedding(input).view(-1,self.batch_size, self.embedding_size)\n",
    "        embedded = self.dropout(embedded)\n",
    "        T=word_length\n",
    "        temp=self.W(hidden[-1])\n",
    "        c=torch.zeros(self.batch_size,self.hidden_size).to(device)\n",
    "        \n",
    "        \n",
    "        for j in range(0,T):\n",
    "            e_j=self.V(torch.tanh(self.U(encoder_outputs[j])+temp))\n",
    "            alpha_j=self.softmax(e_j)\n",
    "            c+=alpha_j*encoder_outputs[j]\n",
    "        \n",
    "\n",
    "        final_input=torch.cat((embedded,c.unsqueeze(0)),dim=2)\n",
    "        \n",
    "        \n",
    "        if(self.cell_type==\"GRU\"):\n",
    "            output,hidden=self.gru(final_input,hidden)\n",
    "        if(self.cell_type==\"RNN\"):\n",
    "            output,hidden=self.rnn(final_input,hidden)\n",
    "        if(self.cell_type==\"LSTM\"):\n",
    "            output, (hidden,state) =self.lstm(final_input,(hidden,state))\n",
    "        \n",
    "        output1=self.linear(output)\n",
    "        \n",
    "        if(self.cell_type==\"GRU\" or self.cell_type==\"RNN\"):\n",
    "            return output1, hidden, c\n",
    "        if(self.cell_type==\"LSTM\"):\n",
    "            return output1, hidden, state, c"
   ]
  },
  {
   "cell_type": "code",
   "execution_count": 14,
   "id": "721f37b0",
   "metadata": {
    "execution": {
     "iopub.execute_input": "2023-05-02T19:21:13.673594Z",
     "iopub.status.busy": "2023-05-02T19:21:13.673008Z",
     "iopub.status.idle": "2023-05-02T19:21:13.691727Z",
     "shell.execute_reply": "2023-05-02T19:21:13.690930Z"
    },
    "papermill": {
     "duration": 0.027142,
     "end_time": "2023-05-02T19:21:13.693550",
     "exception": false,
     "start_time": "2023-05-02T19:21:13.666408",
     "status": "completed"
    },
    "tags": []
   },
   "outputs": [],
   "source": [
    "def train(train_data,encoder,decoder,loss_fun,encoder_optimizer,decoder_optimizer,encoder_layers,decoder_layers,batch_size,hidden_size,bi_directional,cell_type,attention):\n",
    "    total_loss=0\n",
    "    teacher_forcing_ratio=0.5\n",
    "    for i,(train_x,train_y) in enumerate(train_data):\n",
    "        loss=0\n",
    "        encoder_optimizer.zero_grad()\n",
    "        decoder_optimizer.zero_grad()\n",
    "        train_x=train_x.T\n",
    "        train_y=train_y.T\n",
    "        timesteps=len(train_x)\n",
    "        \n",
    "        if cell_type=='GRU' or cell_type=='RNN':\n",
    "            \n",
    "            encoder_hidden=encoder.initHidden()\n",
    "            encoder_output,encoder_hidden=encoder(train_x,encoder_hidden)\n",
    "            if(decoder_layers>encoder_layers):\n",
    "                i = decoder_layers\n",
    "                decoder_hidden=encoder_hidden\n",
    "\n",
    "                while True:\n",
    "                    if(i==encoder_layers):\n",
    "                        break\n",
    "                    # Concatenate the two tensors along the first dimension\n",
    "                    decoder_hidden = torch.cat([decoder_hidden, encoder_hidden[-1].unsqueeze(0)], dim=0)\n",
    "                    i-=1\n",
    "\n",
    "            elif(decoder_layers<encoder_layers):\n",
    "                decoder_hidden=encoder_hidden[-decoder_layers:]\n",
    "\n",
    "            else:\n",
    "                decoder_hidden=encoder_hidden\n",
    "        \n",
    "            decoder_input = train_y[0]\n",
    "            \n",
    "            if(bi_directional==\"Yes\"):\n",
    "                split_tensor= torch.split(encoder_output, hidden_size, dim=-1)\n",
    "                encoder_output=torch.add(split_tensor[0],split_tensor[1])/2\n",
    "            \n",
    "            \n",
    "            use_teacher_forcing = True if random.random() < teacher_forcing_ratio else False\n",
    "            if use_teacher_forcing:\n",
    "                for i in range(0,len(train_y)):\n",
    "                    if(attention==\"Yes\"):\n",
    "                        decoder_output, decoder_hidden, attn_weights=decoder(decoder_input,decoder_hidden,encoder_output,len(train_x))\n",
    "                        loss+=loss_fun(torch.squeeze(decoder_output), train_y[i])\n",
    "                        decoder_input = train_y[i] \n",
    "                    else:\n",
    "                        decoder_output, decoder_hidden= decoder(decoder_input, decoder_hidden)\n",
    "                        loss+=loss_fun(torch.squeeze(decoder_output), train_y[i])\n",
    "                        decoder_input = train_y[i]  # Teacher forcing\n",
    "            else:\n",
    "                for i in range(0,len(train_y)):\n",
    "                    if(attention==\"Yes\"):\n",
    "                        decoder_output, decoder_hidden, attn_weights=decoder(decoder_input,decoder_hidden,encoder_output,len(train_x))\n",
    "                        max_prob,index=decoder_output.topk(1)\n",
    "                        loss+=loss_fun(torch.squeeze(decoder_output), train_y[i])\n",
    "                        decoder_input=index\n",
    "                    else:\n",
    "                        decoder_output,decoder_hidden=decoder(decoder_input,decoder_hidden)\n",
    "                        max_prob,index=decoder_output.topk(1)\n",
    "                        loss+=loss_fun(torch.squeeze(decoder_output), train_y[i])\n",
    "                        decoder_input=index\n",
    "            loss.backward()\n",
    "            encoder_optimizer.step()\n",
    "            decoder_optimizer.step()\n",
    "            total_loss+=loss\n",
    "        \n",
    "        if cell_type=='LSTM':\n",
    "    \n",
    "            encoder_hidden=encoder.initHidden()\n",
    "            encoder_state=encoder.initState()\n",
    "            \n",
    "            encoder_output,encoder_hidden,encoder_state=encoder(train_x,encoder_hidden,encoder_state)\n",
    "        \n",
    "            if(decoder_layers>encoder_layers):\n",
    "                i = decoder_layers\n",
    "                decoder_hidden=encoder_hidden\n",
    "                decoder_state=encoder_state\n",
    "                while True:\n",
    "                    if(i==encoder_layers):\n",
    "                        break\n",
    "                    # Concatenate the two tensors along the first dimension\n",
    "                    decoder_hidden = torch.cat([decoder_hidden, encoder_hidden[-1].unsqueeze(0)], dim=0)\n",
    "                    decoder_state = torch.cat([decoder_state, encoder_state[-1].unsqueeze(0)], dim=0)\n",
    "                    i-=1\n",
    "\n",
    "            elif(decoder_layers<encoder_layers):\n",
    "                decoder_hidden=encoder_hidden[-decoder_layers:]\n",
    "                decoder_state=encoder_state[-decoder_layers:]\n",
    "\n",
    "            else:\n",
    "                decoder_hidden=encoder_hidden\n",
    "                decoder_state=encoder_state\n",
    "            \n",
    "            \n",
    "            if(bi_directional==\"Yes\"):\n",
    "                split_tensor= torch.split(encoder_output, hidden_size, dim=-1)\n",
    "                encoder_output=torch.add(split_tensor[0],split_tensor[1])/2\n",
    "            \n",
    "            decoder_input = train_y[0]\n",
    "            use_teacher_forcing = True if random.random() < teacher_forcing_ratio else False\n",
    "            if use_teacher_forcing:\n",
    "                for i in range(0,len(train_y)):\n",
    "                    if(attention==\"Yes\"):\n",
    "                        decoder_output, decoder_hidden, decoder_state, attn_weights=decoder(decoder_input,decoder_hidden,encoder_output,len(train_x),decoder_state)\n",
    "                        loss+=loss_fun(torch.squeeze(decoder_output), train_y[i])\n",
    "                        decoder_input= train_y[i]\n",
    "                    else:\n",
    "                        decoder_output, decoder_hidden,decoder_state= decoder(decoder_input, decoder_hidden,decoder_state)\n",
    "                        loss+=loss_fun(torch.squeeze(decoder_output), train_y[i])\n",
    "                        decoder_input = train_y[i]  # Teacher forcing\n",
    "            else:\n",
    "                for i in range(0,len(train_y)):\n",
    "                    if(attention==\"Yes\"):\n",
    "                        decoder_output, decoder_hidden, decoder_state, attn_weights=decoder(decoder_input,decoder_hidden,encoder_output,len(train_x),decoder_state)\n",
    "                        max_prob,index=decoder_output.topk(1)\n",
    "                        loss+=loss_fun(torch.squeeze(decoder_output), train_y[i])\n",
    "                        decoder_input=index\n",
    "                    else:\n",
    "                        decoder_output, decoder_hidden,decoder_state= decoder(decoder_input, decoder_hidden,decoder_state)\n",
    "                        max_prob,index=decoder_output.topk(1)\n",
    "                        loss+=loss_fun(torch.squeeze(decoder_output), train_y[i])\n",
    "                        decoder_input=index\n",
    "            loss.backward()\n",
    "            encoder_optimizer.step()\n",
    "            decoder_optimizer.step()\n",
    "            total_loss+=loss\n",
    "\n",
    "        \n",
    "        \n",
    "    return total_loss.item()/len(train_y),encoder,decoder"
   ]
  },
  {
   "cell_type": "code",
   "execution_count": 15,
   "id": "df2ca18f",
   "metadata": {
    "execution": {
     "iopub.execute_input": "2023-05-02T19:21:13.706294Z",
     "iopub.status.busy": "2023-05-02T19:21:13.705583Z",
     "iopub.status.idle": "2023-05-02T19:21:13.716013Z",
     "shell.execute_reply": "2023-05-02T19:21:13.715248Z"
    },
    "papermill": {
     "duration": 0.018709,
     "end_time": "2023-05-02T19:21:13.717772",
     "exception": false,
     "start_time": "2023-05-02T19:21:13.699063",
     "status": "completed"
    },
    "tags": []
   },
   "outputs": [],
   "source": [
    "def train_iter(input_data,val_data,val_y,input_len,target_len,epochs,batch_size,embedding_size,encoder_layers,decoder_layers,hidden_size,cell_type,bi_directional,dropout,beam_size,attention):\n",
    "    lr=0.001\n",
    "    if(cell_type=='GRU'):\n",
    "        encoder=EncoderGRU(input_len,hidden_size,embedding_size,encoder_layers,batch_size,bi_directional,dropout).to(device)\n",
    "        if(attention==\"Yes\"):\n",
    "            decoder=AttnDecoder(target_len,hidden_size,embedding_size,decoder_layers,batch_size,cell_type,dropout).to(device)\n",
    "        else:\n",
    "            decoder=DecoderGRU(target_len,hidden_size,embedding_size,decoder_layers,batch_size,dropout).to(device)\n",
    "        \n",
    "    if(cell_type=='RNN'):\n",
    "        encoder=EncoderRNN(input_len,hidden_size,embedding_size,encoder_layers,batch_size,bi_directional,dropout).to(device)\n",
    "        if(attention==\"Yes\"):\n",
    "            decoder=AttnDecoder(target_len,hidden_size,embedding_size,decoder_layers,batch_size,cell_type,dropout).to(device)\n",
    "        else:\n",
    "            decoder=DecoderRNN(target_len,hidden_size,embedding_size,decoder_layers,batch_size,dropout).to(device)\n",
    "    \n",
    "    if cell_type=='LSTM':\n",
    "        encoder=EncoderLSTM(input_len,hidden_size,embedding_size,encoder_layers,batch_size,bi_directional,dropout).to(device)\n",
    "        if(attention==\"Yes\"):\n",
    "            decoder=AttnDecoder(target_len,hidden_size,embedding_size,decoder_layers,batch_size,cell_type,dropout).to(device)\n",
    "        else:\n",
    "            decoder=DecoderLSTM(target_len,hidden_size,embedding_size,decoder_layers,batch_size,dropout).to(device)\n",
    "\n",
    "    encoder_optimizer=optim.Adam(encoder.parameters(),lr)\n",
    "    decoder_optimizer=optim.Adam(decoder.parameters(),lr)\n",
    "    loss_fun=nn.CrossEntropyLoss(reduction=\"sum\")\n",
    "    epoch_train_loss=[]\n",
    "    epoch_val_loss=[]\n",
    "    epoch_val_acc=[]\n",
    "    for i in range(0,epochs):\n",
    "        encoder.train()\n",
    "        decoder.train()\n",
    "        loss,encoder,decoder=train(input_data,encoder,decoder,loss_fun,encoder_optimizer,decoder_optimizer,\n",
    "                                   encoder_layers,decoder_layers,batch_size,hidden_size,bi_directional,\n",
    "                                   cell_type,attention)\n",
    "        val_predictions,val_loss=eval(val_data,encoder,decoder,encoder_layers,decoder_layers,\n",
    "                                  batch_size,hidden_size,bi_directional,cell_type,attention)\n",
    "        \n",
    "        epoch_val_loss.append(val_loss)\n",
    "        epoch_train_loss.append(loss/51200)\n",
    "        \n",
    "        val_acc=accuracy(val_predictions,val_y)\n",
    "        epoch_val_acc.append(val_acc)\n",
    "        print(loss/51200,val_loss,val_acc)\n",
    "    \n",
    "#     train_predictions,t=eval(input_data,encoder,decoder,encoder_layers,decoder_layers,batch_size,hidden_size,bi_directional,cell_type,attention)\n",
    "    return epoch_train_loss,epoch_val_loss,epoch_val_acc,encoder,decoder,encoder_layers,decoder_layers"
   ]
  },
  {
   "cell_type": "code",
   "execution_count": 16,
   "id": "d34d4277",
   "metadata": {
    "execution": {
     "iopub.execute_input": "2023-05-02T19:21:13.730532Z",
     "iopub.status.busy": "2023-05-02T19:21:13.729940Z",
     "iopub.status.idle": "2023-05-02T19:21:13.746118Z",
     "shell.execute_reply": "2023-05-02T19:21:13.745382Z"
    },
    "papermill": {
     "duration": 0.024538,
     "end_time": "2023-05-02T19:21:13.747936",
     "exception": false,
     "start_time": "2023-05-02T19:21:13.723398",
     "status": "completed"
    },
    "tags": []
   },
   "outputs": [],
   "source": [
    "def eval(input_data,encoder,decoder,encoder_layers,decoder_layers,batch_size,hidden_size,bi_directional,cell_type,attention):\n",
    "    with torch.no_grad():\n",
    "        encoder.eval()\n",
    "        decoder.eval()\n",
    "        loss_fun=nn.CrossEntropyLoss(reduction=\"sum\")\n",
    "        total_loss=0\n",
    "        pred_words=list()\n",
    "        for x,y in input_data:\n",
    "            loss=0\n",
    "            decoder_words=[]\n",
    "            x=x.T\n",
    "            y=y.T\n",
    "            encoder_hidden=encoder.initHidden()\n",
    "            timesteps=len(x)\n",
    "            if cell_type=='GRU' or cell_type=='RNN':\n",
    "\n",
    "                encoder_hidden=encoder.initHidden()\n",
    "                encoder_output,encoder_hidden=encoder(x,encoder_hidden)\n",
    "                if(decoder_layers>encoder_layers):\n",
    "                    i = decoder_layers\n",
    "                    decoder_hidden=encoder_hidden\n",
    "\n",
    "                    while True:\n",
    "                        if(i==encoder_layers):\n",
    "                            break\n",
    "                        # Concatenate the two tensors along the first dimension\n",
    "                        decoder_hidden = torch.cat([decoder_hidden, encoder_hidden[-1].unsqueeze(0)], dim=0)\n",
    "                        i-=1\n",
    "\n",
    "                elif(decoder_layers<encoder_layers):\n",
    "                    decoder_hidden=encoder_hidden[-decoder_layers:]\n",
    "\n",
    "                else:\n",
    "                    decoder_hidden=encoder_hidden\n",
    "\n",
    "                decoder_input = y[0]\n",
    "\n",
    "                if(bi_directional==\"Yes\"):\n",
    "                    split_tensor= torch.split(encoder_output, hidden_size, dim=-1)\n",
    "                    encoder_output=torch.add(split_tensor[0],split_tensor[1])/2\n",
    "\n",
    "                for i in range(0,len(y)):\n",
    "                    if(attention==\"Yes\"):\n",
    "                        decoder_output, decoder_hidden, attn_weights=decoder(decoder_input,decoder_hidden,encoder_output,len(x))\n",
    "                        max_prob,index=decoder_output.topk(1)\n",
    "                        loss+=loss_fun(torch.squeeze(decoder_output), y[i])\n",
    "                        index=index.squeeze()\n",
    "                        decoder_input=index\n",
    "                        decoder_words.append(index.tolist())\n",
    "                    else:\n",
    "                        decoder_output,decoder_hidden=decoder(decoder_input,decoder_hidden)\n",
    "                        max_prob,index=decoder_output.topk(1)\n",
    "                        loss+=loss_fun(torch.squeeze(decoder_output), y[i])\n",
    "                        index=index.squeeze()\n",
    "                        decoder_input=index\n",
    "                        decoder_words.append(index.tolist())\n",
    "                decoder_words=np.array(decoder_words)\n",
    "                pred_words.append(decoder_words.T)\n",
    "                total_loss+=loss.item()\n",
    "\n",
    "\n",
    "            if cell_type=='LSTM':\n",
    "\n",
    "                encoder_hidden=encoder.initHidden()\n",
    "                encoder_state=encoder.initState()\n",
    "\n",
    "                encoder_output,encoder_hidden,encoder_state=encoder(x,encoder_hidden,encoder_state)\n",
    "\n",
    "                if(decoder_layers>encoder_layers):\n",
    "                    i = decoder_layers\n",
    "                    decoder_hidden=encoder_hidden\n",
    "                    decoder_state=encoder_state\n",
    "                    while True:\n",
    "                        if(i==encoder_layers):\n",
    "                            break\n",
    "                        # Concatenate the two tensors along the first dimension\n",
    "                        decoder_hidden = torch.cat([decoder_hidden, encoder_hidden[-1].unsqueeze(0)], dim=0)\n",
    "                        decoder_state = torch.cat([decoder_state, encoder_state[-1].unsqueeze(0)], dim=0)\n",
    "                        i-=1\n",
    "\n",
    "                elif(decoder_layers<encoder_layers):\n",
    "                    decoder_hidden=encoder_hidden[-decoder_layers:]\n",
    "                    decoder_state=encoder_state[-decoder_layers:]\n",
    "\n",
    "                else:\n",
    "                    decoder_hidden=encoder_hidden\n",
    "                    decoder_state=encoder_state\n",
    "\n",
    "\n",
    "                if(bi_directional==\"Yes\"):\n",
    "                    split_tensor= torch.split(encoder_output, hidden_size, dim=-1)\n",
    "                    encoder_output=torch.add(split_tensor[0],split_tensor[1])/2\n",
    "                decoder_input = y[0]\n",
    "\n",
    "                for i in range(0,len(y)):\n",
    "                    if(attention==\"Yes\"):\n",
    "                        decoder_output, decoder_hidden, decoder_state, attn_weights=decoder(decoder_input,decoder_hidden,encoder_output,len(x),decoder_state)\n",
    "                        max_prob,index=decoder_output.topk(1)\n",
    "                        loss+=loss_fun(torch.squeeze(decoder_output), y[i])\n",
    "                        index=index.squeeze()\n",
    "                        decoder_input=index\n",
    "                        decoder_words.append(index.tolist())\n",
    "                    else:\n",
    "                        decoder_output, decoder_hidden,decoder_state= decoder(decoder_input, decoder_hidden,decoder_state)\n",
    "                        max_prob,index=decoder_output.topk(1)\n",
    "                        loss+=loss_fun(torch.squeeze(decoder_output), y[i])\n",
    "                        index=index.squeeze()\n",
    "                        decoder_input=index\n",
    "                        decoder_words.append(index.tolist())\n",
    "                decoder_words=np.array(decoder_words)\n",
    "                pred_words.append(decoder_words.T)\n",
    "                total_loss+=loss.item()\n",
    "\n",
    "\n",
    "        predictions=[]\n",
    "        for batch in pred_words:\n",
    "            for word in batch:\n",
    "                predictions.append(word)\n",
    "\n",
    "    return predictions,total_loss/(len(predictions)*len(predictions[0]))"
   ]
  },
  {
   "cell_type": "code",
   "execution_count": 17,
   "id": "88a48437",
   "metadata": {
    "execution": {
     "iopub.execute_input": "2023-05-02T19:21:13.760543Z",
     "iopub.status.busy": "2023-05-02T19:21:13.759866Z",
     "iopub.status.idle": "2023-05-02T19:21:13.764940Z",
     "shell.execute_reply": "2023-05-02T19:21:13.764145Z"
    },
    "papermill": {
     "duration": 0.013318,
     "end_time": "2023-05-02T19:21:13.766824",
     "exception": false,
     "start_time": "2023-05-02T19:21:13.753506",
     "status": "completed"
    },
    "tags": []
   },
   "outputs": [],
   "source": [
    "def accuracy(predictions,y):\n",
    "    count=0\n",
    "#     print(len(y),len(y[0]))\n",
    "    for i in range(0,len(predictions)):\n",
    "        p=predictions[i]\n",
    "        if np.array_equal(p,y[i]):\n",
    "            count+=1\n",
    "    return (count/len(predictions))*100"
   ]
  },
  {
   "cell_type": "markdown",
   "id": "17b9c91a",
   "metadata": {
    "papermill": {
     "duration": 0.005499,
     "end_time": "2023-05-02T19:21:13.778035",
     "exception": false,
     "start_time": "2023-05-02T19:21:13.772536",
     "status": "completed"
    },
    "tags": []
   },
   "source": [
    "## MODEL"
   ]
  },
  {
   "cell_type": "code",
   "execution_count": 18,
   "id": "3e7cac34",
   "metadata": {
    "execution": {
     "iopub.execute_input": "2023-05-02T19:21:13.790850Z",
     "iopub.status.busy": "2023-05-02T19:21:13.790162Z",
     "iopub.status.idle": "2023-05-02T19:21:13.794194Z",
     "shell.execute_reply": "2023-05-02T19:21:13.793424Z"
    },
    "papermill": {
     "duration": 0.01222,
     "end_time": "2023-05-02T19:21:13.795923",
     "exception": false,
     "start_time": "2023-05-02T19:21:13.783703",
     "status": "completed"
    },
    "tags": []
   },
   "outputs": [],
   "source": [
    "# epochs=1\n",
    "# batchsize=256\n",
    "# embedding_size=256\n",
    "# encoder_layers=3\n",
    "# decoder_layers=2\n",
    "# hidden_size=256\n",
    "# cell_type=\"LSTM\"\n",
    "# bi_directional=\"Yes\"\n",
    "# dropout=0.5\n",
    "# beam_size=16\n",
    "# attention=\"Yes\""
   ]
  },
  {
   "cell_type": "code",
   "execution_count": 19,
   "id": "f745a8e9",
   "metadata": {
    "execution": {
     "iopub.execute_input": "2023-05-02T19:21:13.809227Z",
     "iopub.status.busy": "2023-05-02T19:21:13.808542Z",
     "iopub.status.idle": "2023-05-02T19:21:13.812845Z",
     "shell.execute_reply": "2023-05-02T19:21:13.811990Z"
    },
    "papermill": {
     "duration": 0.012771,
     "end_time": "2023-05-02T19:21:13.814645",
     "exception": false,
     "start_time": "2023-05-02T19:21:13.801874",
     "status": "completed"
    },
    "tags": []
   },
   "outputs": [],
   "source": [
    "# train_df,test_df,val_df,eng_to_idx,hin_to_idx,idx_to_eng,idx_to_hin,input_len,target_len=get_data()\n",
    "\n",
    "# train_x,train_y = pre_process(train_df,eng_to_idx,hin_to_idx)\n",
    "# test_x,test_y = pre_process(test_df,eng_to_idx,hin_to_idx)\n",
    "# val_x,val_y = pre_process(val_df,eng_to_idx,hin_to_idx)\n",
    "\n",
    "# train_dataset=MyDataset(train_x,train_y)\n",
    "# test_dataset=MyDataset(test_x,test_y)\n",
    "# val_dataset=MyDataset(val_x,val_y)\n",
    "\n",
    "\n",
    "# train_dataloader=DataLoader(train_dataset,batch_size=batchsize)\n",
    "# test_dataloader=DataLoader(test_dataset,batch_size=batchsize)\n",
    "# val_dataloader=DataLoader(val_dataset,batch_size=batchsize)"
   ]
  },
  {
   "cell_type": "code",
   "execution_count": 20,
   "id": "44676ac7",
   "metadata": {
    "execution": {
     "iopub.execute_input": "2023-05-02T19:21:13.827250Z",
     "iopub.status.busy": "2023-05-02T19:21:13.827006Z",
     "iopub.status.idle": "2023-05-02T19:21:13.830655Z",
     "shell.execute_reply": "2023-05-02T19:21:13.829804Z"
    },
    "papermill": {
     "duration": 0.01198,
     "end_time": "2023-05-02T19:21:13.832433",
     "exception": false,
     "start_time": "2023-05-02T19:21:13.820453",
     "status": "completed"
    },
    "tags": []
   },
   "outputs": [],
   "source": [
    "# epoch_train_loss,epoch_val_loss,epoch_val_acc,encoder,decoder,encoder_layers,decoder_layers=train_iter(train_dataloader,val_dataloader,val_y,input_len,target_len,epochs,batchsize,embedding_size,encoder_layers,decoder_layers,hidden_size,cell_type,bi_directional,dropout,beam_size,attention)"
   ]
  },
  {
   "cell_type": "code",
   "execution_count": 21,
   "id": "bb23ad56",
   "metadata": {
    "execution": {
     "iopub.execute_input": "2023-05-02T19:21:13.844843Z",
     "iopub.status.busy": "2023-05-02T19:21:13.844594Z",
     "iopub.status.idle": "2023-05-02T19:21:13.848018Z",
     "shell.execute_reply": "2023-05-02T19:21:13.847150Z"
    },
    "papermill": {
     "duration": 0.011628,
     "end_time": "2023-05-02T19:21:13.849761",
     "exception": false,
     "start_time": "2023-05-02T19:21:13.838133",
     "status": "completed"
    },
    "tags": []
   },
   "outputs": [],
   "source": [
    "# test_predictions=eval(test_dataloader,encoder,decoder,encoder_layers,decoder_layers,batchsize,hidden_size,bi_directional,cell_type,attention)"
   ]
  },
  {
   "cell_type": "markdown",
   "id": "c7763599",
   "metadata": {
    "papermill": {
     "duration": 0.00575,
     "end_time": "2023-05-02T19:21:13.861361",
     "exception": false,
     "start_time": "2023-05-02T19:21:13.855611",
     "status": "completed"
    },
    "tags": []
   },
   "source": [
    "## INTEGRATING WITH WANDB"
   ]
  },
  {
   "cell_type": "code",
   "execution_count": 22,
   "id": "c602f06d",
   "metadata": {
    "execution": {
     "iopub.execute_input": "2023-05-02T19:21:13.874253Z",
     "iopub.status.busy": "2023-05-02T19:21:13.874022Z",
     "iopub.status.idle": "2023-05-02T19:21:13.885899Z",
     "shell.execute_reply": "2023-05-02T19:21:13.885039Z"
    },
    "papermill": {
     "duration": 0.020545,
     "end_time": "2023-05-02T19:21:13.887660",
     "exception": false,
     "start_time": "2023-05-02T19:21:13.867115",
     "status": "completed"
    },
    "tags": []
   },
   "outputs": [],
   "source": [
    "def wandb_run_sweeps(train_dataset,val_dataset,test_dataset,train_y,val_y,test_y,input_len,target_len):\n",
    "    \n",
    "    config = {\n",
    "        \"project\":\"CS6910_Assignment3\",\n",
    "        \"method\": 'random',\n",
    "        \"metric\": {\n",
    "        'name': 'acc',\n",
    "        'goal': 'maximize'\n",
    "        },\n",
    "        'parameters' :{\n",
    "        \"epochs\": {\"values\":[10,20]},\n",
    "        \"batchsize\": {\"values\": [64,128,256]},\n",
    "        \"embedding_size\": {\"values\":[16, 32, 64, 256, 512]},\n",
    "        \"hidden_size\": {\"values\":[16, 32, 64, 256, 512]},\n",
    "        \"encoder_layers\": {\"values\":[2,3,4]},\n",
    "        \"decoder_layers\": {\"values\":[2,3,4]},\n",
    "        \"cell_type\": {\"values\":[\"RNN\",\"GRU\",\"LSTM\"]},\n",
    "        \"bi_directional\":{\"values\":[\"Yes\",\"No\"]},\n",
    "        \"dropout\":{\"values\":[0.1,0.2,0.5]},\n",
    "        \"attention\":{\"values\":[\"Yes\",\"No\"]},\n",
    "        \"beam_size\":{\"values\":[5,10,15]}\n",
    "        }\n",
    "    }\n",
    "    def train_rnn():\n",
    "        wandb.init()\n",
    "\n",
    "        name='_CT_'+str(wandb.config.cell_type)+\"_BS_\"+str(wandb.config.batchsize)+\"_EPOCH_\"+str(wandb.config.epochs)+\"_ES_\"+str(wandb.config.embedding_size)+\"_HS_\"+str(wandb.config.hidden_size)\n",
    "        \n",
    "        \n",
    "        train_dataloader=DataLoader(train_dataset,batch_size=wandb.config.batchsize)\n",
    "        test_dataloader=DataLoader(test_dataset,batch_size=wandb.config.batchsize)\n",
    "        val_dataloader=DataLoader(val_dataset,batch_size=wandb.config.batchsize)\n",
    "        \n",
    "        epoch_train_loss,epoch_val_loss,\n",
    "        epoch_val_acc,encoder,decoder,\n",
    "        encoder_layers,decoder_layers=train_iter(train_dataloader,val_dataloader,val_y,\n",
    "                                                 input_len,target_len,wandb.config.epochs,\n",
    "                                                 wandb.config.batchsize,wandb.config.embedding_size,\n",
    "                                                 wandb.config.encoder_layers,wandb.config.decoder_layers,\n",
    "                                                 wandb.config.hidden_size,wandb.config.cell_type,\n",
    "                                                 wandb.config.bi_directional,\n",
    "                                                 wandb.config.dropout,wandb.config.beam_size,wandb.config.attention)\n",
    "\n",
    "        for i in range(wandb.config.epochs):\n",
    "            wandb.log({\"loss\":epoch_train_loss[i]})\n",
    "            wandb.log({\"val_loss\":epoch_val_loss[i]})\n",
    "            wandb.log({\"val_acc\":epoch_val_acc[i]})\n",
    "            wandb.log({\"epoch\": (i+1)})\n",
    "        wandb.log({\"validation_accuracy\":acc_val[-1]})    \n",
    "        \n",
    "        train_predictions=eval(train_dataloader,encoder,decoder,encoder_layers,\n",
    "                              decoder_layers,batchsize,hidden_size,\n",
    "                              bi_directional,cell_type,attention)\n",
    "\n",
    "        train_accuracy=accuracy(train_predictions,train_y)\n",
    "        wandb.log({\"train_accuracy\":train_accuracy})\n",
    "        \n",
    "        test_predictions=eval(test_dataloader,encoder,decoder,encoder_layers,\n",
    "                              decoder_layers,batchsize,hidden_size,\n",
    "                              bi_directional,cell_type,attention)\n",
    "\n",
    "        test_accuracy=accuracy(test_predictions,test_y)\n",
    "        wandb.log({\"test_accuracy\":test_accuracy})\n",
    "        wandb.run.name = name\n",
    "        wandb.run.save()\n",
    "        wandb.run.finish()\n",
    "    wandb.login(key=\"aecb4b665a37b40204530b0627a42274aeddd3e1\")\n",
    "    sweep_id=wandb.sweep(config,project=\"CS6910_Assignment3\")\n",
    "    wandb.agent(sweep_id,function=train_rnn,count=20)"
   ]
  },
  {
   "cell_type": "code",
   "execution_count": 23,
   "id": "3a081723",
   "metadata": {
    "execution": {
     "iopub.execute_input": "2023-05-02T19:21:13.900627Z",
     "iopub.status.busy": "2023-05-02T19:21:13.900185Z",
     "iopub.status.idle": "2023-05-02T19:25:58.301081Z",
     "shell.execute_reply": "2023-05-02T19:25:58.299688Z"
    },
    "papermill": {
     "duration": 284.409573,
     "end_time": "2023-05-02T19:25:58.303113",
     "exception": false,
     "start_time": "2023-05-02T19:21:13.893540",
     "status": "completed"
    },
    "tags": []
   },
   "outputs": [
    {
     "name": "stderr",
     "output_type": "stream",
     "text": [
      "\u001b[34m\u001b[1mwandb\u001b[0m: W&B API key is configured. Use \u001b[1m`wandb login --relogin`\u001b[0m to force relogin\n",
      "\u001b[34m\u001b[1mwandb\u001b[0m: \u001b[33mWARNING\u001b[0m If you're specifying your api key in code, ensure this code is not shared publicly.\n",
      "\u001b[34m\u001b[1mwandb\u001b[0m: \u001b[33mWARNING\u001b[0m Consider setting the WANDB_API_KEY environment variable, or running `wandb login` from the command line.\n",
      "\u001b[34m\u001b[1mwandb\u001b[0m: Appending key for api.wandb.ai to your netrc file: /root/.netrc\n"
     ]
    },
    {
     "name": "stdout",
     "output_type": "stream",
     "text": [
      "Create sweep with ID: hphey2rd\n",
      "Sweep URL: https://wandb.ai/cs22m078/CS6910_Assignment3/sweeps/hphey2rd\n"
     ]
    },
    {
     "name": "stderr",
     "output_type": "stream",
     "text": [
      "\u001b[34m\u001b[1mwandb\u001b[0m: Agent Starting Run: bp0mqxxs with config:\n",
      "\u001b[34m\u001b[1mwandb\u001b[0m: \tattention: Yes\n",
      "\u001b[34m\u001b[1mwandb\u001b[0m: \tbatchsize: 64\n",
      "\u001b[34m\u001b[1mwandb\u001b[0m: \tbeam_size: 10\n",
      "\u001b[34m\u001b[1mwandb\u001b[0m: \tbi_directional: No\n",
      "\u001b[34m\u001b[1mwandb\u001b[0m: \tcell_type: GRU\n",
      "\u001b[34m\u001b[1mwandb\u001b[0m: \tdecoder_layers: 3\n",
      "\u001b[34m\u001b[1mwandb\u001b[0m: \tdropout: 0.5\n",
      "\u001b[34m\u001b[1mwandb\u001b[0m: \tembedding_size: 256\n",
      "\u001b[34m\u001b[1mwandb\u001b[0m: \tencoder_layers: 4\n",
      "\u001b[34m\u001b[1mwandb\u001b[0m: \tepochs: 20\n",
      "\u001b[34m\u001b[1mwandb\u001b[0m: \thidden_size: 256\n",
      "\u001b[34m\u001b[1mwandb\u001b[0m: Currently logged in as: \u001b[33mcs22m078\u001b[0m. Use \u001b[1m`wandb login --relogin`\u001b[0m to force relogin\n"
     ]
    },
    {
     "data": {
      "text/html": [
       "wandb version 0.15.1 is available!  To upgrade, please run:\n",
       " $ pip install wandb --upgrade"
      ],
      "text/plain": [
       "<IPython.core.display.HTML object>"
      ]
     },
     "metadata": {},
     "output_type": "display_data"
    },
    {
     "data": {
      "text/html": [
       "Tracking run with wandb version 0.15.0"
      ],
      "text/plain": [
       "<IPython.core.display.HTML object>"
      ]
     },
     "metadata": {},
     "output_type": "display_data"
    },
    {
     "data": {
      "text/html": [
       "Run data is saved locally in <code>/kaggle/working/wandb/run-20230502_192130-bp0mqxxs</code>"
      ],
      "text/plain": [
       "<IPython.core.display.HTML object>"
      ]
     },
     "metadata": {},
     "output_type": "display_data"
    },
    {
     "data": {
      "text/html": [
       "Syncing run <strong><a href='https://wandb.ai/cs22m078/CS6910_Assignment3/runs/bp0mqxxs' target=\"_blank\">elated-sweep-1</a></strong> to <a href='https://wandb.ai/cs22m078/CS6910_Assignment3' target=\"_blank\">Weights & Biases</a> (<a href='https://wandb.me/run' target=\"_blank\">docs</a>)<br/>Sweep page: <a href='https://wandb.ai/cs22m078/CS6910_Assignment3/sweeps/hphey2rd' target=\"_blank\">https://wandb.ai/cs22m078/CS6910_Assignment3/sweeps/hphey2rd</a>"
      ],
      "text/plain": [
       "<IPython.core.display.HTML object>"
      ]
     },
     "metadata": {},
     "output_type": "display_data"
    },
    {
     "data": {
      "text/html": [
       " View project at <a href='https://wandb.ai/cs22m078/CS6910_Assignment3' target=\"_blank\">https://wandb.ai/cs22m078/CS6910_Assignment3</a>"
      ],
      "text/plain": [
       "<IPython.core.display.HTML object>"
      ]
     },
     "metadata": {},
     "output_type": "display_data"
    },
    {
     "data": {
      "text/html": [
       " View sweep at <a href='https://wandb.ai/cs22m078/CS6910_Assignment3/sweeps/hphey2rd' target=\"_blank\">https://wandb.ai/cs22m078/CS6910_Assignment3/sweeps/hphey2rd</a>"
      ],
      "text/plain": [
       "<IPython.core.display.HTML object>"
      ]
     },
     "metadata": {},
     "output_type": "display_data"
    },
    {
     "data": {
      "text/html": [
       " View run at <a href='https://wandb.ai/cs22m078/CS6910_Assignment3/runs/bp0mqxxs' target=\"_blank\">https://wandb.ai/cs22m078/CS6910_Assignment3/runs/bp0mqxxs</a>"
      ],
      "text/plain": [
       "<IPython.core.display.HTML object>"
      ]
     },
     "metadata": {},
     "output_type": "display_data"
    },
    {
     "data": {
      "text/html": [
       "Waiting for W&B process to finish... <strong style=\"color:red\">(failed 1).</strong> Press Control-C to abort syncing."
      ],
      "text/plain": [
       "<IPython.core.display.HTML object>"
      ]
     },
     "metadata": {},
     "output_type": "display_data"
    },
    {
     "data": {
      "text/html": [
       " View run <strong style=\"color:#cdcd00\">elated-sweep-1</strong> at: <a href='https://wandb.ai/cs22m078/CS6910_Assignment3/runs/bp0mqxxs' target=\"_blank\">https://wandb.ai/cs22m078/CS6910_Assignment3/runs/bp0mqxxs</a><br/>Synced 5 W&B file(s), 0 media file(s), 0 artifact file(s) and 0 other file(s)"
      ],
      "text/plain": [
       "<IPython.core.display.HTML object>"
      ]
     },
     "metadata": {},
     "output_type": "display_data"
    },
    {
     "data": {
      "text/html": [
       "Find logs at: <code>./wandb/run-20230502_192130-bp0mqxxs/logs</code>"
      ],
      "text/plain": [
       "<IPython.core.display.HTML object>"
      ]
     },
     "metadata": {},
     "output_type": "display_data"
    },
    {
     "name": "stderr",
     "output_type": "stream",
     "text": [
      "Run bp0mqxxs errored: NameError(\"name 'epoch_train_loss' is not defined\")\n",
      "\u001b[34m\u001b[1mwandb\u001b[0m: \u001b[32m\u001b[41mERROR\u001b[0m Run bp0mqxxs errored: NameError(\"name 'epoch_train_loss' is not defined\")\n",
      "\u001b[34m\u001b[1mwandb\u001b[0m: Agent Starting Run: r25an33g with config:\n",
      "\u001b[34m\u001b[1mwandb\u001b[0m: \tattention: No\n",
      "\u001b[34m\u001b[1mwandb\u001b[0m: \tbatchsize: 128\n",
      "\u001b[34m\u001b[1mwandb\u001b[0m: \tbeam_size: 15\n",
      "\u001b[34m\u001b[1mwandb\u001b[0m: \tbi_directional: No\n",
      "\u001b[34m\u001b[1mwandb\u001b[0m: \tcell_type: LSTM\n",
      "\u001b[34m\u001b[1mwandb\u001b[0m: \tdecoder_layers: 4\n",
      "\u001b[34m\u001b[1mwandb\u001b[0m: \tdropout: 0.1\n",
      "\u001b[34m\u001b[1mwandb\u001b[0m: \tembedding_size: 32\n",
      "\u001b[34m\u001b[1mwandb\u001b[0m: \tencoder_layers: 3\n",
      "\u001b[34m\u001b[1mwandb\u001b[0m: \tepochs: 20\n",
      "\u001b[34m\u001b[1mwandb\u001b[0m: \thidden_size: 512\n"
     ]
    },
    {
     "data": {
      "text/html": [
       "wandb version 0.15.1 is available!  To upgrade, please run:\n",
       " $ pip install wandb --upgrade"
      ],
      "text/plain": [
       "<IPython.core.display.HTML object>"
      ]
     },
     "metadata": {},
     "output_type": "display_data"
    },
    {
     "data": {
      "text/html": [
       "Tracking run with wandb version 0.15.0"
      ],
      "text/plain": [
       "<IPython.core.display.HTML object>"
      ]
     },
     "metadata": {},
     "output_type": "display_data"
    },
    {
     "data": {
      "text/html": [
       "Run data is saved locally in <code>/kaggle/working/wandb/run-20230502_192217-r25an33g</code>"
      ],
      "text/plain": [
       "<IPython.core.display.HTML object>"
      ]
     },
     "metadata": {},
     "output_type": "display_data"
    },
    {
     "data": {
      "text/html": [
       "Syncing run <strong><a href='https://wandb.ai/cs22m078/CS6910_Assignment3/runs/r25an33g' target=\"_blank\">fiery-sweep-2</a></strong> to <a href='https://wandb.ai/cs22m078/CS6910_Assignment3' target=\"_blank\">Weights & Biases</a> (<a href='https://wandb.me/run' target=\"_blank\">docs</a>)<br/>Sweep page: <a href='https://wandb.ai/cs22m078/CS6910_Assignment3/sweeps/hphey2rd' target=\"_blank\">https://wandb.ai/cs22m078/CS6910_Assignment3/sweeps/hphey2rd</a>"
      ],
      "text/plain": [
       "<IPython.core.display.HTML object>"
      ]
     },
     "metadata": {},
     "output_type": "display_data"
    },
    {
     "data": {
      "text/html": [
       " View project at <a href='https://wandb.ai/cs22m078/CS6910_Assignment3' target=\"_blank\">https://wandb.ai/cs22m078/CS6910_Assignment3</a>"
      ],
      "text/plain": [
       "<IPython.core.display.HTML object>"
      ]
     },
     "metadata": {},
     "output_type": "display_data"
    },
    {
     "data": {
      "text/html": [
       " View sweep at <a href='https://wandb.ai/cs22m078/CS6910_Assignment3/sweeps/hphey2rd' target=\"_blank\">https://wandb.ai/cs22m078/CS6910_Assignment3/sweeps/hphey2rd</a>"
      ],
      "text/plain": [
       "<IPython.core.display.HTML object>"
      ]
     },
     "metadata": {},
     "output_type": "display_data"
    },
    {
     "data": {
      "text/html": [
       " View run at <a href='https://wandb.ai/cs22m078/CS6910_Assignment3/runs/r25an33g' target=\"_blank\">https://wandb.ai/cs22m078/CS6910_Assignment3/runs/r25an33g</a>"
      ],
      "text/plain": [
       "<IPython.core.display.HTML object>"
      ]
     },
     "metadata": {},
     "output_type": "display_data"
    },
    {
     "data": {
      "text/html": [
       "Waiting for W&B process to finish... <strong style=\"color:red\">(failed 1).</strong> Press Control-C to abort syncing."
      ],
      "text/plain": [
       "<IPython.core.display.HTML object>"
      ]
     },
     "metadata": {},
     "output_type": "display_data"
    },
    {
     "data": {
      "text/html": [
       " View run <strong style=\"color:#cdcd00\">fiery-sweep-2</strong> at: <a href='https://wandb.ai/cs22m078/CS6910_Assignment3/runs/r25an33g' target=\"_blank\">https://wandb.ai/cs22m078/CS6910_Assignment3/runs/r25an33g</a><br/>Synced 5 W&B file(s), 0 media file(s), 0 artifact file(s) and 0 other file(s)"
      ],
      "text/plain": [
       "<IPython.core.display.HTML object>"
      ]
     },
     "metadata": {},
     "output_type": "display_data"
    },
    {
     "data": {
      "text/html": [
       "Find logs at: <code>./wandb/run-20230502_192217-r25an33g/logs</code>"
      ],
      "text/plain": [
       "<IPython.core.display.HTML object>"
      ]
     },
     "metadata": {},
     "output_type": "display_data"
    },
    {
     "name": "stderr",
     "output_type": "stream",
     "text": [
      "Run r25an33g errored: NameError(\"name 'epoch_train_loss' is not defined\")\n",
      "\u001b[34m\u001b[1mwandb\u001b[0m: \u001b[32m\u001b[41mERROR\u001b[0m Run r25an33g errored: NameError(\"name 'epoch_train_loss' is not defined\")\n",
      "\u001b[34m\u001b[1mwandb\u001b[0m: Agent Starting Run: 1r6eaxls with config:\n",
      "\u001b[34m\u001b[1mwandb\u001b[0m: \tattention: No\n",
      "\u001b[34m\u001b[1mwandb\u001b[0m: \tbatchsize: 256\n",
      "\u001b[34m\u001b[1mwandb\u001b[0m: \tbeam_size: 10\n",
      "\u001b[34m\u001b[1mwandb\u001b[0m: \tbi_directional: No\n",
      "\u001b[34m\u001b[1mwandb\u001b[0m: \tcell_type: RNN\n",
      "\u001b[34m\u001b[1mwandb\u001b[0m: \tdecoder_layers: 4\n",
      "\u001b[34m\u001b[1mwandb\u001b[0m: \tdropout: 0.5\n",
      "\u001b[34m\u001b[1mwandb\u001b[0m: \tembedding_size: 256\n",
      "\u001b[34m\u001b[1mwandb\u001b[0m: \tencoder_layers: 4\n",
      "\u001b[34m\u001b[1mwandb\u001b[0m: \tepochs: 10\n",
      "\u001b[34m\u001b[1mwandb\u001b[0m: \thidden_size: 64\n"
     ]
    },
    {
     "data": {
      "text/html": [
       "wandb version 0.15.1 is available!  To upgrade, please run:\n",
       " $ pip install wandb --upgrade"
      ],
      "text/plain": [
       "<IPython.core.display.HTML object>"
      ]
     },
     "metadata": {},
     "output_type": "display_data"
    },
    {
     "data": {
      "text/html": [
       "Tracking run with wandb version 0.15.0"
      ],
      "text/plain": [
       "<IPython.core.display.HTML object>"
      ]
     },
     "metadata": {},
     "output_type": "display_data"
    },
    {
     "data": {
      "text/html": [
       "Run data is saved locally in <code>/kaggle/working/wandb/run-20230502_192302-1r6eaxls</code>"
      ],
      "text/plain": [
       "<IPython.core.display.HTML object>"
      ]
     },
     "metadata": {},
     "output_type": "display_data"
    },
    {
     "data": {
      "text/html": [
       "Syncing run <strong><a href='https://wandb.ai/cs22m078/CS6910_Assignment3/runs/1r6eaxls' target=\"_blank\">sparkling-sweep-3</a></strong> to <a href='https://wandb.ai/cs22m078/CS6910_Assignment3' target=\"_blank\">Weights & Biases</a> (<a href='https://wandb.me/run' target=\"_blank\">docs</a>)<br/>Sweep page: <a href='https://wandb.ai/cs22m078/CS6910_Assignment3/sweeps/hphey2rd' target=\"_blank\">https://wandb.ai/cs22m078/CS6910_Assignment3/sweeps/hphey2rd</a>"
      ],
      "text/plain": [
       "<IPython.core.display.HTML object>"
      ]
     },
     "metadata": {},
     "output_type": "display_data"
    },
    {
     "data": {
      "text/html": [
       " View project at <a href='https://wandb.ai/cs22m078/CS6910_Assignment3' target=\"_blank\">https://wandb.ai/cs22m078/CS6910_Assignment3</a>"
      ],
      "text/plain": [
       "<IPython.core.display.HTML object>"
      ]
     },
     "metadata": {},
     "output_type": "display_data"
    },
    {
     "data": {
      "text/html": [
       " View sweep at <a href='https://wandb.ai/cs22m078/CS6910_Assignment3/sweeps/hphey2rd' target=\"_blank\">https://wandb.ai/cs22m078/CS6910_Assignment3/sweeps/hphey2rd</a>"
      ],
      "text/plain": [
       "<IPython.core.display.HTML object>"
      ]
     },
     "metadata": {},
     "output_type": "display_data"
    },
    {
     "data": {
      "text/html": [
       " View run at <a href='https://wandb.ai/cs22m078/CS6910_Assignment3/runs/1r6eaxls' target=\"_blank\">https://wandb.ai/cs22m078/CS6910_Assignment3/runs/1r6eaxls</a>"
      ],
      "text/plain": [
       "<IPython.core.display.HTML object>"
      ]
     },
     "metadata": {},
     "output_type": "display_data"
    },
    {
     "data": {
      "text/html": [
       "Waiting for W&B process to finish... <strong style=\"color:red\">(failed 1).</strong> Press Control-C to abort syncing."
      ],
      "text/plain": [
       "<IPython.core.display.HTML object>"
      ]
     },
     "metadata": {},
     "output_type": "display_data"
    },
    {
     "data": {
      "text/html": [
       " View run <strong style=\"color:#cdcd00\">sparkling-sweep-3</strong> at: <a href='https://wandb.ai/cs22m078/CS6910_Assignment3/runs/1r6eaxls' target=\"_blank\">https://wandb.ai/cs22m078/CS6910_Assignment3/runs/1r6eaxls</a><br/>Synced 5 W&B file(s), 0 media file(s), 0 artifact file(s) and 0 other file(s)"
      ],
      "text/plain": [
       "<IPython.core.display.HTML object>"
      ]
     },
     "metadata": {},
     "output_type": "display_data"
    },
    {
     "data": {
      "text/html": [
       "Find logs at: <code>./wandb/run-20230502_192302-1r6eaxls/logs</code>"
      ],
      "text/plain": [
       "<IPython.core.display.HTML object>"
      ]
     },
     "metadata": {},
     "output_type": "display_data"
    },
    {
     "name": "stderr",
     "output_type": "stream",
     "text": [
      "Run 1r6eaxls errored: NameError(\"name 'epoch_train_loss' is not defined\")\n",
      "\u001b[34m\u001b[1mwandb\u001b[0m: \u001b[32m\u001b[41mERROR\u001b[0m Run 1r6eaxls errored: NameError(\"name 'epoch_train_loss' is not defined\")\n",
      "\u001b[34m\u001b[1mwandb\u001b[0m: Agent Starting Run: kc65o5od with config:\n",
      "\u001b[34m\u001b[1mwandb\u001b[0m: \tattention: No\n",
      "\u001b[34m\u001b[1mwandb\u001b[0m: \tbatchsize: 128\n",
      "\u001b[34m\u001b[1mwandb\u001b[0m: \tbeam_size: 5\n",
      "\u001b[34m\u001b[1mwandb\u001b[0m: \tbi_directional: No\n",
      "\u001b[34m\u001b[1mwandb\u001b[0m: \tcell_type: GRU\n",
      "\u001b[34m\u001b[1mwandb\u001b[0m: \tdecoder_layers: 3\n",
      "\u001b[34m\u001b[1mwandb\u001b[0m: \tdropout: 0.2\n",
      "\u001b[34m\u001b[1mwandb\u001b[0m: \tembedding_size: 32\n",
      "\u001b[34m\u001b[1mwandb\u001b[0m: \tencoder_layers: 2\n",
      "\u001b[34m\u001b[1mwandb\u001b[0m: \tepochs: 20\n",
      "\u001b[34m\u001b[1mwandb\u001b[0m: \thidden_size: 256\n"
     ]
    },
    {
     "data": {
      "text/html": [
       "wandb version 0.15.1 is available!  To upgrade, please run:\n",
       " $ pip install wandb --upgrade"
      ],
      "text/plain": [
       "<IPython.core.display.HTML object>"
      ]
     },
     "metadata": {},
     "output_type": "display_data"
    },
    {
     "data": {
      "text/html": [
       "Tracking run with wandb version 0.15.0"
      ],
      "text/plain": [
       "<IPython.core.display.HTML object>"
      ]
     },
     "metadata": {},
     "output_type": "display_data"
    },
    {
     "data": {
      "text/html": [
       "Run data is saved locally in <code>/kaggle/working/wandb/run-20230502_192348-kc65o5od</code>"
      ],
      "text/plain": [
       "<IPython.core.display.HTML object>"
      ]
     },
     "metadata": {},
     "output_type": "display_data"
    },
    {
     "data": {
      "text/html": [
       "Syncing run <strong><a href='https://wandb.ai/cs22m078/CS6910_Assignment3/runs/kc65o5od' target=\"_blank\">eternal-sweep-4</a></strong> to <a href='https://wandb.ai/cs22m078/CS6910_Assignment3' target=\"_blank\">Weights & Biases</a> (<a href='https://wandb.me/run' target=\"_blank\">docs</a>)<br/>Sweep page: <a href='https://wandb.ai/cs22m078/CS6910_Assignment3/sweeps/hphey2rd' target=\"_blank\">https://wandb.ai/cs22m078/CS6910_Assignment3/sweeps/hphey2rd</a>"
      ],
      "text/plain": [
       "<IPython.core.display.HTML object>"
      ]
     },
     "metadata": {},
     "output_type": "display_data"
    },
    {
     "data": {
      "text/html": [
       " View project at <a href='https://wandb.ai/cs22m078/CS6910_Assignment3' target=\"_blank\">https://wandb.ai/cs22m078/CS6910_Assignment3</a>"
      ],
      "text/plain": [
       "<IPython.core.display.HTML object>"
      ]
     },
     "metadata": {},
     "output_type": "display_data"
    },
    {
     "data": {
      "text/html": [
       " View sweep at <a href='https://wandb.ai/cs22m078/CS6910_Assignment3/sweeps/hphey2rd' target=\"_blank\">https://wandb.ai/cs22m078/CS6910_Assignment3/sweeps/hphey2rd</a>"
      ],
      "text/plain": [
       "<IPython.core.display.HTML object>"
      ]
     },
     "metadata": {},
     "output_type": "display_data"
    },
    {
     "data": {
      "text/html": [
       " View run at <a href='https://wandb.ai/cs22m078/CS6910_Assignment3/runs/kc65o5od' target=\"_blank\">https://wandb.ai/cs22m078/CS6910_Assignment3/runs/kc65o5od</a>"
      ],
      "text/plain": [
       "<IPython.core.display.HTML object>"
      ]
     },
     "metadata": {},
     "output_type": "display_data"
    },
    {
     "data": {
      "text/html": [
       "Waiting for W&B process to finish... <strong style=\"color:red\">(failed 1).</strong> Press Control-C to abort syncing."
      ],
      "text/plain": [
       "<IPython.core.display.HTML object>"
      ]
     },
     "metadata": {},
     "output_type": "display_data"
    },
    {
     "data": {
      "text/html": [
       " View run <strong style=\"color:#cdcd00\">eternal-sweep-4</strong> at: <a href='https://wandb.ai/cs22m078/CS6910_Assignment3/runs/kc65o5od' target=\"_blank\">https://wandb.ai/cs22m078/CS6910_Assignment3/runs/kc65o5od</a><br/>Synced 5 W&B file(s), 0 media file(s), 0 artifact file(s) and 0 other file(s)"
      ],
      "text/plain": [
       "<IPython.core.display.HTML object>"
      ]
     },
     "metadata": {},
     "output_type": "display_data"
    },
    {
     "data": {
      "text/html": [
       "Find logs at: <code>./wandb/run-20230502_192348-kc65o5od/logs</code>"
      ],
      "text/plain": [
       "<IPython.core.display.HTML object>"
      ]
     },
     "metadata": {},
     "output_type": "display_data"
    },
    {
     "name": "stderr",
     "output_type": "stream",
     "text": [
      "Run kc65o5od errored: NameError(\"name 'epoch_train_loss' is not defined\")\n",
      "\u001b[34m\u001b[1mwandb\u001b[0m: \u001b[32m\u001b[41mERROR\u001b[0m Run kc65o5od errored: NameError(\"name 'epoch_train_loss' is not defined\")\n",
      "\u001b[34m\u001b[1mwandb\u001b[0m: Agent Starting Run: yzeneb7z with config:\n",
      "\u001b[34m\u001b[1mwandb\u001b[0m: \tattention: No\n",
      "\u001b[34m\u001b[1mwandb\u001b[0m: \tbatchsize: 128\n",
      "\u001b[34m\u001b[1mwandb\u001b[0m: \tbeam_size: 5\n",
      "\u001b[34m\u001b[1mwandb\u001b[0m: \tbi_directional: No\n",
      "\u001b[34m\u001b[1mwandb\u001b[0m: \tcell_type: RNN\n",
      "\u001b[34m\u001b[1mwandb\u001b[0m: \tdecoder_layers: 2\n",
      "\u001b[34m\u001b[1mwandb\u001b[0m: \tdropout: 0.2\n",
      "\u001b[34m\u001b[1mwandb\u001b[0m: \tembedding_size: 64\n",
      "\u001b[34m\u001b[1mwandb\u001b[0m: \tencoder_layers: 3\n",
      "\u001b[34m\u001b[1mwandb\u001b[0m: \tepochs: 10\n",
      "\u001b[34m\u001b[1mwandb\u001b[0m: \thidden_size: 512\n"
     ]
    },
    {
     "data": {
      "text/html": [
       "wandb version 0.15.1 is available!  To upgrade, please run:\n",
       " $ pip install wandb --upgrade"
      ],
      "text/plain": [
       "<IPython.core.display.HTML object>"
      ]
     },
     "metadata": {},
     "output_type": "display_data"
    },
    {
     "data": {
      "text/html": [
       "Tracking run with wandb version 0.15.0"
      ],
      "text/plain": [
       "<IPython.core.display.HTML object>"
      ]
     },
     "metadata": {},
     "output_type": "display_data"
    },
    {
     "data": {
      "text/html": [
       "Run data is saved locally in <code>/kaggle/working/wandb/run-20230502_192432-yzeneb7z</code>"
      ],
      "text/plain": [
       "<IPython.core.display.HTML object>"
      ]
     },
     "metadata": {},
     "output_type": "display_data"
    },
    {
     "data": {
      "text/html": [
       "Syncing run <strong><a href='https://wandb.ai/cs22m078/CS6910_Assignment3/runs/yzeneb7z' target=\"_blank\">wobbly-sweep-5</a></strong> to <a href='https://wandb.ai/cs22m078/CS6910_Assignment3' target=\"_blank\">Weights & Biases</a> (<a href='https://wandb.me/run' target=\"_blank\">docs</a>)<br/>Sweep page: <a href='https://wandb.ai/cs22m078/CS6910_Assignment3/sweeps/hphey2rd' target=\"_blank\">https://wandb.ai/cs22m078/CS6910_Assignment3/sweeps/hphey2rd</a>"
      ],
      "text/plain": [
       "<IPython.core.display.HTML object>"
      ]
     },
     "metadata": {},
     "output_type": "display_data"
    },
    {
     "data": {
      "text/html": [
       " View project at <a href='https://wandb.ai/cs22m078/CS6910_Assignment3' target=\"_blank\">https://wandb.ai/cs22m078/CS6910_Assignment3</a>"
      ],
      "text/plain": [
       "<IPython.core.display.HTML object>"
      ]
     },
     "metadata": {},
     "output_type": "display_data"
    },
    {
     "data": {
      "text/html": [
       " View sweep at <a href='https://wandb.ai/cs22m078/CS6910_Assignment3/sweeps/hphey2rd' target=\"_blank\">https://wandb.ai/cs22m078/CS6910_Assignment3/sweeps/hphey2rd</a>"
      ],
      "text/plain": [
       "<IPython.core.display.HTML object>"
      ]
     },
     "metadata": {},
     "output_type": "display_data"
    },
    {
     "data": {
      "text/html": [
       " View run at <a href='https://wandb.ai/cs22m078/CS6910_Assignment3/runs/yzeneb7z' target=\"_blank\">https://wandb.ai/cs22m078/CS6910_Assignment3/runs/yzeneb7z</a>"
      ],
      "text/plain": [
       "<IPython.core.display.HTML object>"
      ]
     },
     "metadata": {},
     "output_type": "display_data"
    },
    {
     "data": {
      "text/html": [
       "Waiting for W&B process to finish... <strong style=\"color:red\">(failed 1).</strong> Press Control-C to abort syncing."
      ],
      "text/plain": [
       "<IPython.core.display.HTML object>"
      ]
     },
     "metadata": {},
     "output_type": "display_data"
    },
    {
     "data": {
      "text/html": [
       " View run <strong style=\"color:#cdcd00\">wobbly-sweep-5</strong> at: <a href='https://wandb.ai/cs22m078/CS6910_Assignment3/runs/yzeneb7z' target=\"_blank\">https://wandb.ai/cs22m078/CS6910_Assignment3/runs/yzeneb7z</a><br/>Synced 5 W&B file(s), 0 media file(s), 0 artifact file(s) and 0 other file(s)"
      ],
      "text/plain": [
       "<IPython.core.display.HTML object>"
      ]
     },
     "metadata": {},
     "output_type": "display_data"
    },
    {
     "data": {
      "text/html": [
       "Find logs at: <code>./wandb/run-20230502_192432-yzeneb7z/logs</code>"
      ],
      "text/plain": [
       "<IPython.core.display.HTML object>"
      ]
     },
     "metadata": {},
     "output_type": "display_data"
    },
    {
     "name": "stderr",
     "output_type": "stream",
     "text": [
      "Run yzeneb7z errored: NameError(\"name 'epoch_train_loss' is not defined\")\n",
      "\u001b[34m\u001b[1mwandb\u001b[0m: \u001b[32m\u001b[41mERROR\u001b[0m Run yzeneb7z errored: NameError(\"name 'epoch_train_loss' is not defined\")\n",
      "\u001b[34m\u001b[1mwandb\u001b[0m: Agent Starting Run: oxzy1ld5 with config:\n",
      "\u001b[34m\u001b[1mwandb\u001b[0m: \tattention: Yes\n",
      "\u001b[34m\u001b[1mwandb\u001b[0m: \tbatchsize: 256\n",
      "\u001b[34m\u001b[1mwandb\u001b[0m: \tbeam_size: 5\n",
      "\u001b[34m\u001b[1mwandb\u001b[0m: \tbi_directional: No\n",
      "\u001b[34m\u001b[1mwandb\u001b[0m: \tcell_type: GRU\n",
      "\u001b[34m\u001b[1mwandb\u001b[0m: \tdecoder_layers: 4\n",
      "\u001b[34m\u001b[1mwandb\u001b[0m: \tdropout: 0.5\n",
      "\u001b[34m\u001b[1mwandb\u001b[0m: \tembedding_size: 512\n",
      "\u001b[34m\u001b[1mwandb\u001b[0m: \tencoder_layers: 3\n",
      "\u001b[34m\u001b[1mwandb\u001b[0m: \tepochs: 10\n",
      "\u001b[34m\u001b[1mwandb\u001b[0m: \thidden_size: 256\n"
     ]
    },
    {
     "data": {
      "text/html": [
       "wandb version 0.15.1 is available!  To upgrade, please run:\n",
       " $ pip install wandb --upgrade"
      ],
      "text/plain": [
       "<IPython.core.display.HTML object>"
      ]
     },
     "metadata": {},
     "output_type": "display_data"
    },
    {
     "data": {
      "text/html": [
       "Tracking run with wandb version 0.15.0"
      ],
      "text/plain": [
       "<IPython.core.display.HTML object>"
      ]
     },
     "metadata": {},
     "output_type": "display_data"
    },
    {
     "data": {
      "text/html": [
       "Run data is saved locally in <code>/kaggle/working/wandb/run-20230502_192517-oxzy1ld5</code>"
      ],
      "text/plain": [
       "<IPython.core.display.HTML object>"
      ]
     },
     "metadata": {},
     "output_type": "display_data"
    },
    {
     "data": {
      "text/html": [
       "Syncing run <strong><a href='https://wandb.ai/cs22m078/CS6910_Assignment3/runs/oxzy1ld5' target=\"_blank\">toasty-sweep-6</a></strong> to <a href='https://wandb.ai/cs22m078/CS6910_Assignment3' target=\"_blank\">Weights & Biases</a> (<a href='https://wandb.me/run' target=\"_blank\">docs</a>)<br/>Sweep page: <a href='https://wandb.ai/cs22m078/CS6910_Assignment3/sweeps/hphey2rd' target=\"_blank\">https://wandb.ai/cs22m078/CS6910_Assignment3/sweeps/hphey2rd</a>"
      ],
      "text/plain": [
       "<IPython.core.display.HTML object>"
      ]
     },
     "metadata": {},
     "output_type": "display_data"
    },
    {
     "data": {
      "text/html": [
       " View project at <a href='https://wandb.ai/cs22m078/CS6910_Assignment3' target=\"_blank\">https://wandb.ai/cs22m078/CS6910_Assignment3</a>"
      ],
      "text/plain": [
       "<IPython.core.display.HTML object>"
      ]
     },
     "metadata": {},
     "output_type": "display_data"
    },
    {
     "data": {
      "text/html": [
       " View sweep at <a href='https://wandb.ai/cs22m078/CS6910_Assignment3/sweeps/hphey2rd' target=\"_blank\">https://wandb.ai/cs22m078/CS6910_Assignment3/sweeps/hphey2rd</a>"
      ],
      "text/plain": [
       "<IPython.core.display.HTML object>"
      ]
     },
     "metadata": {},
     "output_type": "display_data"
    },
    {
     "data": {
      "text/html": [
       " View run at <a href='https://wandb.ai/cs22m078/CS6910_Assignment3/runs/oxzy1ld5' target=\"_blank\">https://wandb.ai/cs22m078/CS6910_Assignment3/runs/oxzy1ld5</a>"
      ],
      "text/plain": [
       "<IPython.core.display.HTML object>"
      ]
     },
     "metadata": {},
     "output_type": "display_data"
    },
    {
     "data": {
      "text/html": [
       "Waiting for W&B process to finish... <strong style=\"color:red\">(failed 1).</strong> Press Control-C to abort syncing."
      ],
      "text/plain": [
       "<IPython.core.display.HTML object>"
      ]
     },
     "metadata": {},
     "output_type": "display_data"
    },
    {
     "data": {
      "text/html": [
       " View run <strong style=\"color:#cdcd00\">toasty-sweep-6</strong> at: <a href='https://wandb.ai/cs22m078/CS6910_Assignment3/runs/oxzy1ld5' target=\"_blank\">https://wandb.ai/cs22m078/CS6910_Assignment3/runs/oxzy1ld5</a><br/>Synced 5 W&B file(s), 0 media file(s), 0 artifact file(s) and 0 other file(s)"
      ],
      "text/plain": [
       "<IPython.core.display.HTML object>"
      ]
     },
     "metadata": {},
     "output_type": "display_data"
    },
    {
     "data": {
      "text/html": [
       "Find logs at: <code>./wandb/run-20230502_192517-oxzy1ld5/logs</code>"
      ],
      "text/plain": [
       "<IPython.core.display.HTML object>"
      ]
     },
     "metadata": {},
     "output_type": "display_data"
    },
    {
     "name": "stderr",
     "output_type": "stream",
     "text": [
      "Run oxzy1ld5 errored: NameError(\"name 'epoch_train_loss' is not defined\")\n",
      "\u001b[34m\u001b[1mwandb\u001b[0m: \u001b[32m\u001b[41mERROR\u001b[0m Run oxzy1ld5 errored: NameError(\"name 'epoch_train_loss' is not defined\")\n",
      "Detected 5 failed runs in a row at start, killing sweep.\n",
      "\u001b[34m\u001b[1mwandb\u001b[0m: \u001b[32m\u001b[41mERROR\u001b[0m Detected 5 failed runs in a row at start, killing sweep.\n",
      "\u001b[34m\u001b[1mwandb\u001b[0m: To change this value set WANDB_AGENT_MAX_INITIAL_FAILURES=val\n"
     ]
    }
   ],
   "source": [
    "train_df,test_df,val_df,eng_to_idx,hin_to_idx,idx_to_eng,idx_to_hin,input_len,target_len=get_data()\n",
    "\n",
    "train_x,train_y = pre_process(train_df,eng_to_idx,hin_to_idx)\n",
    "test_x,test_y = pre_process(test_df,eng_to_idx,hin_to_idx)\n",
    "val_x,val_y = pre_process(val_df,eng_to_idx,hin_to_idx)\n",
    "\n",
    "train_dataset=MyDataset(train_x,train_y)\n",
    "test_dataset=MyDataset(test_x,test_y)\n",
    "val_dataset=MyDataset(val_x,val_y)\n",
    "\n",
    "wandb_run_sweeps(train_dataset,val_dataset,test_dataset,train_y,val_y,test_y,input_len,target_len)\n"
   ]
  },
  {
   "cell_type": "code",
   "execution_count": null,
   "id": "0f8d9184",
   "metadata": {
    "papermill": {
     "duration": 0.015948,
     "end_time": "2023-05-02T19:25:58.335871",
     "exception": false,
     "start_time": "2023-05-02T19:25:58.319923",
     "status": "completed"
    },
    "tags": []
   },
   "outputs": [],
   "source": []
  }
 ],
 "metadata": {
  "kernelspec": {
   "display_name": "Python 3",
   "language": "python",
   "name": "python3"
  },
  "language_info": {
   "codemirror_mode": {
    "name": "ipython",
    "version": 3
   },
   "file_extension": ".py",
   "mimetype": "text/x-python",
   "name": "python",
   "nbconvert_exporter": "python",
   "pygments_lexer": "ipython3",
   "version": "3.10.10"
  },
  "papermill": {
   "default_parameters": {},
   "duration": 300.31117,
   "end_time": "2023-05-02T19:26:00.972264",
   "environment_variables": {},
   "exception": null,
   "input_path": "__notebook__.ipynb",
   "output_path": "__notebook__.ipynb",
   "parameters": {},
   "start_time": "2023-05-02T19:21:00.661094",
   "version": "2.4.0"
  },
  "widgets": {
   "application/vnd.jupyter.widget-state+json": {
    "state": {
     "06594f44e75b437caaa8b8e31ee6d2ce": {
      "model_module": "@jupyter-widgets/controls",
      "model_module_version": "1.5.0",
      "model_name": "ProgressStyleModel",
      "state": {
       "_model_module": "@jupyter-widgets/controls",
       "_model_module_version": "1.5.0",
       "_model_name": "ProgressStyleModel",
       "_view_count": null,
       "_view_module": "@jupyter-widgets/base",
       "_view_module_version": "1.2.0",
       "_view_name": "StyleView",
       "bar_color": null,
       "description_width": ""
      }
     },
     "087b6157eafd4ab4930815c1640d5c9a": {
      "model_module": "@jupyter-widgets/controls",
      "model_module_version": "1.5.0",
      "model_name": "DescriptionStyleModel",
      "state": {
       "_model_module": "@jupyter-widgets/controls",
       "_model_module_version": "1.5.0",
       "_model_name": "DescriptionStyleModel",
       "_view_count": null,
       "_view_module": "@jupyter-widgets/base",
       "_view_module_version": "1.2.0",
       "_view_name": "StyleView",
       "description_width": ""
      }
     },
     "0b053e62a5db46b89d6f4d88e0f22b9e": {
      "model_module": "@jupyter-widgets/controls",
      "model_module_version": "1.5.0",
      "model_name": "VBoxModel",
      "state": {
       "_dom_classes": [],
       "_model_module": "@jupyter-widgets/controls",
       "_model_module_version": "1.5.0",
       "_model_name": "VBoxModel",
       "_view_count": null,
       "_view_module": "@jupyter-widgets/controls",
       "_view_module_version": "1.5.0",
       "_view_name": "VBoxView",
       "box_style": "",
       "children": [
        "IPY_MODEL_8f8ebeb2cd9e48119df08bbf58b4b1ff",
        "IPY_MODEL_1fe0277721504ab3a7a98ab53004bf9f"
       ],
       "layout": "IPY_MODEL_bad8e3bf88dc4114bf06d2eea609d915"
      }
     },
     "0bd5c3e02e224d07ada11e60a44c5e51": {
      "model_module": "@jupyter-widgets/controls",
      "model_module_version": "1.5.0",
      "model_name": "VBoxModel",
      "state": {
       "_dom_classes": [],
       "_model_module": "@jupyter-widgets/controls",
       "_model_module_version": "1.5.0",
       "_model_name": "VBoxModel",
       "_view_count": null,
       "_view_module": "@jupyter-widgets/controls",
       "_view_module_version": "1.5.0",
       "_view_name": "VBoxView",
       "box_style": "",
       "children": [
        "IPY_MODEL_b7a1df11c23f403ca6c23d5a196720cc",
        "IPY_MODEL_e7dbd3c4e19843d2b1a8ff8aefdc5b31"
       ],
       "layout": "IPY_MODEL_a56febbc79234ee59f5091ed512a7814"
      }
     },
     "0c5abbb55e7147a59edd68d9b1ceccb3": {
      "model_module": "@jupyter-widgets/base",
      "model_module_version": "1.2.0",
      "model_name": "LayoutModel",
      "state": {
       "_model_module": "@jupyter-widgets/base",
       "_model_module_version": "1.2.0",
       "_model_name": "LayoutModel",
       "_view_count": null,
       "_view_module": "@jupyter-widgets/base",
       "_view_module_version": "1.2.0",
       "_view_name": "LayoutView",
       "align_content": null,
       "align_items": null,
       "align_self": null,
       "border": null,
       "bottom": null,
       "display": null,
       "flex": null,
       "flex_flow": null,
       "grid_area": null,
       "grid_auto_columns": null,
       "grid_auto_flow": null,
       "grid_auto_rows": null,
       "grid_column": null,
       "grid_gap": null,
       "grid_row": null,
       "grid_template_areas": null,
       "grid_template_columns": null,
       "grid_template_rows": null,
       "height": null,
       "justify_content": null,
       "justify_items": null,
       "left": null,
       "margin": null,
       "max_height": null,
       "max_width": null,
       "min_height": null,
       "min_width": null,
       "object_fit": null,
       "object_position": null,
       "order": null,
       "overflow": null,
       "overflow_x": null,
       "overflow_y": null,
       "padding": null,
       "right": null,
       "top": null,
       "visibility": null,
       "width": null
      }
     },
     "10aa9edbd8194de0957b607accc5127b": {
      "model_module": "@jupyter-widgets/base",
      "model_module_version": "1.2.0",
      "model_name": "LayoutModel",
      "state": {
       "_model_module": "@jupyter-widgets/base",
       "_model_module_version": "1.2.0",
       "_model_name": "LayoutModel",
       "_view_count": null,
       "_view_module": "@jupyter-widgets/base",
       "_view_module_version": "1.2.0",
       "_view_name": "LayoutView",
       "align_content": null,
       "align_items": null,
       "align_self": null,
       "border": null,
       "bottom": null,
       "display": null,
       "flex": null,
       "flex_flow": null,
       "grid_area": null,
       "grid_auto_columns": null,
       "grid_auto_flow": null,
       "grid_auto_rows": null,
       "grid_column": null,
       "grid_gap": null,
       "grid_row": null,
       "grid_template_areas": null,
       "grid_template_columns": null,
       "grid_template_rows": null,
       "height": null,
       "justify_content": null,
       "justify_items": null,
       "left": null,
       "margin": null,
       "max_height": null,
       "max_width": null,
       "min_height": null,
       "min_width": null,
       "object_fit": null,
       "object_position": null,
       "order": null,
       "overflow": null,
       "overflow_x": null,
       "overflow_y": null,
       "padding": null,
       "right": null,
       "top": null,
       "visibility": null,
       "width": null
      }
     },
     "10f0f7df150c42bd9d9c2d8455020623": {
      "model_module": "@jupyter-widgets/controls",
      "model_module_version": "1.5.0",
      "model_name": "ProgressStyleModel",
      "state": {
       "_model_module": "@jupyter-widgets/controls",
       "_model_module_version": "1.5.0",
       "_model_name": "ProgressStyleModel",
       "_view_count": null,
       "_view_module": "@jupyter-widgets/base",
       "_view_module_version": "1.2.0",
       "_view_name": "StyleView",
       "bar_color": null,
       "description_width": ""
      }
     },
     "120802c0adfe4af69a9e1dc36378b19a": {
      "model_module": "@jupyter-widgets/controls",
      "model_module_version": "1.5.0",
      "model_name": "ProgressStyleModel",
      "state": {
       "_model_module": "@jupyter-widgets/controls",
       "_model_module_version": "1.5.0",
       "_model_name": "ProgressStyleModel",
       "_view_count": null,
       "_view_module": "@jupyter-widgets/base",
       "_view_module_version": "1.2.0",
       "_view_name": "StyleView",
       "bar_color": null,
       "description_width": ""
      }
     },
     "13459460663b4e5da786433e8de11faa": {
      "model_module": "@jupyter-widgets/base",
      "model_module_version": "1.2.0",
      "model_name": "LayoutModel",
      "state": {
       "_model_module": "@jupyter-widgets/base",
       "_model_module_version": "1.2.0",
       "_model_name": "LayoutModel",
       "_view_count": null,
       "_view_module": "@jupyter-widgets/base",
       "_view_module_version": "1.2.0",
       "_view_name": "LayoutView",
       "align_content": null,
       "align_items": null,
       "align_self": null,
       "border": null,
       "bottom": null,
       "display": null,
       "flex": null,
       "flex_flow": null,
       "grid_area": null,
       "grid_auto_columns": null,
       "grid_auto_flow": null,
       "grid_auto_rows": null,
       "grid_column": null,
       "grid_gap": null,
       "grid_row": null,
       "grid_template_areas": null,
       "grid_template_columns": null,
       "grid_template_rows": null,
       "height": null,
       "justify_content": null,
       "justify_items": null,
       "left": null,
       "margin": null,
       "max_height": null,
       "max_width": null,
       "min_height": null,
       "min_width": null,
       "object_fit": null,
       "object_position": null,
       "order": null,
       "overflow": null,
       "overflow_x": null,
       "overflow_y": null,
       "padding": null,
       "right": null,
       "top": null,
       "visibility": null,
       "width": null
      }
     },
     "1cb9fcf71e47430f83d45568b59bf24a": {
      "model_module": "@jupyter-widgets/base",
      "model_module_version": "1.2.0",
      "model_name": "LayoutModel",
      "state": {
       "_model_module": "@jupyter-widgets/base",
       "_model_module_version": "1.2.0",
       "_model_name": "LayoutModel",
       "_view_count": null,
       "_view_module": "@jupyter-widgets/base",
       "_view_module_version": "1.2.0",
       "_view_name": "LayoutView",
       "align_content": null,
       "align_items": null,
       "align_self": null,
       "border": null,
       "bottom": null,
       "display": null,
       "flex": null,
       "flex_flow": null,
       "grid_area": null,
       "grid_auto_columns": null,
       "grid_auto_flow": null,
       "grid_auto_rows": null,
       "grid_column": null,
       "grid_gap": null,
       "grid_row": null,
       "grid_template_areas": null,
       "grid_template_columns": null,
       "grid_template_rows": null,
       "height": null,
       "justify_content": null,
       "justify_items": null,
       "left": null,
       "margin": null,
       "max_height": null,
       "max_width": null,
       "min_height": null,
       "min_width": null,
       "object_fit": null,
       "object_position": null,
       "order": null,
       "overflow": null,
       "overflow_x": null,
       "overflow_y": null,
       "padding": null,
       "right": null,
       "top": null,
       "visibility": null,
       "width": null
      }
     },
     "1fe0277721504ab3a7a98ab53004bf9f": {
      "model_module": "@jupyter-widgets/controls",
      "model_module_version": "1.5.0",
      "model_name": "FloatProgressModel",
      "state": {
       "_dom_classes": [],
       "_model_module": "@jupyter-widgets/controls",
       "_model_module_version": "1.5.0",
       "_model_name": "FloatProgressModel",
       "_view_count": null,
       "_view_module": "@jupyter-widgets/controls",
       "_view_module_version": "1.5.0",
       "_view_name": "ProgressView",
       "bar_style": "",
       "description": "",
       "description_tooltip": null,
       "layout": "IPY_MODEL_ab1c4a1e33e540fbb3c8f8b740bec99f",
       "max": 1.0,
       "min": 0.0,
       "orientation": "horizontal",
       "style": "IPY_MODEL_f7425550eb10467c9e2b69be71a204c8",
       "value": 0.0
      }
     },
     "21c76e585150484ea8608d593f45dca6": {
      "model_module": "@jupyter-widgets/controls",
      "model_module_version": "1.5.0",
      "model_name": "FloatProgressModel",
      "state": {
       "_dom_classes": [],
       "_model_module": "@jupyter-widgets/controls",
       "_model_module_version": "1.5.0",
       "_model_name": "FloatProgressModel",
       "_view_count": null,
       "_view_module": "@jupyter-widgets/controls",
       "_view_module_version": "1.5.0",
       "_view_name": "ProgressView",
       "bar_style": "",
       "description": "",
       "description_tooltip": null,
       "layout": "IPY_MODEL_6cce931952c74315acca163eff146cf8",
       "max": 1.0,
       "min": 0.0,
       "orientation": "horizontal",
       "style": "IPY_MODEL_56ca3e392f8a4147b914d6e7ced21b6d",
       "value": 0.0
      }
     },
     "241fc139174a4e68bbffa1eb5f0d2299": {
      "model_module": "@jupyter-widgets/controls",
      "model_module_version": "1.5.0",
      "model_name": "VBoxModel",
      "state": {
       "_dom_classes": [],
       "_model_module": "@jupyter-widgets/controls",
       "_model_module_version": "1.5.0",
       "_model_name": "VBoxModel",
       "_view_count": null,
       "_view_module": "@jupyter-widgets/controls",
       "_view_module_version": "1.5.0",
       "_view_name": "VBoxView",
       "box_style": "",
       "children": [
        "IPY_MODEL_d829e726ff0543c59008dd163822139f",
        "IPY_MODEL_8ab955135e7941288bc61903b90afb05"
       ],
       "layout": "IPY_MODEL_1cb9fcf71e47430f83d45568b59bf24a"
      }
     },
     "249b185cfee64584af5e21724a93d728": {
      "model_module": "@jupyter-widgets/base",
      "model_module_version": "1.2.0",
      "model_name": "LayoutModel",
      "state": {
       "_model_module": "@jupyter-widgets/base",
       "_model_module_version": "1.2.0",
       "_model_name": "LayoutModel",
       "_view_count": null,
       "_view_module": "@jupyter-widgets/base",
       "_view_module_version": "1.2.0",
       "_view_name": "LayoutView",
       "align_content": null,
       "align_items": null,
       "align_self": null,
       "border": null,
       "bottom": null,
       "display": null,
       "flex": null,
       "flex_flow": null,
       "grid_area": null,
       "grid_auto_columns": null,
       "grid_auto_flow": null,
       "grid_auto_rows": null,
       "grid_column": null,
       "grid_gap": null,
       "grid_row": null,
       "grid_template_areas": null,
       "grid_template_columns": null,
       "grid_template_rows": null,
       "height": null,
       "justify_content": null,
       "justify_items": null,
       "left": null,
       "margin": null,
       "max_height": null,
       "max_width": null,
       "min_height": null,
       "min_width": null,
       "object_fit": null,
       "object_position": null,
       "order": null,
       "overflow": null,
       "overflow_x": null,
       "overflow_y": null,
       "padding": null,
       "right": null,
       "top": null,
       "visibility": null,
       "width": null
      }
     },
     "25dd5014d06445d18e54eba2f273ed2b": {
      "model_module": "@jupyter-widgets/controls",
      "model_module_version": "1.5.0",
      "model_name": "FloatProgressModel",
      "state": {
       "_dom_classes": [],
       "_model_module": "@jupyter-widgets/controls",
       "_model_module_version": "1.5.0",
       "_model_name": "FloatProgressModel",
       "_view_count": null,
       "_view_module": "@jupyter-widgets/controls",
       "_view_module_version": "1.5.0",
       "_view_name": "ProgressView",
       "bar_style": "",
       "description": "",
       "description_tooltip": null,
       "layout": "IPY_MODEL_58e471d2e96446a3b9fc61d05cf8c0ee",
       "max": 1.0,
       "min": 0.0,
       "orientation": "horizontal",
       "style": "IPY_MODEL_363c3cef6750424bb337a50509f85203",
       "value": 0.0
      }
     },
     "2a7ce7d727ce4f7692bcb2a12be9a801": {
      "model_module": "@jupyter-widgets/controls",
      "model_module_version": "1.5.0",
      "model_name": "DescriptionStyleModel",
      "state": {
       "_model_module": "@jupyter-widgets/controls",
       "_model_module_version": "1.5.0",
       "_model_name": "DescriptionStyleModel",
       "_view_count": null,
       "_view_module": "@jupyter-widgets/base",
       "_view_module_version": "1.2.0",
       "_view_name": "StyleView",
       "description_width": ""
      }
     },
     "2bfaac9d2a9b499eab04f4acfa0e76d7": {
      "model_module": "@jupyter-widgets/controls",
      "model_module_version": "1.5.0",
      "model_name": "ProgressStyleModel",
      "state": {
       "_model_module": "@jupyter-widgets/controls",
       "_model_module_version": "1.5.0",
       "_model_name": "ProgressStyleModel",
       "_view_count": null,
       "_view_module": "@jupyter-widgets/base",
       "_view_module_version": "1.2.0",
       "_view_name": "StyleView",
       "bar_color": null,
       "description_width": ""
      }
     },
     "3047e92daba84c4c9b1e7c07a9adc976": {
      "model_module": "@jupyter-widgets/controls",
      "model_module_version": "1.5.0",
      "model_name": "LabelModel",
      "state": {
       "_dom_classes": [],
       "_model_module": "@jupyter-widgets/controls",
       "_model_module_version": "1.5.0",
       "_model_name": "LabelModel",
       "_view_count": null,
       "_view_module": "@jupyter-widgets/controls",
       "_view_module_version": "1.5.0",
       "_view_name": "LabelView",
       "description": "",
       "description_tooltip": null,
       "layout": "IPY_MODEL_d02e47da8659486f81deef13553aae67",
       "placeholder": "​",
       "style": "IPY_MODEL_2a7ce7d727ce4f7692bcb2a12be9a801",
       "value": ""
      }
     },
     "33b09d3c6fde4c52bafad991fc716a80": {
      "model_module": "@jupyter-widgets/base",
      "model_module_version": "1.2.0",
      "model_name": "LayoutModel",
      "state": {
       "_model_module": "@jupyter-widgets/base",
       "_model_module_version": "1.2.0",
       "_model_name": "LayoutModel",
       "_view_count": null,
       "_view_module": "@jupyter-widgets/base",
       "_view_module_version": "1.2.0",
       "_view_name": "LayoutView",
       "align_content": null,
       "align_items": null,
       "align_self": null,
       "border": null,
       "bottom": null,
       "display": null,
       "flex": null,
       "flex_flow": null,
       "grid_area": null,
       "grid_auto_columns": null,
       "grid_auto_flow": null,
       "grid_auto_rows": null,
       "grid_column": null,
       "grid_gap": null,
       "grid_row": null,
       "grid_template_areas": null,
       "grid_template_columns": null,
       "grid_template_rows": null,
       "height": null,
       "justify_content": null,
       "justify_items": null,
       "left": null,
       "margin": null,
       "max_height": null,
       "max_width": null,
       "min_height": null,
       "min_width": null,
       "object_fit": null,
       "object_position": null,
       "order": null,
       "overflow": null,
       "overflow_x": null,
       "overflow_y": null,
       "padding": null,
       "right": null,
       "top": null,
       "visibility": null,
       "width": null
      }
     },
     "363c3cef6750424bb337a50509f85203": {
      "model_module": "@jupyter-widgets/controls",
      "model_module_version": "1.5.0",
      "model_name": "ProgressStyleModel",
      "state": {
       "_model_module": "@jupyter-widgets/controls",
       "_model_module_version": "1.5.0",
       "_model_name": "ProgressStyleModel",
       "_view_count": null,
       "_view_module": "@jupyter-widgets/base",
       "_view_module_version": "1.2.0",
       "_view_name": "StyleView",
       "bar_color": null,
       "description_width": ""
      }
     },
     "3e165ec09afe49f58ad117ec41d48d63": {
      "model_module": "@jupyter-widgets/controls",
      "model_module_version": "1.5.0",
      "model_name": "VBoxModel",
      "state": {
       "_dom_classes": [],
       "_model_module": "@jupyter-widgets/controls",
       "_model_module_version": "1.5.0",
       "_model_name": "VBoxModel",
       "_view_count": null,
       "_view_module": "@jupyter-widgets/controls",
       "_view_module_version": "1.5.0",
       "_view_name": "VBoxView",
       "box_style": "",
       "children": [
        "IPY_MODEL_5e5785c2bc454d2f924d4c47e3cd7e26",
        "IPY_MODEL_e35834620abb49d4a726eff0c4350da6"
       ],
       "layout": "IPY_MODEL_33b09d3c6fde4c52bafad991fc716a80"
      }
     },
     "43669ee069c240c687c07f567ce2ee6e": {
      "model_module": "@jupyter-widgets/base",
      "model_module_version": "1.2.0",
      "model_name": "LayoutModel",
      "state": {
       "_model_module": "@jupyter-widgets/base",
       "_model_module_version": "1.2.0",
       "_model_name": "LayoutModel",
       "_view_count": null,
       "_view_module": "@jupyter-widgets/base",
       "_view_module_version": "1.2.0",
       "_view_name": "LayoutView",
       "align_content": null,
       "align_items": null,
       "align_self": null,
       "border": null,
       "bottom": null,
       "display": null,
       "flex": null,
       "flex_flow": null,
       "grid_area": null,
       "grid_auto_columns": null,
       "grid_auto_flow": null,
       "grid_auto_rows": null,
       "grid_column": null,
       "grid_gap": null,
       "grid_row": null,
       "grid_template_areas": null,
       "grid_template_columns": null,
       "grid_template_rows": null,
       "height": null,
       "justify_content": null,
       "justify_items": null,
       "left": null,
       "margin": null,
       "max_height": null,
       "max_width": null,
       "min_height": null,
       "min_width": null,
       "object_fit": null,
       "object_position": null,
       "order": null,
       "overflow": null,
       "overflow_x": null,
       "overflow_y": null,
       "padding": null,
       "right": null,
       "top": null,
       "visibility": null,
       "width": null
      }
     },
     "47a8ce12cc3546bf9156b04089c15112": {
      "model_module": "@jupyter-widgets/controls",
      "model_module_version": "1.5.0",
      "model_name": "DescriptionStyleModel",
      "state": {
       "_model_module": "@jupyter-widgets/controls",
       "_model_module_version": "1.5.0",
       "_model_name": "DescriptionStyleModel",
       "_view_count": null,
       "_view_module": "@jupyter-widgets/base",
       "_view_module_version": "1.2.0",
       "_view_name": "StyleView",
       "description_width": ""
      }
     },
     "4943ce8d0e5d48a986dda48cbbe54067": {
      "model_module": "@jupyter-widgets/controls",
      "model_module_version": "1.5.0",
      "model_name": "LabelModel",
      "state": {
       "_dom_classes": [],
       "_model_module": "@jupyter-widgets/controls",
       "_model_module_version": "1.5.0",
       "_model_name": "LabelModel",
       "_view_count": null,
       "_view_module": "@jupyter-widgets/controls",
       "_view_module_version": "1.5.0",
       "_view_name": "LabelView",
       "description": "",
       "description_tooltip": null,
       "layout": "IPY_MODEL_5024df149cf140a9b58599705e06d040",
       "placeholder": "​",
       "style": "IPY_MODEL_087b6157eafd4ab4930815c1640d5c9a",
       "value": ""
      }
     },
     "4cc73d2d48c94d848767c9941bfbb0df": {
      "model_module": "@jupyter-widgets/controls",
      "model_module_version": "1.5.0",
      "model_name": "VBoxModel",
      "state": {
       "_dom_classes": [],
       "_model_module": "@jupyter-widgets/controls",
       "_model_module_version": "1.5.0",
       "_model_name": "VBoxModel",
       "_view_count": null,
       "_view_module": "@jupyter-widgets/controls",
       "_view_module_version": "1.5.0",
       "_view_name": "VBoxView",
       "box_style": "",
       "children": [
        "IPY_MODEL_3047e92daba84c4c9b1e7c07a9adc976",
        "IPY_MODEL_21c76e585150484ea8608d593f45dca6"
       ],
       "layout": "IPY_MODEL_86b734a44dd84ea3b1d112bae7714402"
      }
     },
     "4ce2315a26af4e329b8f786e9ab22415": {
      "model_module": "@jupyter-widgets/controls",
      "model_module_version": "1.5.0",
      "model_name": "DescriptionStyleModel",
      "state": {
       "_model_module": "@jupyter-widgets/controls",
       "_model_module_version": "1.5.0",
       "_model_name": "DescriptionStyleModel",
       "_view_count": null,
       "_view_module": "@jupyter-widgets/base",
       "_view_module_version": "1.2.0",
       "_view_name": "StyleView",
       "description_width": ""
      }
     },
     "5024df149cf140a9b58599705e06d040": {
      "model_module": "@jupyter-widgets/base",
      "model_module_version": "1.2.0",
      "model_name": "LayoutModel",
      "state": {
       "_model_module": "@jupyter-widgets/base",
       "_model_module_version": "1.2.0",
       "_model_name": "LayoutModel",
       "_view_count": null,
       "_view_module": "@jupyter-widgets/base",
       "_view_module_version": "1.2.0",
       "_view_name": "LayoutView",
       "align_content": null,
       "align_items": null,
       "align_self": null,
       "border": null,
       "bottom": null,
       "display": null,
       "flex": null,
       "flex_flow": null,
       "grid_area": null,
       "grid_auto_columns": null,
       "grid_auto_flow": null,
       "grid_auto_rows": null,
       "grid_column": null,
       "grid_gap": null,
       "grid_row": null,
       "grid_template_areas": null,
       "grid_template_columns": null,
       "grid_template_rows": null,
       "height": null,
       "justify_content": null,
       "justify_items": null,
       "left": null,
       "margin": null,
       "max_height": null,
       "max_width": null,
       "min_height": null,
       "min_width": null,
       "object_fit": null,
       "object_position": null,
       "order": null,
       "overflow": null,
       "overflow_x": null,
       "overflow_y": null,
       "padding": null,
       "right": null,
       "top": null,
       "visibility": null,
       "width": null
      }
     },
     "509d3997a3e440b384580673171773dd": {
      "model_module": "@jupyter-widgets/controls",
      "model_module_version": "1.5.0",
      "model_name": "FloatProgressModel",
      "state": {
       "_dom_classes": [],
       "_model_module": "@jupyter-widgets/controls",
       "_model_module_version": "1.5.0",
       "_model_name": "FloatProgressModel",
       "_view_count": null,
       "_view_module": "@jupyter-widgets/controls",
       "_view_module_version": "1.5.0",
       "_view_name": "ProgressView",
       "bar_style": "",
       "description": "",
       "description_tooltip": null,
       "layout": "IPY_MODEL_55acc05c2ae849e5b8cc7b95e3c72ca3",
       "max": 1.0,
       "min": 0.0,
       "orientation": "horizontal",
       "style": "IPY_MODEL_66c43d9aedf14a8a99ed7d0c9d71f98f",
       "value": 0.0
      }
     },
     "51c125667e44410b886d41e3d524cb55": {
      "model_module": "@jupyter-widgets/base",
      "model_module_version": "1.2.0",
      "model_name": "LayoutModel",
      "state": {
       "_model_module": "@jupyter-widgets/base",
       "_model_module_version": "1.2.0",
       "_model_name": "LayoutModel",
       "_view_count": null,
       "_view_module": "@jupyter-widgets/base",
       "_view_module_version": "1.2.0",
       "_view_name": "LayoutView",
       "align_content": null,
       "align_items": null,
       "align_self": null,
       "border": null,
       "bottom": null,
       "display": null,
       "flex": null,
       "flex_flow": null,
       "grid_area": null,
       "grid_auto_columns": null,
       "grid_auto_flow": null,
       "grid_auto_rows": null,
       "grid_column": null,
       "grid_gap": null,
       "grid_row": null,
       "grid_template_areas": null,
       "grid_template_columns": null,
       "grid_template_rows": null,
       "height": null,
       "justify_content": null,
       "justify_items": null,
       "left": null,
       "margin": null,
       "max_height": null,
       "max_width": null,
       "min_height": null,
       "min_width": null,
       "object_fit": null,
       "object_position": null,
       "order": null,
       "overflow": null,
       "overflow_x": null,
       "overflow_y": null,
       "padding": null,
       "right": null,
       "top": null,
       "visibility": null,
       "width": null
      }
     },
     "55acc05c2ae849e5b8cc7b95e3c72ca3": {
      "model_module": "@jupyter-widgets/base",
      "model_module_version": "1.2.0",
      "model_name": "LayoutModel",
      "state": {
       "_model_module": "@jupyter-widgets/base",
       "_model_module_version": "1.2.0",
       "_model_name": "LayoutModel",
       "_view_count": null,
       "_view_module": "@jupyter-widgets/base",
       "_view_module_version": "1.2.0",
       "_view_name": "LayoutView",
       "align_content": null,
       "align_items": null,
       "align_self": null,
       "border": null,
       "bottom": null,
       "display": null,
       "flex": null,
       "flex_flow": null,
       "grid_area": null,
       "grid_auto_columns": null,
       "grid_auto_flow": null,
       "grid_auto_rows": null,
       "grid_column": null,
       "grid_gap": null,
       "grid_row": null,
       "grid_template_areas": null,
       "grid_template_columns": null,
       "grid_template_rows": null,
       "height": null,
       "justify_content": null,
       "justify_items": null,
       "left": null,
       "margin": null,
       "max_height": null,
       "max_width": null,
       "min_height": null,
       "min_width": null,
       "object_fit": null,
       "object_position": null,
       "order": null,
       "overflow": null,
       "overflow_x": null,
       "overflow_y": null,
       "padding": null,
       "right": null,
       "top": null,
       "visibility": null,
       "width": null
      }
     },
     "56ca3e392f8a4147b914d6e7ced21b6d": {
      "model_module": "@jupyter-widgets/controls",
      "model_module_version": "1.5.0",
      "model_name": "ProgressStyleModel",
      "state": {
       "_model_module": "@jupyter-widgets/controls",
       "_model_module_version": "1.5.0",
       "_model_name": "ProgressStyleModel",
       "_view_count": null,
       "_view_module": "@jupyter-widgets/base",
       "_view_module_version": "1.2.0",
       "_view_name": "StyleView",
       "bar_color": null,
       "description_width": ""
      }
     },
     "58e471d2e96446a3b9fc61d05cf8c0ee": {
      "model_module": "@jupyter-widgets/base",
      "model_module_version": "1.2.0",
      "model_name": "LayoutModel",
      "state": {
       "_model_module": "@jupyter-widgets/base",
       "_model_module_version": "1.2.0",
       "_model_name": "LayoutModel",
       "_view_count": null,
       "_view_module": "@jupyter-widgets/base",
       "_view_module_version": "1.2.0",
       "_view_name": "LayoutView",
       "align_content": null,
       "align_items": null,
       "align_self": null,
       "border": null,
       "bottom": null,
       "display": null,
       "flex": null,
       "flex_flow": null,
       "grid_area": null,
       "grid_auto_columns": null,
       "grid_auto_flow": null,
       "grid_auto_rows": null,
       "grid_column": null,
       "grid_gap": null,
       "grid_row": null,
       "grid_template_areas": null,
       "grid_template_columns": null,
       "grid_template_rows": null,
       "height": null,
       "justify_content": null,
       "justify_items": null,
       "left": null,
       "margin": null,
       "max_height": null,
       "max_width": null,
       "min_height": null,
       "min_width": null,
       "object_fit": null,
       "object_position": null,
       "order": null,
       "overflow": null,
       "overflow_x": null,
       "overflow_y": null,
       "padding": null,
       "right": null,
       "top": null,
       "visibility": null,
       "width": null
      }
     },
     "5e5785c2bc454d2f924d4c47e3cd7e26": {
      "model_module": "@jupyter-widgets/controls",
      "model_module_version": "1.5.0",
      "model_name": "LabelModel",
      "state": {
       "_dom_classes": [],
       "_model_module": "@jupyter-widgets/controls",
       "_model_module_version": "1.5.0",
       "_model_name": "LabelModel",
       "_view_count": null,
       "_view_module": "@jupyter-widgets/controls",
       "_view_module_version": "1.5.0",
       "_view_name": "LabelView",
       "description": "",
       "description_tooltip": null,
       "layout": "IPY_MODEL_cee5502a76fe42cfbe3bc6f16c348143",
       "placeholder": "​",
       "style": "IPY_MODEL_a5576d78580044ce8caeeea6ecfebb1b",
       "value": ""
      }
     },
     "64281bc63be94e8da250526bd0663407": {
      "model_module": "@jupyter-widgets/controls",
      "model_module_version": "1.5.0",
      "model_name": "DescriptionStyleModel",
      "state": {
       "_model_module": "@jupyter-widgets/controls",
       "_model_module_version": "1.5.0",
       "_model_name": "DescriptionStyleModel",
       "_view_count": null,
       "_view_module": "@jupyter-widgets/base",
       "_view_module_version": "1.2.0",
       "_view_name": "StyleView",
       "description_width": ""
      }
     },
     "66c43d9aedf14a8a99ed7d0c9d71f98f": {
      "model_module": "@jupyter-widgets/controls",
      "model_module_version": "1.5.0",
      "model_name": "ProgressStyleModel",
      "state": {
       "_model_module": "@jupyter-widgets/controls",
       "_model_module_version": "1.5.0",
       "_model_name": "ProgressStyleModel",
       "_view_count": null,
       "_view_module": "@jupyter-widgets/base",
       "_view_module_version": "1.2.0",
       "_view_name": "StyleView",
       "bar_color": null,
       "description_width": ""
      }
     },
     "6c3105c0aac5495a91fc6c0689cead03": {
      "model_module": "@jupyter-widgets/base",
      "model_module_version": "1.2.0",
      "model_name": "LayoutModel",
      "state": {
       "_model_module": "@jupyter-widgets/base",
       "_model_module_version": "1.2.0",
       "_model_name": "LayoutModel",
       "_view_count": null,
       "_view_module": "@jupyter-widgets/base",
       "_view_module_version": "1.2.0",
       "_view_name": "LayoutView",
       "align_content": null,
       "align_items": null,
       "align_self": null,
       "border": null,
       "bottom": null,
       "display": null,
       "flex": null,
       "flex_flow": null,
       "grid_area": null,
       "grid_auto_columns": null,
       "grid_auto_flow": null,
       "grid_auto_rows": null,
       "grid_column": null,
       "grid_gap": null,
       "grid_row": null,
       "grid_template_areas": null,
       "grid_template_columns": null,
       "grid_template_rows": null,
       "height": null,
       "justify_content": null,
       "justify_items": null,
       "left": null,
       "margin": null,
       "max_height": null,
       "max_width": null,
       "min_height": null,
       "min_width": null,
       "object_fit": null,
       "object_position": null,
       "order": null,
       "overflow": null,
       "overflow_x": null,
       "overflow_y": null,
       "padding": null,
       "right": null,
       "top": null,
       "visibility": null,
       "width": null
      }
     },
     "6c3c31f9ad62401187877a86f3e5ced0": {
      "model_module": "@jupyter-widgets/base",
      "model_module_version": "1.2.0",
      "model_name": "LayoutModel",
      "state": {
       "_model_module": "@jupyter-widgets/base",
       "_model_module_version": "1.2.0",
       "_model_name": "LayoutModel",
       "_view_count": null,
       "_view_module": "@jupyter-widgets/base",
       "_view_module_version": "1.2.0",
       "_view_name": "LayoutView",
       "align_content": null,
       "align_items": null,
       "align_self": null,
       "border": null,
       "bottom": null,
       "display": null,
       "flex": null,
       "flex_flow": null,
       "grid_area": null,
       "grid_auto_columns": null,
       "grid_auto_flow": null,
       "grid_auto_rows": null,
       "grid_column": null,
       "grid_gap": null,
       "grid_row": null,
       "grid_template_areas": null,
       "grid_template_columns": null,
       "grid_template_rows": null,
       "height": null,
       "justify_content": null,
       "justify_items": null,
       "left": null,
       "margin": null,
       "max_height": null,
       "max_width": null,
       "min_height": null,
       "min_width": null,
       "object_fit": null,
       "object_position": null,
       "order": null,
       "overflow": null,
       "overflow_x": null,
       "overflow_y": null,
       "padding": null,
       "right": null,
       "top": null,
       "visibility": null,
       "width": null
      }
     },
     "6cce931952c74315acca163eff146cf8": {
      "model_module": "@jupyter-widgets/base",
      "model_module_version": "1.2.0",
      "model_name": "LayoutModel",
      "state": {
       "_model_module": "@jupyter-widgets/base",
       "_model_module_version": "1.2.0",
       "_model_name": "LayoutModel",
       "_view_count": null,
       "_view_module": "@jupyter-widgets/base",
       "_view_module_version": "1.2.0",
       "_view_name": "LayoutView",
       "align_content": null,
       "align_items": null,
       "align_self": null,
       "border": null,
       "bottom": null,
       "display": null,
       "flex": null,
       "flex_flow": null,
       "grid_area": null,
       "grid_auto_columns": null,
       "grid_auto_flow": null,
       "grid_auto_rows": null,
       "grid_column": null,
       "grid_gap": null,
       "grid_row": null,
       "grid_template_areas": null,
       "grid_template_columns": null,
       "grid_template_rows": null,
       "height": null,
       "justify_content": null,
       "justify_items": null,
       "left": null,
       "margin": null,
       "max_height": null,
       "max_width": null,
       "min_height": null,
       "min_width": null,
       "object_fit": null,
       "object_position": null,
       "order": null,
       "overflow": null,
       "overflow_x": null,
       "overflow_y": null,
       "padding": null,
       "right": null,
       "top": null,
       "visibility": null,
       "width": null
      }
     },
     "6d471ce030e4434383abbebb859a702f": {
      "model_module": "@jupyter-widgets/controls",
      "model_module_version": "1.5.0",
      "model_name": "DescriptionStyleModel",
      "state": {
       "_model_module": "@jupyter-widgets/controls",
       "_model_module_version": "1.5.0",
       "_model_name": "DescriptionStyleModel",
       "_view_count": null,
       "_view_module": "@jupyter-widgets/base",
       "_view_module_version": "1.2.0",
       "_view_name": "StyleView",
       "description_width": ""
      }
     },
     "6eed24e4b12f4b47b4d6378981475c88": {
      "model_module": "@jupyter-widgets/base",
      "model_module_version": "1.2.0",
      "model_name": "LayoutModel",
      "state": {
       "_model_module": "@jupyter-widgets/base",
       "_model_module_version": "1.2.0",
       "_model_name": "LayoutModel",
       "_view_count": null,
       "_view_module": "@jupyter-widgets/base",
       "_view_module_version": "1.2.0",
       "_view_name": "LayoutView",
       "align_content": null,
       "align_items": null,
       "align_self": null,
       "border": null,
       "bottom": null,
       "display": null,
       "flex": null,
       "flex_flow": null,
       "grid_area": null,
       "grid_auto_columns": null,
       "grid_auto_flow": null,
       "grid_auto_rows": null,
       "grid_column": null,
       "grid_gap": null,
       "grid_row": null,
       "grid_template_areas": null,
       "grid_template_columns": null,
       "grid_template_rows": null,
       "height": null,
       "justify_content": null,
       "justify_items": null,
       "left": null,
       "margin": null,
       "max_height": null,
       "max_width": null,
       "min_height": null,
       "min_width": null,
       "object_fit": null,
       "object_position": null,
       "order": null,
       "overflow": null,
       "overflow_x": null,
       "overflow_y": null,
       "padding": null,
       "right": null,
       "top": null,
       "visibility": null,
       "width": null
      }
     },
     "715151c08f7345f2af72ff0194a4220c": {
      "model_module": "@jupyter-widgets/controls",
      "model_module_version": "1.5.0",
      "model_name": "DescriptionStyleModel",
      "state": {
       "_model_module": "@jupyter-widgets/controls",
       "_model_module_version": "1.5.0",
       "_model_name": "DescriptionStyleModel",
       "_view_count": null,
       "_view_module": "@jupyter-widgets/base",
       "_view_module_version": "1.2.0",
       "_view_name": "StyleView",
       "description_width": ""
      }
     },
     "71561650a5ff47b0a3816713f08135c2": {
      "model_module": "@jupyter-widgets/base",
      "model_module_version": "1.2.0",
      "model_name": "LayoutModel",
      "state": {
       "_model_module": "@jupyter-widgets/base",
       "_model_module_version": "1.2.0",
       "_model_name": "LayoutModel",
       "_view_count": null,
       "_view_module": "@jupyter-widgets/base",
       "_view_module_version": "1.2.0",
       "_view_name": "LayoutView",
       "align_content": null,
       "align_items": null,
       "align_self": null,
       "border": null,
       "bottom": null,
       "display": null,
       "flex": null,
       "flex_flow": null,
       "grid_area": null,
       "grid_auto_columns": null,
       "grid_auto_flow": null,
       "grid_auto_rows": null,
       "grid_column": null,
       "grid_gap": null,
       "grid_row": null,
       "grid_template_areas": null,
       "grid_template_columns": null,
       "grid_template_rows": null,
       "height": null,
       "justify_content": null,
       "justify_items": null,
       "left": null,
       "margin": null,
       "max_height": null,
       "max_width": null,
       "min_height": null,
       "min_width": null,
       "object_fit": null,
       "object_position": null,
       "order": null,
       "overflow": null,
       "overflow_x": null,
       "overflow_y": null,
       "padding": null,
       "right": null,
       "top": null,
       "visibility": null,
       "width": null
      }
     },
     "78936425bb914dbf851d919abc056c1e": {
      "model_module": "@jupyter-widgets/controls",
      "model_module_version": "1.5.0",
      "model_name": "DescriptionStyleModel",
      "state": {
       "_model_module": "@jupyter-widgets/controls",
       "_model_module_version": "1.5.0",
       "_model_name": "DescriptionStyleModel",
       "_view_count": null,
       "_view_module": "@jupyter-widgets/base",
       "_view_module_version": "1.2.0",
       "_view_name": "StyleView",
       "description_width": ""
      }
     },
     "7a0d882aa5c94e0993453a2338be6c00": {
      "model_module": "@jupyter-widgets/base",
      "model_module_version": "1.2.0",
      "model_name": "LayoutModel",
      "state": {
       "_model_module": "@jupyter-widgets/base",
       "_model_module_version": "1.2.0",
       "_model_name": "LayoutModel",
       "_view_count": null,
       "_view_module": "@jupyter-widgets/base",
       "_view_module_version": "1.2.0",
       "_view_name": "LayoutView",
       "align_content": null,
       "align_items": null,
       "align_self": null,
       "border": null,
       "bottom": null,
       "display": null,
       "flex": null,
       "flex_flow": null,
       "grid_area": null,
       "grid_auto_columns": null,
       "grid_auto_flow": null,
       "grid_auto_rows": null,
       "grid_column": null,
       "grid_gap": null,
       "grid_row": null,
       "grid_template_areas": null,
       "grid_template_columns": null,
       "grid_template_rows": null,
       "height": null,
       "justify_content": null,
       "justify_items": null,
       "left": null,
       "margin": null,
       "max_height": null,
       "max_width": null,
       "min_height": null,
       "min_width": null,
       "object_fit": null,
       "object_position": null,
       "order": null,
       "overflow": null,
       "overflow_x": null,
       "overflow_y": null,
       "padding": null,
       "right": null,
       "top": null,
       "visibility": null,
       "width": null
      }
     },
     "7cd461922f2f45b79239893dbbc4017d": {
      "model_module": "@jupyter-widgets/controls",
      "model_module_version": "1.5.0",
      "model_name": "ProgressStyleModel",
      "state": {
       "_model_module": "@jupyter-widgets/controls",
       "_model_module_version": "1.5.0",
       "_model_name": "ProgressStyleModel",
       "_view_count": null,
       "_view_module": "@jupyter-widgets/base",
       "_view_module_version": "1.2.0",
       "_view_name": "StyleView",
       "bar_color": null,
       "description_width": ""
      }
     },
     "7db19c6deb0f42df9a7ad5ada8080762": {
      "model_module": "@jupyter-widgets/controls",
      "model_module_version": "1.5.0",
      "model_name": "DescriptionStyleModel",
      "state": {
       "_model_module": "@jupyter-widgets/controls",
       "_model_module_version": "1.5.0",
       "_model_name": "DescriptionStyleModel",
       "_view_count": null,
       "_view_module": "@jupyter-widgets/base",
       "_view_module_version": "1.2.0",
       "_view_name": "StyleView",
       "description_width": ""
      }
     },
     "852d93d167304c67a0dfc26ae88d4b8f": {
      "model_module": "@jupyter-widgets/controls",
      "model_module_version": "1.5.0",
      "model_name": "ProgressStyleModel",
      "state": {
       "_model_module": "@jupyter-widgets/controls",
       "_model_module_version": "1.5.0",
       "_model_name": "ProgressStyleModel",
       "_view_count": null,
       "_view_module": "@jupyter-widgets/base",
       "_view_module_version": "1.2.0",
       "_view_name": "StyleView",
       "bar_color": null,
       "description_width": ""
      }
     },
     "86b734a44dd84ea3b1d112bae7714402": {
      "model_module": "@jupyter-widgets/base",
      "model_module_version": "1.2.0",
      "model_name": "LayoutModel",
      "state": {
       "_model_module": "@jupyter-widgets/base",
       "_model_module_version": "1.2.0",
       "_model_name": "LayoutModel",
       "_view_count": null,
       "_view_module": "@jupyter-widgets/base",
       "_view_module_version": "1.2.0",
       "_view_name": "LayoutView",
       "align_content": null,
       "align_items": null,
       "align_self": null,
       "border": null,
       "bottom": null,
       "display": null,
       "flex": null,
       "flex_flow": null,
       "grid_area": null,
       "grid_auto_columns": null,
       "grid_auto_flow": null,
       "grid_auto_rows": null,
       "grid_column": null,
       "grid_gap": null,
       "grid_row": null,
       "grid_template_areas": null,
       "grid_template_columns": null,
       "grid_template_rows": null,
       "height": null,
       "justify_content": null,
       "justify_items": null,
       "left": null,
       "margin": null,
       "max_height": null,
       "max_width": null,
       "min_height": null,
       "min_width": null,
       "object_fit": null,
       "object_position": null,
       "order": null,
       "overflow": null,
       "overflow_x": null,
       "overflow_y": null,
       "padding": null,
       "right": null,
       "top": null,
       "visibility": null,
       "width": null
      }
     },
     "8784e877805846588db85eb1e66dd934": {
      "model_module": "@jupyter-widgets/controls",
      "model_module_version": "1.5.0",
      "model_name": "VBoxModel",
      "state": {
       "_dom_classes": [],
       "_model_module": "@jupyter-widgets/controls",
       "_model_module_version": "1.5.0",
       "_model_name": "VBoxModel",
       "_view_count": null,
       "_view_module": "@jupyter-widgets/controls",
       "_view_module_version": "1.5.0",
       "_view_name": "VBoxView",
       "box_style": "",
       "children": [
        "IPY_MODEL_e94fb33773d1432585b3ce06f6173cae",
        "IPY_MODEL_890b89d3ad834bed95ff64165cc73713"
       ],
       "layout": "IPY_MODEL_c9149b31bb1c486894182f6fd0f02efc"
      }
     },
     "88bf947d6068495cb66e1871df25ac3a": {
      "model_module": "@jupyter-widgets/controls",
      "model_module_version": "1.5.0",
      "model_name": "VBoxModel",
      "state": {
       "_dom_classes": [],
       "_model_module": "@jupyter-widgets/controls",
       "_model_module_version": "1.5.0",
       "_model_name": "VBoxModel",
       "_view_count": null,
       "_view_module": "@jupyter-widgets/controls",
       "_view_module_version": "1.5.0",
       "_view_name": "VBoxView",
       "box_style": "",
       "children": [
        "IPY_MODEL_4943ce8d0e5d48a986dda48cbbe54067",
        "IPY_MODEL_d5a46d7ec73a495a804d7e954f073b63"
       ],
       "layout": "IPY_MODEL_ba45cd37bb1049b6922ed76e74ec83bf"
      }
     },
     "890b89d3ad834bed95ff64165cc73713": {
      "model_module": "@jupyter-widgets/controls",
      "model_module_version": "1.5.0",
      "model_name": "FloatProgressModel",
      "state": {
       "_dom_classes": [],
       "_model_module": "@jupyter-widgets/controls",
       "_model_module_version": "1.5.0",
       "_model_name": "FloatProgressModel",
       "_view_count": null,
       "_view_module": "@jupyter-widgets/controls",
       "_view_module_version": "1.5.0",
       "_view_name": "ProgressView",
       "bar_style": "",
       "description": "",
       "description_tooltip": null,
       "layout": "IPY_MODEL_e156457e91c64f0aa1c131f25003fdc6",
       "max": 1.0,
       "min": 0.0,
       "orientation": "horizontal",
       "style": "IPY_MODEL_fcf7e82d962d48b88ab7b66fe0f67265",
       "value": 0.0
      }
     },
     "8ab955135e7941288bc61903b90afb05": {
      "model_module": "@jupyter-widgets/controls",
      "model_module_version": "1.5.0",
      "model_name": "FloatProgressModel",
      "state": {
       "_dom_classes": [],
       "_model_module": "@jupyter-widgets/controls",
       "_model_module_version": "1.5.0",
       "_model_name": "FloatProgressModel",
       "_view_count": null,
       "_view_module": "@jupyter-widgets/controls",
       "_view_module_version": "1.5.0",
       "_view_name": "ProgressView",
       "bar_style": "",
       "description": "",
       "description_tooltip": null,
       "layout": "IPY_MODEL_0c5abbb55e7147a59edd68d9b1ceccb3",
       "max": 1.0,
       "min": 0.0,
       "orientation": "horizontal",
       "style": "IPY_MODEL_120802c0adfe4af69a9e1dc36378b19a",
       "value": 0.0
      }
     },
     "8ecc85adee1646728380f41d7338d3e1": {
      "model_module": "@jupyter-widgets/controls",
      "model_module_version": "1.5.0",
      "model_name": "LabelModel",
      "state": {
       "_dom_classes": [],
       "_model_module": "@jupyter-widgets/controls",
       "_model_module_version": "1.5.0",
       "_model_name": "LabelModel",
       "_view_count": null,
       "_view_module": "@jupyter-widgets/controls",
       "_view_module_version": "1.5.0",
       "_view_name": "LabelView",
       "description": "",
       "description_tooltip": null,
       "layout": "IPY_MODEL_13459460663b4e5da786433e8de11faa",
       "placeholder": "​",
       "style": "IPY_MODEL_47a8ce12cc3546bf9156b04089c15112",
       "value": ""
      }
     },
     "8f8ebeb2cd9e48119df08bbf58b4b1ff": {
      "model_module": "@jupyter-widgets/controls",
      "model_module_version": "1.5.0",
      "model_name": "LabelModel",
      "state": {
       "_dom_classes": [],
       "_model_module": "@jupyter-widgets/controls",
       "_model_module_version": "1.5.0",
       "_model_name": "LabelModel",
       "_view_count": null,
       "_view_module": "@jupyter-widgets/controls",
       "_view_module_version": "1.5.0",
       "_view_name": "LabelView",
       "description": "",
       "description_tooltip": null,
       "layout": "IPY_MODEL_71561650a5ff47b0a3816713f08135c2",
       "placeholder": "​",
       "style": "IPY_MODEL_ba6ea494e2b84c4cb7616489d50b7c01",
       "value": ""
      }
     },
     "92e01809a99e403d9dda2e5c038635c8": {
      "model_module": "@jupyter-widgets/controls",
      "model_module_version": "1.5.0",
      "model_name": "ProgressStyleModel",
      "state": {
       "_model_module": "@jupyter-widgets/controls",
       "_model_module_version": "1.5.0",
       "_model_name": "ProgressStyleModel",
       "_view_count": null,
       "_view_module": "@jupyter-widgets/base",
       "_view_module_version": "1.2.0",
       "_view_name": "StyleView",
       "bar_color": null,
       "description_width": ""
      }
     },
     "98b24ebe347640dea05a3a2b196d50df": {
      "model_module": "@jupyter-widgets/controls",
      "model_module_version": "1.5.0",
      "model_name": "DescriptionStyleModel",
      "state": {
       "_model_module": "@jupyter-widgets/controls",
       "_model_module_version": "1.5.0",
       "_model_name": "DescriptionStyleModel",
       "_view_count": null,
       "_view_module": "@jupyter-widgets/base",
       "_view_module_version": "1.2.0",
       "_view_name": "StyleView",
       "description_width": ""
      }
     },
     "a310d4ccf9874a4e83b0d8faeb639a8f": {
      "model_module": "@jupyter-widgets/controls",
      "model_module_version": "1.5.0",
      "model_name": "FloatProgressModel",
      "state": {
       "_dom_classes": [],
       "_model_module": "@jupyter-widgets/controls",
       "_model_module_version": "1.5.0",
       "_model_name": "FloatProgressModel",
       "_view_count": null,
       "_view_module": "@jupyter-widgets/controls",
       "_view_module_version": "1.5.0",
       "_view_name": "ProgressView",
       "bar_style": "",
       "description": "",
       "description_tooltip": null,
       "layout": "IPY_MODEL_6c3105c0aac5495a91fc6c0689cead03",
       "max": 1.0,
       "min": 0.0,
       "orientation": "horizontal",
       "style": "IPY_MODEL_2bfaac9d2a9b499eab04f4acfa0e76d7",
       "value": 0.0
      }
     },
     "a5576d78580044ce8caeeea6ecfebb1b": {
      "model_module": "@jupyter-widgets/controls",
      "model_module_version": "1.5.0",
      "model_name": "DescriptionStyleModel",
      "state": {
       "_model_module": "@jupyter-widgets/controls",
       "_model_module_version": "1.5.0",
       "_model_name": "DescriptionStyleModel",
       "_view_count": null,
       "_view_module": "@jupyter-widgets/base",
       "_view_module_version": "1.2.0",
       "_view_name": "StyleView",
       "description_width": ""
      }
     },
     "a56febbc79234ee59f5091ed512a7814": {
      "model_module": "@jupyter-widgets/base",
      "model_module_version": "1.2.0",
      "model_name": "LayoutModel",
      "state": {
       "_model_module": "@jupyter-widgets/base",
       "_model_module_version": "1.2.0",
       "_model_name": "LayoutModel",
       "_view_count": null,
       "_view_module": "@jupyter-widgets/base",
       "_view_module_version": "1.2.0",
       "_view_name": "LayoutView",
       "align_content": null,
       "align_items": null,
       "align_self": null,
       "border": null,
       "bottom": null,
       "display": null,
       "flex": null,
       "flex_flow": null,
       "grid_area": null,
       "grid_auto_columns": null,
       "grid_auto_flow": null,
       "grid_auto_rows": null,
       "grid_column": null,
       "grid_gap": null,
       "grid_row": null,
       "grid_template_areas": null,
       "grid_template_columns": null,
       "grid_template_rows": null,
       "height": null,
       "justify_content": null,
       "justify_items": null,
       "left": null,
       "margin": null,
       "max_height": null,
       "max_width": null,
       "min_height": null,
       "min_width": null,
       "object_fit": null,
       "object_position": null,
       "order": null,
       "overflow": null,
       "overflow_x": null,
       "overflow_y": null,
       "padding": null,
       "right": null,
       "top": null,
       "visibility": null,
       "width": null
      }
     },
     "a73de9a8d7384bba87caee1a0fbe904c": {
      "model_module": "@jupyter-widgets/base",
      "model_module_version": "1.2.0",
      "model_name": "LayoutModel",
      "state": {
       "_model_module": "@jupyter-widgets/base",
       "_model_module_version": "1.2.0",
       "_model_name": "LayoutModel",
       "_view_count": null,
       "_view_module": "@jupyter-widgets/base",
       "_view_module_version": "1.2.0",
       "_view_name": "LayoutView",
       "align_content": null,
       "align_items": null,
       "align_self": null,
       "border": null,
       "bottom": null,
       "display": null,
       "flex": null,
       "flex_flow": null,
       "grid_area": null,
       "grid_auto_columns": null,
       "grid_auto_flow": null,
       "grid_auto_rows": null,
       "grid_column": null,
       "grid_gap": null,
       "grid_row": null,
       "grid_template_areas": null,
       "grid_template_columns": null,
       "grid_template_rows": null,
       "height": null,
       "justify_content": null,
       "justify_items": null,
       "left": null,
       "margin": null,
       "max_height": null,
       "max_width": null,
       "min_height": null,
       "min_width": null,
       "object_fit": null,
       "object_position": null,
       "order": null,
       "overflow": null,
       "overflow_x": null,
       "overflow_y": null,
       "padding": null,
       "right": null,
       "top": null,
       "visibility": null,
       "width": null
      }
     },
     "ab1c4a1e33e540fbb3c8f8b740bec99f": {
      "model_module": "@jupyter-widgets/base",
      "model_module_version": "1.2.0",
      "model_name": "LayoutModel",
      "state": {
       "_model_module": "@jupyter-widgets/base",
       "_model_module_version": "1.2.0",
       "_model_name": "LayoutModel",
       "_view_count": null,
       "_view_module": "@jupyter-widgets/base",
       "_view_module_version": "1.2.0",
       "_view_name": "LayoutView",
       "align_content": null,
       "align_items": null,
       "align_self": null,
       "border": null,
       "bottom": null,
       "display": null,
       "flex": null,
       "flex_flow": null,
       "grid_area": null,
       "grid_auto_columns": null,
       "grid_auto_flow": null,
       "grid_auto_rows": null,
       "grid_column": null,
       "grid_gap": null,
       "grid_row": null,
       "grid_template_areas": null,
       "grid_template_columns": null,
       "grid_template_rows": null,
       "height": null,
       "justify_content": null,
       "justify_items": null,
       "left": null,
       "margin": null,
       "max_height": null,
       "max_width": null,
       "min_height": null,
       "min_width": null,
       "object_fit": null,
       "object_position": null,
       "order": null,
       "overflow": null,
       "overflow_x": null,
       "overflow_y": null,
       "padding": null,
       "right": null,
       "top": null,
       "visibility": null,
       "width": null
      }
     },
     "af5cbf3436ab4468969887ff439b5871": {
      "model_module": "@jupyter-widgets/base",
      "model_module_version": "1.2.0",
      "model_name": "LayoutModel",
      "state": {
       "_model_module": "@jupyter-widgets/base",
       "_model_module_version": "1.2.0",
       "_model_name": "LayoutModel",
       "_view_count": null,
       "_view_module": "@jupyter-widgets/base",
       "_view_module_version": "1.2.0",
       "_view_name": "LayoutView",
       "align_content": null,
       "align_items": null,
       "align_self": null,
       "border": null,
       "bottom": null,
       "display": null,
       "flex": null,
       "flex_flow": null,
       "grid_area": null,
       "grid_auto_columns": null,
       "grid_auto_flow": null,
       "grid_auto_rows": null,
       "grid_column": null,
       "grid_gap": null,
       "grid_row": null,
       "grid_template_areas": null,
       "grid_template_columns": null,
       "grid_template_rows": null,
       "height": null,
       "justify_content": null,
       "justify_items": null,
       "left": null,
       "margin": null,
       "max_height": null,
       "max_width": null,
       "min_height": null,
       "min_width": null,
       "object_fit": null,
       "object_position": null,
       "order": null,
       "overflow": null,
       "overflow_x": null,
       "overflow_y": null,
       "padding": null,
       "right": null,
       "top": null,
       "visibility": null,
       "width": null
      }
     },
     "b16b6957ac644f9ab3811df6e5105675": {
      "model_module": "@jupyter-widgets/base",
      "model_module_version": "1.2.0",
      "model_name": "LayoutModel",
      "state": {
       "_model_module": "@jupyter-widgets/base",
       "_model_module_version": "1.2.0",
       "_model_name": "LayoutModel",
       "_view_count": null,
       "_view_module": "@jupyter-widgets/base",
       "_view_module_version": "1.2.0",
       "_view_name": "LayoutView",
       "align_content": null,
       "align_items": null,
       "align_self": null,
       "border": null,
       "bottom": null,
       "display": null,
       "flex": null,
       "flex_flow": null,
       "grid_area": null,
       "grid_auto_columns": null,
       "grid_auto_flow": null,
       "grid_auto_rows": null,
       "grid_column": null,
       "grid_gap": null,
       "grid_row": null,
       "grid_template_areas": null,
       "grid_template_columns": null,
       "grid_template_rows": null,
       "height": null,
       "justify_content": null,
       "justify_items": null,
       "left": null,
       "margin": null,
       "max_height": null,
       "max_width": null,
       "min_height": null,
       "min_width": null,
       "object_fit": null,
       "object_position": null,
       "order": null,
       "overflow": null,
       "overflow_x": null,
       "overflow_y": null,
       "padding": null,
       "right": null,
       "top": null,
       "visibility": null,
       "width": null
      }
     },
     "b2890e4a0b3e4b04831645f2fac1dbcb": {
      "model_module": "@jupyter-widgets/controls",
      "model_module_version": "1.5.0",
      "model_name": "VBoxModel",
      "state": {
       "_dom_classes": [],
       "_model_module": "@jupyter-widgets/controls",
       "_model_module_version": "1.5.0",
       "_model_name": "VBoxModel",
       "_view_count": null,
       "_view_module": "@jupyter-widgets/controls",
       "_view_module_version": "1.5.0",
       "_view_name": "VBoxView",
       "box_style": "",
       "children": [
        "IPY_MODEL_d4d8296bd83944c0a046b31b83796a59",
        "IPY_MODEL_25dd5014d06445d18e54eba2f273ed2b"
       ],
       "layout": "IPY_MODEL_b16b6957ac644f9ab3811df6e5105675"
      }
     },
     "b7a1df11c23f403ca6c23d5a196720cc": {
      "model_module": "@jupyter-widgets/controls",
      "model_module_version": "1.5.0",
      "model_name": "LabelModel",
      "state": {
       "_dom_classes": [],
       "_model_module": "@jupyter-widgets/controls",
       "_model_module_version": "1.5.0",
       "_model_name": "LabelModel",
       "_view_count": null,
       "_view_module": "@jupyter-widgets/controls",
       "_view_module_version": "1.5.0",
       "_view_name": "LabelView",
       "description": "",
       "description_tooltip": null,
       "layout": "IPY_MODEL_51c125667e44410b886d41e3d524cb55",
       "placeholder": "​",
       "style": "IPY_MODEL_7db19c6deb0f42df9a7ad5ada8080762",
       "value": ""
      }
     },
     "ba45cd37bb1049b6922ed76e74ec83bf": {
      "model_module": "@jupyter-widgets/base",
      "model_module_version": "1.2.0",
      "model_name": "LayoutModel",
      "state": {
       "_model_module": "@jupyter-widgets/base",
       "_model_module_version": "1.2.0",
       "_model_name": "LayoutModel",
       "_view_count": null,
       "_view_module": "@jupyter-widgets/base",
       "_view_module_version": "1.2.0",
       "_view_name": "LayoutView",
       "align_content": null,
       "align_items": null,
       "align_self": null,
       "border": null,
       "bottom": null,
       "display": null,
       "flex": null,
       "flex_flow": null,
       "grid_area": null,
       "grid_auto_columns": null,
       "grid_auto_flow": null,
       "grid_auto_rows": null,
       "grid_column": null,
       "grid_gap": null,
       "grid_row": null,
       "grid_template_areas": null,
       "grid_template_columns": null,
       "grid_template_rows": null,
       "height": null,
       "justify_content": null,
       "justify_items": null,
       "left": null,
       "margin": null,
       "max_height": null,
       "max_width": null,
       "min_height": null,
       "min_width": null,
       "object_fit": null,
       "object_position": null,
       "order": null,
       "overflow": null,
       "overflow_x": null,
       "overflow_y": null,
       "padding": null,
       "right": null,
       "top": null,
       "visibility": null,
       "width": null
      }
     },
     "ba6ea494e2b84c4cb7616489d50b7c01": {
      "model_module": "@jupyter-widgets/controls",
      "model_module_version": "1.5.0",
      "model_name": "DescriptionStyleModel",
      "state": {
       "_model_module": "@jupyter-widgets/controls",
       "_model_module_version": "1.5.0",
       "_model_name": "DescriptionStyleModel",
       "_view_count": null,
       "_view_module": "@jupyter-widgets/base",
       "_view_module_version": "1.2.0",
       "_view_name": "StyleView",
       "description_width": ""
      }
     },
     "bad8e3bf88dc4114bf06d2eea609d915": {
      "model_module": "@jupyter-widgets/base",
      "model_module_version": "1.2.0",
      "model_name": "LayoutModel",
      "state": {
       "_model_module": "@jupyter-widgets/base",
       "_model_module_version": "1.2.0",
       "_model_name": "LayoutModel",
       "_view_count": null,
       "_view_module": "@jupyter-widgets/base",
       "_view_module_version": "1.2.0",
       "_view_name": "LayoutView",
       "align_content": null,
       "align_items": null,
       "align_self": null,
       "border": null,
       "bottom": null,
       "display": null,
       "flex": null,
       "flex_flow": null,
       "grid_area": null,
       "grid_auto_columns": null,
       "grid_auto_flow": null,
       "grid_auto_rows": null,
       "grid_column": null,
       "grid_gap": null,
       "grid_row": null,
       "grid_template_areas": null,
       "grid_template_columns": null,
       "grid_template_rows": null,
       "height": null,
       "justify_content": null,
       "justify_items": null,
       "left": null,
       "margin": null,
       "max_height": null,
       "max_width": null,
       "min_height": null,
       "min_width": null,
       "object_fit": null,
       "object_position": null,
       "order": null,
       "overflow": null,
       "overflow_x": null,
       "overflow_y": null,
       "padding": null,
       "right": null,
       "top": null,
       "visibility": null,
       "width": null
      }
     },
     "c7c73e881ef64ee9b72e9e3eaf80ccc3": {
      "model_module": "@jupyter-widgets/base",
      "model_module_version": "1.2.0",
      "model_name": "LayoutModel",
      "state": {
       "_model_module": "@jupyter-widgets/base",
       "_model_module_version": "1.2.0",
       "_model_name": "LayoutModel",
       "_view_count": null,
       "_view_module": "@jupyter-widgets/base",
       "_view_module_version": "1.2.0",
       "_view_name": "LayoutView",
       "align_content": null,
       "align_items": null,
       "align_self": null,
       "border": null,
       "bottom": null,
       "display": null,
       "flex": null,
       "flex_flow": null,
       "grid_area": null,
       "grid_auto_columns": null,
       "grid_auto_flow": null,
       "grid_auto_rows": null,
       "grid_column": null,
       "grid_gap": null,
       "grid_row": null,
       "grid_template_areas": null,
       "grid_template_columns": null,
       "grid_template_rows": null,
       "height": null,
       "justify_content": null,
       "justify_items": null,
       "left": null,
       "margin": null,
       "max_height": null,
       "max_width": null,
       "min_height": null,
       "min_width": null,
       "object_fit": null,
       "object_position": null,
       "order": null,
       "overflow": null,
       "overflow_x": null,
       "overflow_y": null,
       "padding": null,
       "right": null,
       "top": null,
       "visibility": null,
       "width": null
      }
     },
     "c9149b31bb1c486894182f6fd0f02efc": {
      "model_module": "@jupyter-widgets/base",
      "model_module_version": "1.2.0",
      "model_name": "LayoutModel",
      "state": {
       "_model_module": "@jupyter-widgets/base",
       "_model_module_version": "1.2.0",
       "_model_name": "LayoutModel",
       "_view_count": null,
       "_view_module": "@jupyter-widgets/base",
       "_view_module_version": "1.2.0",
       "_view_name": "LayoutView",
       "align_content": null,
       "align_items": null,
       "align_self": null,
       "border": null,
       "bottom": null,
       "display": null,
       "flex": null,
       "flex_flow": null,
       "grid_area": null,
       "grid_auto_columns": null,
       "grid_auto_flow": null,
       "grid_auto_rows": null,
       "grid_column": null,
       "grid_gap": null,
       "grid_row": null,
       "grid_template_areas": null,
       "grid_template_columns": null,
       "grid_template_rows": null,
       "height": null,
       "justify_content": null,
       "justify_items": null,
       "left": null,
       "margin": null,
       "max_height": null,
       "max_width": null,
       "min_height": null,
       "min_width": null,
       "object_fit": null,
       "object_position": null,
       "order": null,
       "overflow": null,
       "overflow_x": null,
       "overflow_y": null,
       "padding": null,
       "right": null,
       "top": null,
       "visibility": null,
       "width": null
      }
     },
     "cee5502a76fe42cfbe3bc6f16c348143": {
      "model_module": "@jupyter-widgets/base",
      "model_module_version": "1.2.0",
      "model_name": "LayoutModel",
      "state": {
       "_model_module": "@jupyter-widgets/base",
       "_model_module_version": "1.2.0",
       "_model_name": "LayoutModel",
       "_view_count": null,
       "_view_module": "@jupyter-widgets/base",
       "_view_module_version": "1.2.0",
       "_view_name": "LayoutView",
       "align_content": null,
       "align_items": null,
       "align_self": null,
       "border": null,
       "bottom": null,
       "display": null,
       "flex": null,
       "flex_flow": null,
       "grid_area": null,
       "grid_auto_columns": null,
       "grid_auto_flow": null,
       "grid_auto_rows": null,
       "grid_column": null,
       "grid_gap": null,
       "grid_row": null,
       "grid_template_areas": null,
       "grid_template_columns": null,
       "grid_template_rows": null,
       "height": null,
       "justify_content": null,
       "justify_items": null,
       "left": null,
       "margin": null,
       "max_height": null,
       "max_width": null,
       "min_height": null,
       "min_width": null,
       "object_fit": null,
       "object_position": null,
       "order": null,
       "overflow": null,
       "overflow_x": null,
       "overflow_y": null,
       "padding": null,
       "right": null,
       "top": null,
       "visibility": null,
       "width": null
      }
     },
     "cfc2e2bbf7b7402daffee60f6131e8fe": {
      "model_module": "@jupyter-widgets/controls",
      "model_module_version": "1.5.0",
      "model_name": "FloatProgressModel",
      "state": {
       "_dom_classes": [],
       "_model_module": "@jupyter-widgets/controls",
       "_model_module_version": "1.5.0",
       "_model_name": "FloatProgressModel",
       "_view_count": null,
       "_view_module": "@jupyter-widgets/controls",
       "_view_module_version": "1.5.0",
       "_view_name": "ProgressView",
       "bar_style": "",
       "description": "",
       "description_tooltip": null,
       "layout": "IPY_MODEL_249b185cfee64584af5e21724a93d728",
       "max": 1.0,
       "min": 0.0,
       "orientation": "horizontal",
       "style": "IPY_MODEL_852d93d167304c67a0dfc26ae88d4b8f",
       "value": 0.0
      }
     },
     "d02e47da8659486f81deef13553aae67": {
      "model_module": "@jupyter-widgets/base",
      "model_module_version": "1.2.0",
      "model_name": "LayoutModel",
      "state": {
       "_model_module": "@jupyter-widgets/base",
       "_model_module_version": "1.2.0",
       "_model_name": "LayoutModel",
       "_view_count": null,
       "_view_module": "@jupyter-widgets/base",
       "_view_module_version": "1.2.0",
       "_view_name": "LayoutView",
       "align_content": null,
       "align_items": null,
       "align_self": null,
       "border": null,
       "bottom": null,
       "display": null,
       "flex": null,
       "flex_flow": null,
       "grid_area": null,
       "grid_auto_columns": null,
       "grid_auto_flow": null,
       "grid_auto_rows": null,
       "grid_column": null,
       "grid_gap": null,
       "grid_row": null,
       "grid_template_areas": null,
       "grid_template_columns": null,
       "grid_template_rows": null,
       "height": null,
       "justify_content": null,
       "justify_items": null,
       "left": null,
       "margin": null,
       "max_height": null,
       "max_width": null,
       "min_height": null,
       "min_width": null,
       "object_fit": null,
       "object_position": null,
       "order": null,
       "overflow": null,
       "overflow_x": null,
       "overflow_y": null,
       "padding": null,
       "right": null,
       "top": null,
       "visibility": null,
       "width": null
      }
     },
     "d0d5b3d7609f4dc3b9460d42f7056aca": {
      "model_module": "@jupyter-widgets/base",
      "model_module_version": "1.2.0",
      "model_name": "LayoutModel",
      "state": {
       "_model_module": "@jupyter-widgets/base",
       "_model_module_version": "1.2.0",
       "_model_name": "LayoutModel",
       "_view_count": null,
       "_view_module": "@jupyter-widgets/base",
       "_view_module_version": "1.2.0",
       "_view_name": "LayoutView",
       "align_content": null,
       "align_items": null,
       "align_self": null,
       "border": null,
       "bottom": null,
       "display": null,
       "flex": null,
       "flex_flow": null,
       "grid_area": null,
       "grid_auto_columns": null,
       "grid_auto_flow": null,
       "grid_auto_rows": null,
       "grid_column": null,
       "grid_gap": null,
       "grid_row": null,
       "grid_template_areas": null,
       "grid_template_columns": null,
       "grid_template_rows": null,
       "height": null,
       "justify_content": null,
       "justify_items": null,
       "left": null,
       "margin": null,
       "max_height": null,
       "max_width": null,
       "min_height": null,
       "min_width": null,
       "object_fit": null,
       "object_position": null,
       "order": null,
       "overflow": null,
       "overflow_x": null,
       "overflow_y": null,
       "padding": null,
       "right": null,
       "top": null,
       "visibility": null,
       "width": null
      }
     },
     "d112afd4699e4e9da02eb42b1706afd7": {
      "model_module": "@jupyter-widgets/controls",
      "model_module_version": "1.5.0",
      "model_name": "VBoxModel",
      "state": {
       "_dom_classes": [],
       "_model_module": "@jupyter-widgets/controls",
       "_model_module_version": "1.5.0",
       "_model_name": "VBoxModel",
       "_view_count": null,
       "_view_module": "@jupyter-widgets/controls",
       "_view_module_version": "1.5.0",
       "_view_name": "VBoxView",
       "box_style": "",
       "children": [
        "IPY_MODEL_d4c41ee537e24e2b8e356c36788a7aa9",
        "IPY_MODEL_e5cdbaca9e3b4513b416c2a8bafef82b"
       ],
       "layout": "IPY_MODEL_6c3c31f9ad62401187877a86f3e5ced0"
      }
     },
     "d4c41ee537e24e2b8e356c36788a7aa9": {
      "model_module": "@jupyter-widgets/controls",
      "model_module_version": "1.5.0",
      "model_name": "LabelModel",
      "state": {
       "_dom_classes": [],
       "_model_module": "@jupyter-widgets/controls",
       "_model_module_version": "1.5.0",
       "_model_name": "LabelModel",
       "_view_count": null,
       "_view_module": "@jupyter-widgets/controls",
       "_view_module_version": "1.5.0",
       "_view_name": "LabelView",
       "description": "",
       "description_tooltip": null,
       "layout": "IPY_MODEL_7a0d882aa5c94e0993453a2338be6c00",
       "placeholder": "​",
       "style": "IPY_MODEL_64281bc63be94e8da250526bd0663407",
       "value": ""
      }
     },
     "d4d8296bd83944c0a046b31b83796a59": {
      "model_module": "@jupyter-widgets/controls",
      "model_module_version": "1.5.0",
      "model_name": "LabelModel",
      "state": {
       "_dom_classes": [],
       "_model_module": "@jupyter-widgets/controls",
       "_model_module_version": "1.5.0",
       "_model_name": "LabelModel",
       "_view_count": null,
       "_view_module": "@jupyter-widgets/controls",
       "_view_module_version": "1.5.0",
       "_view_name": "LabelView",
       "description": "",
       "description_tooltip": null,
       "layout": "IPY_MODEL_f287952b5e7f4725bbd628c0dcc8fb5f",
       "placeholder": "​",
       "style": "IPY_MODEL_4ce2315a26af4e329b8f786e9ab22415",
       "value": ""
      }
     },
     "d4e068c34ae446d5a02deb4ab89d1972": {
      "model_module": "@jupyter-widgets/base",
      "model_module_version": "1.2.0",
      "model_name": "LayoutModel",
      "state": {
       "_model_module": "@jupyter-widgets/base",
       "_model_module_version": "1.2.0",
       "_model_name": "LayoutModel",
       "_view_count": null,
       "_view_module": "@jupyter-widgets/base",
       "_view_module_version": "1.2.0",
       "_view_name": "LayoutView",
       "align_content": null,
       "align_items": null,
       "align_self": null,
       "border": null,
       "bottom": null,
       "display": null,
       "flex": null,
       "flex_flow": null,
       "grid_area": null,
       "grid_auto_columns": null,
       "grid_auto_flow": null,
       "grid_auto_rows": null,
       "grid_column": null,
       "grid_gap": null,
       "grid_row": null,
       "grid_template_areas": null,
       "grid_template_columns": null,
       "grid_template_rows": null,
       "height": null,
       "justify_content": null,
       "justify_items": null,
       "left": null,
       "margin": null,
       "max_height": null,
       "max_width": null,
       "min_height": null,
       "min_width": null,
       "object_fit": null,
       "object_position": null,
       "order": null,
       "overflow": null,
       "overflow_x": null,
       "overflow_y": null,
       "padding": null,
       "right": null,
       "top": null,
       "visibility": null,
       "width": null
      }
     },
     "d5a46d7ec73a495a804d7e954f073b63": {
      "model_module": "@jupyter-widgets/controls",
      "model_module_version": "1.5.0",
      "model_name": "FloatProgressModel",
      "state": {
       "_dom_classes": [],
       "_model_module": "@jupyter-widgets/controls",
       "_model_module_version": "1.5.0",
       "_model_name": "FloatProgressModel",
       "_view_count": null,
       "_view_module": "@jupyter-widgets/controls",
       "_view_module_version": "1.5.0",
       "_view_name": "ProgressView",
       "bar_style": "",
       "description": "",
       "description_tooltip": null,
       "layout": "IPY_MODEL_6eed24e4b12f4b47b4d6378981475c88",
       "max": 1.0,
       "min": 0.0,
       "orientation": "horizontal",
       "style": "IPY_MODEL_10f0f7df150c42bd9d9c2d8455020623",
       "value": 0.0
      }
     },
     "d829e726ff0543c59008dd163822139f": {
      "model_module": "@jupyter-widgets/controls",
      "model_module_version": "1.5.0",
      "model_name": "LabelModel",
      "state": {
       "_dom_classes": [],
       "_model_module": "@jupyter-widgets/controls",
       "_model_module_version": "1.5.0",
       "_model_name": "LabelModel",
       "_view_count": null,
       "_view_module": "@jupyter-widgets/controls",
       "_view_module_version": "1.5.0",
       "_view_name": "LabelView",
       "description": "",
       "description_tooltip": null,
       "layout": "IPY_MODEL_c7c73e881ef64ee9b72e9e3eaf80ccc3",
       "placeholder": "​",
       "style": "IPY_MODEL_715151c08f7345f2af72ff0194a4220c",
       "value": ""
      }
     },
     "d85e27e6ccb04218a1f866e55a68236f": {
      "model_module": "@jupyter-widgets/controls",
      "model_module_version": "1.5.0",
      "model_name": "VBoxModel",
      "state": {
       "_dom_classes": [],
       "_model_module": "@jupyter-widgets/controls",
       "_model_module_version": "1.5.0",
       "_model_name": "VBoxModel",
       "_view_count": null,
       "_view_module": "@jupyter-widgets/controls",
       "_view_module_version": "1.5.0",
       "_view_name": "VBoxView",
       "box_style": "",
       "children": [
        "IPY_MODEL_e5a4172c5cc0425bb0fe9d2317b5949a",
        "IPY_MODEL_cfc2e2bbf7b7402daffee60f6131e8fe"
       ],
       "layout": "IPY_MODEL_ea7bc6f569144b3e86b367bafecf8174"
      }
     },
     "e039708d1f744b29a5bae46da3aeff03": {
      "model_module": "@jupyter-widgets/base",
      "model_module_version": "1.2.0",
      "model_name": "LayoutModel",
      "state": {
       "_model_module": "@jupyter-widgets/base",
       "_model_module_version": "1.2.0",
       "_model_name": "LayoutModel",
       "_view_count": null,
       "_view_module": "@jupyter-widgets/base",
       "_view_module_version": "1.2.0",
       "_view_name": "LayoutView",
       "align_content": null,
       "align_items": null,
       "align_self": null,
       "border": null,
       "bottom": null,
       "display": null,
       "flex": null,
       "flex_flow": null,
       "grid_area": null,
       "grid_auto_columns": null,
       "grid_auto_flow": null,
       "grid_auto_rows": null,
       "grid_column": null,
       "grid_gap": null,
       "grid_row": null,
       "grid_template_areas": null,
       "grid_template_columns": null,
       "grid_template_rows": null,
       "height": null,
       "justify_content": null,
       "justify_items": null,
       "left": null,
       "margin": null,
       "max_height": null,
       "max_width": null,
       "min_height": null,
       "min_width": null,
       "object_fit": null,
       "object_position": null,
       "order": null,
       "overflow": null,
       "overflow_x": null,
       "overflow_y": null,
       "padding": null,
       "right": null,
       "top": null,
       "visibility": null,
       "width": null
      }
     },
     "e0a934f498bd45bcaf7552854a7e1dd4": {
      "model_module": "@jupyter-widgets/controls",
      "model_module_version": "1.5.0",
      "model_name": "LabelModel",
      "state": {
       "_dom_classes": [],
       "_model_module": "@jupyter-widgets/controls",
       "_model_module_version": "1.5.0",
       "_model_name": "LabelModel",
       "_view_count": null,
       "_view_module": "@jupyter-widgets/controls",
       "_view_module_version": "1.5.0",
       "_view_name": "LabelView",
       "description": "",
       "description_tooltip": null,
       "layout": "IPY_MODEL_ec2e150793e34ebdbf4747d0d37f9f56",
       "placeholder": "​",
       "style": "IPY_MODEL_98b24ebe347640dea05a3a2b196d50df",
       "value": ""
      }
     },
     "e156457e91c64f0aa1c131f25003fdc6": {
      "model_module": "@jupyter-widgets/base",
      "model_module_version": "1.2.0",
      "model_name": "LayoutModel",
      "state": {
       "_model_module": "@jupyter-widgets/base",
       "_model_module_version": "1.2.0",
       "_model_name": "LayoutModel",
       "_view_count": null,
       "_view_module": "@jupyter-widgets/base",
       "_view_module_version": "1.2.0",
       "_view_name": "LayoutView",
       "align_content": null,
       "align_items": null,
       "align_self": null,
       "border": null,
       "bottom": null,
       "display": null,
       "flex": null,
       "flex_flow": null,
       "grid_area": null,
       "grid_auto_columns": null,
       "grid_auto_flow": null,
       "grid_auto_rows": null,
       "grid_column": null,
       "grid_gap": null,
       "grid_row": null,
       "grid_template_areas": null,
       "grid_template_columns": null,
       "grid_template_rows": null,
       "height": null,
       "justify_content": null,
       "justify_items": null,
       "left": null,
       "margin": null,
       "max_height": null,
       "max_width": null,
       "min_height": null,
       "min_width": null,
       "object_fit": null,
       "object_position": null,
       "order": null,
       "overflow": null,
       "overflow_x": null,
       "overflow_y": null,
       "padding": null,
       "right": null,
       "top": null,
       "visibility": null,
       "width": null
      }
     },
     "e35834620abb49d4a726eff0c4350da6": {
      "model_module": "@jupyter-widgets/controls",
      "model_module_version": "1.5.0",
      "model_name": "FloatProgressModel",
      "state": {
       "_dom_classes": [],
       "_model_module": "@jupyter-widgets/controls",
       "_model_module_version": "1.5.0",
       "_model_name": "FloatProgressModel",
       "_view_count": null,
       "_view_module": "@jupyter-widgets/controls",
       "_view_module_version": "1.5.0",
       "_view_name": "ProgressView",
       "bar_style": "",
       "description": "",
       "description_tooltip": null,
       "layout": "IPY_MODEL_a73de9a8d7384bba87caee1a0fbe904c",
       "max": 1.0,
       "min": 0.0,
       "orientation": "horizontal",
       "style": "IPY_MODEL_06594f44e75b437caaa8b8e31ee6d2ce",
       "value": 0.0
      }
     },
     "e5a4172c5cc0425bb0fe9d2317b5949a": {
      "model_module": "@jupyter-widgets/controls",
      "model_module_version": "1.5.0",
      "model_name": "LabelModel",
      "state": {
       "_dom_classes": [],
       "_model_module": "@jupyter-widgets/controls",
       "_model_module_version": "1.5.0",
       "_model_name": "LabelModel",
       "_view_count": null,
       "_view_module": "@jupyter-widgets/controls",
       "_view_module_version": "1.5.0",
       "_view_name": "LabelView",
       "description": "",
       "description_tooltip": null,
       "layout": "IPY_MODEL_e039708d1f744b29a5bae46da3aeff03",
       "placeholder": "​",
       "style": "IPY_MODEL_6d471ce030e4434383abbebb859a702f",
       "value": ""
      }
     },
     "e5cdbaca9e3b4513b416c2a8bafef82b": {
      "model_module": "@jupyter-widgets/controls",
      "model_module_version": "1.5.0",
      "model_name": "FloatProgressModel",
      "state": {
       "_dom_classes": [],
       "_model_module": "@jupyter-widgets/controls",
       "_model_module_version": "1.5.0",
       "_model_name": "FloatProgressModel",
       "_view_count": null,
       "_view_module": "@jupyter-widgets/controls",
       "_view_module_version": "1.5.0",
       "_view_name": "ProgressView",
       "bar_style": "",
       "description": "",
       "description_tooltip": null,
       "layout": "IPY_MODEL_d4e068c34ae446d5a02deb4ab89d1972",
       "max": 1.0,
       "min": 0.0,
       "orientation": "horizontal",
       "style": "IPY_MODEL_92e01809a99e403d9dda2e5c038635c8",
       "value": 0.0
      }
     },
     "e7dbd3c4e19843d2b1a8ff8aefdc5b31": {
      "model_module": "@jupyter-widgets/controls",
      "model_module_version": "1.5.0",
      "model_name": "FloatProgressModel",
      "state": {
       "_dom_classes": [],
       "_model_module": "@jupyter-widgets/controls",
       "_model_module_version": "1.5.0",
       "_model_name": "FloatProgressModel",
       "_view_count": null,
       "_view_module": "@jupyter-widgets/controls",
       "_view_module_version": "1.5.0",
       "_view_name": "ProgressView",
       "bar_style": "",
       "description": "",
       "description_tooltip": null,
       "layout": "IPY_MODEL_af5cbf3436ab4468969887ff439b5871",
       "max": 1.0,
       "min": 0.0,
       "orientation": "horizontal",
       "style": "IPY_MODEL_7cd461922f2f45b79239893dbbc4017d",
       "value": 0.0
      }
     },
     "e90950da1d2549a6ba5530a1475f6f76": {
      "model_module": "@jupyter-widgets/controls",
      "model_module_version": "1.5.0",
      "model_name": "VBoxModel",
      "state": {
       "_dom_classes": [],
       "_model_module": "@jupyter-widgets/controls",
       "_model_module_version": "1.5.0",
       "_model_name": "VBoxModel",
       "_view_count": null,
       "_view_module": "@jupyter-widgets/controls",
       "_view_module_version": "1.5.0",
       "_view_name": "VBoxView",
       "box_style": "",
       "children": [
        "IPY_MODEL_e0a934f498bd45bcaf7552854a7e1dd4",
        "IPY_MODEL_509d3997a3e440b384580673171773dd"
       ],
       "layout": "IPY_MODEL_43669ee069c240c687c07f567ce2ee6e"
      }
     },
     "e94fb33773d1432585b3ce06f6173cae": {
      "model_module": "@jupyter-widgets/controls",
      "model_module_version": "1.5.0",
      "model_name": "LabelModel",
      "state": {
       "_dom_classes": [],
       "_model_module": "@jupyter-widgets/controls",
       "_model_module_version": "1.5.0",
       "_model_name": "LabelModel",
       "_view_count": null,
       "_view_module": "@jupyter-widgets/controls",
       "_view_module_version": "1.5.0",
       "_view_name": "LabelView",
       "description": "",
       "description_tooltip": null,
       "layout": "IPY_MODEL_10aa9edbd8194de0957b607accc5127b",
       "placeholder": "​",
       "style": "IPY_MODEL_78936425bb914dbf851d919abc056c1e",
       "value": ""
      }
     },
     "ea7bc6f569144b3e86b367bafecf8174": {
      "model_module": "@jupyter-widgets/base",
      "model_module_version": "1.2.0",
      "model_name": "LayoutModel",
      "state": {
       "_model_module": "@jupyter-widgets/base",
       "_model_module_version": "1.2.0",
       "_model_name": "LayoutModel",
       "_view_count": null,
       "_view_module": "@jupyter-widgets/base",
       "_view_module_version": "1.2.0",
       "_view_name": "LayoutView",
       "align_content": null,
       "align_items": null,
       "align_self": null,
       "border": null,
       "bottom": null,
       "display": null,
       "flex": null,
       "flex_flow": null,
       "grid_area": null,
       "grid_auto_columns": null,
       "grid_auto_flow": null,
       "grid_auto_rows": null,
       "grid_column": null,
       "grid_gap": null,
       "grid_row": null,
       "grid_template_areas": null,
       "grid_template_columns": null,
       "grid_template_rows": null,
       "height": null,
       "justify_content": null,
       "justify_items": null,
       "left": null,
       "margin": null,
       "max_height": null,
       "max_width": null,
       "min_height": null,
       "min_width": null,
       "object_fit": null,
       "object_position": null,
       "order": null,
       "overflow": null,
       "overflow_x": null,
       "overflow_y": null,
       "padding": null,
       "right": null,
       "top": null,
       "visibility": null,
       "width": null
      }
     },
     "ec2e150793e34ebdbf4747d0d37f9f56": {
      "model_module": "@jupyter-widgets/base",
      "model_module_version": "1.2.0",
      "model_name": "LayoutModel",
      "state": {
       "_model_module": "@jupyter-widgets/base",
       "_model_module_version": "1.2.0",
       "_model_name": "LayoutModel",
       "_view_count": null,
       "_view_module": "@jupyter-widgets/base",
       "_view_module_version": "1.2.0",
       "_view_name": "LayoutView",
       "align_content": null,
       "align_items": null,
       "align_self": null,
       "border": null,
       "bottom": null,
       "display": null,
       "flex": null,
       "flex_flow": null,
       "grid_area": null,
       "grid_auto_columns": null,
       "grid_auto_flow": null,
       "grid_auto_rows": null,
       "grid_column": null,
       "grid_gap": null,
       "grid_row": null,
       "grid_template_areas": null,
       "grid_template_columns": null,
       "grid_template_rows": null,
       "height": null,
       "justify_content": null,
       "justify_items": null,
       "left": null,
       "margin": null,
       "max_height": null,
       "max_width": null,
       "min_height": null,
       "min_width": null,
       "object_fit": null,
       "object_position": null,
       "order": null,
       "overflow": null,
       "overflow_x": null,
       "overflow_y": null,
       "padding": null,
       "right": null,
       "top": null,
       "visibility": null,
       "width": null
      }
     },
     "ed08212445fa43bab0231e3181e6919b": {
      "model_module": "@jupyter-widgets/controls",
      "model_module_version": "1.5.0",
      "model_name": "VBoxModel",
      "state": {
       "_dom_classes": [],
       "_model_module": "@jupyter-widgets/controls",
       "_model_module_version": "1.5.0",
       "_model_name": "VBoxModel",
       "_view_count": null,
       "_view_module": "@jupyter-widgets/controls",
       "_view_module_version": "1.5.0",
       "_view_name": "VBoxView",
       "box_style": "",
       "children": [
        "IPY_MODEL_8ecc85adee1646728380f41d7338d3e1",
        "IPY_MODEL_a310d4ccf9874a4e83b0d8faeb639a8f"
       ],
       "layout": "IPY_MODEL_d0d5b3d7609f4dc3b9460d42f7056aca"
      }
     },
     "f287952b5e7f4725bbd628c0dcc8fb5f": {
      "model_module": "@jupyter-widgets/base",
      "model_module_version": "1.2.0",
      "model_name": "LayoutModel",
      "state": {
       "_model_module": "@jupyter-widgets/base",
       "_model_module_version": "1.2.0",
       "_model_name": "LayoutModel",
       "_view_count": null,
       "_view_module": "@jupyter-widgets/base",
       "_view_module_version": "1.2.0",
       "_view_name": "LayoutView",
       "align_content": null,
       "align_items": null,
       "align_self": null,
       "border": null,
       "bottom": null,
       "display": null,
       "flex": null,
       "flex_flow": null,
       "grid_area": null,
       "grid_auto_columns": null,
       "grid_auto_flow": null,
       "grid_auto_rows": null,
       "grid_column": null,
       "grid_gap": null,
       "grid_row": null,
       "grid_template_areas": null,
       "grid_template_columns": null,
       "grid_template_rows": null,
       "height": null,
       "justify_content": null,
       "justify_items": null,
       "left": null,
       "margin": null,
       "max_height": null,
       "max_width": null,
       "min_height": null,
       "min_width": null,
       "object_fit": null,
       "object_position": null,
       "order": null,
       "overflow": null,
       "overflow_x": null,
       "overflow_y": null,
       "padding": null,
       "right": null,
       "top": null,
       "visibility": null,
       "width": null
      }
     },
     "f7425550eb10467c9e2b69be71a204c8": {
      "model_module": "@jupyter-widgets/controls",
      "model_module_version": "1.5.0",
      "model_name": "ProgressStyleModel",
      "state": {
       "_model_module": "@jupyter-widgets/controls",
       "_model_module_version": "1.5.0",
       "_model_name": "ProgressStyleModel",
       "_view_count": null,
       "_view_module": "@jupyter-widgets/base",
       "_view_module_version": "1.2.0",
       "_view_name": "StyleView",
       "bar_color": null,
       "description_width": ""
      }
     },
     "fcf7e82d962d48b88ab7b66fe0f67265": {
      "model_module": "@jupyter-widgets/controls",
      "model_module_version": "1.5.0",
      "model_name": "ProgressStyleModel",
      "state": {
       "_model_module": "@jupyter-widgets/controls",
       "_model_module_version": "1.5.0",
       "_model_name": "ProgressStyleModel",
       "_view_count": null,
       "_view_module": "@jupyter-widgets/base",
       "_view_module_version": "1.2.0",
       "_view_name": "StyleView",
       "bar_color": null,
       "description_width": ""
      }
     }
    },
    "version_major": 2,
    "version_minor": 0
   }
  }
 },
 "nbformat": 4,
 "nbformat_minor": 5
}
