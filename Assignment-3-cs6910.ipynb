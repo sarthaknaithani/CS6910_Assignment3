{
 "cells": [
  {
   "cell_type": "markdown",
   "id": "d045285d",
   "metadata": {
    "_cell_guid": "b1076dfc-b9ad-4769-8c92-a6c4dae69d19",
    "_uuid": "8f2839f25d086af736a60e9eeb907d3b93b6e0e5",
    "papermill": {
     "duration": 0.00647,
     "end_time": "2023-04-27T06:24:42.848232",
     "exception": false,
     "start_time": "2023-04-27T06:24:42.841762",
     "status": "completed"
    },
    "tags": []
   },
   "source": [
    "## IMPORTING LIBRARIES"
   ]
  },
  {
   "cell_type": "code",
   "execution_count": 1,
   "id": "691d6464",
   "metadata": {
    "execution": {
     "iopub.execute_input": "2023-04-27T06:24:42.860874Z",
     "iopub.status.busy": "2023-04-27T06:24:42.860284Z",
     "iopub.status.idle": "2023-04-27T06:24:45.742688Z",
     "shell.execute_reply": "2023-04-27T06:24:45.741612Z"
    },
    "papermill": {
     "duration": 2.892636,
     "end_time": "2023-04-27T06:24:45.745875",
     "exception": false,
     "start_time": "2023-04-27T06:24:42.853239",
     "status": "completed"
    },
    "tags": []
   },
   "outputs": [],
   "source": [
    "import requests,zipfile,io\n",
    "import pandas as pd\n",
    "import torch\n",
    "from torch.utils.data import Dataset, DataLoader\n",
    "import torch.nn as nn\n",
    "from torch import optim\n",
    "import numpy as np\n",
    "import random"
   ]
  },
  {
   "cell_type": "code",
   "execution_count": 2,
   "id": "51468970",
   "metadata": {
    "execution": {
     "iopub.execute_input": "2023-04-27T06:24:45.758595Z",
     "iopub.status.busy": "2023-04-27T06:24:45.757346Z",
     "iopub.status.idle": "2023-04-27T06:24:45.857345Z",
     "shell.execute_reply": "2023-04-27T06:24:45.856181Z"
    },
    "papermill": {
     "duration": 0.108912,
     "end_time": "2023-04-27T06:24:45.860118",
     "exception": false,
     "start_time": "2023-04-27T06:24:45.751206",
     "status": "completed"
    },
    "tags": []
   },
   "outputs": [],
   "source": [
    "device = torch.device(\"cuda\" if torch.cuda.is_available() else \"cpu\")"
   ]
  },
  {
   "cell_type": "markdown",
   "id": "0f7984c6",
   "metadata": {
    "papermill": {
     "duration": 0.005122,
     "end_time": "2023-04-27T06:24:45.870888",
     "exception": false,
     "start_time": "2023-04-27T06:24:45.865766",
     "status": "completed"
    },
    "tags": []
   },
   "source": [
    "## DOWNLOADING AND UNZIPPING DATA"
   ]
  },
  {
   "cell_type": "code",
   "execution_count": 3,
   "id": "032488d4",
   "metadata": {
    "execution": {
     "iopub.execute_input": "2023-04-27T06:24:45.882621Z",
     "iopub.status.busy": "2023-04-27T06:24:45.882223Z",
     "iopub.status.idle": "2023-04-27T06:24:45.888179Z",
     "shell.execute_reply": "2023-04-27T06:24:45.887441Z"
    },
    "papermill": {
     "duration": 0.01441,
     "end_time": "2023-04-27T06:24:45.890298",
     "exception": false,
     "start_time": "2023-04-27T06:24:45.875888",
     "status": "completed"
    },
    "tags": []
   },
   "outputs": [],
   "source": [
    "def download_data(url=\"https://drive.google.com/u/0/uc?id=1uRKU4as2NlS9i8sdLRS1e326vQRdhvfw&export=download\"):\n",
    "    response=requests.get(url)\n",
    "    z = zipfile.ZipFile(io.BytesIO(response.content))\n",
    "    z.extractall()"
   ]
  },
  {
   "cell_type": "markdown",
   "id": "2e27515b",
   "metadata": {
    "papermill": {
     "duration": 0.004724,
     "end_time": "2023-04-27T06:24:45.900163",
     "exception": false,
     "start_time": "2023-04-27T06:24:45.895439",
     "status": "completed"
    },
    "tags": []
   },
   "source": [
    "## METHODS FOR GETTING CHARACTERS FOR CORPUSS AND ADDING THEIR INDICES"
   ]
  },
  {
   "cell_type": "code",
   "execution_count": 4,
   "id": "f06ee5f0",
   "metadata": {
    "execution": {
     "iopub.execute_input": "2023-04-27T06:24:45.912089Z",
     "iopub.status.busy": "2023-04-27T06:24:45.911716Z",
     "iopub.status.idle": "2023-04-27T06:24:45.918948Z",
     "shell.execute_reply": "2023-04-27T06:24:45.917688Z"
    },
    "papermill": {
     "duration": 0.016188,
     "end_time": "2023-04-27T06:24:45.921486",
     "exception": false,
     "start_time": "2023-04-27T06:24:45.905298",
     "status": "completed"
    },
    "tags": []
   },
   "outputs": [],
   "source": [
    "def get_corpus(data):\n",
    "    eng_corpus=set()\n",
    "    hin_corpus=set()\n",
    "    for i in range(0,len(data)):\n",
    "        eng_word=data[0][i]\n",
    "        hin_word=data[1][i]\n",
    "        for ch in eng_word:\n",
    "            eng_corpus.add(ch)\n",
    "        for ch in hin_word:\n",
    "            hin_corpus.add(ch)\n",
    "        # End Delimiter\n",
    "        eng_corpus.add('#')\n",
    "        hin_corpus.add('#')\n",
    "        # Start Delimiter\n",
    "#         eng_corpus.add('^')\n",
    "        hin_corpus.add('^')\n",
    "    return hin_corpus,eng_corpus"
   ]
  },
  {
   "cell_type": "code",
   "execution_count": 5,
   "id": "94882e60",
   "metadata": {
    "execution": {
     "iopub.execute_input": "2023-04-27T06:24:45.934291Z",
     "iopub.status.busy": "2023-04-27T06:24:45.933294Z",
     "iopub.status.idle": "2023-04-27T06:24:45.940769Z",
     "shell.execute_reply": "2023-04-27T06:24:45.939656Z"
    },
    "papermill": {
     "duration": 0.016209,
     "end_time": "2023-04-27T06:24:45.943245",
     "exception": false,
     "start_time": "2023-04-27T06:24:45.927036",
     "status": "completed"
    },
    "tags": []
   },
   "outputs": [],
   "source": [
    "def word2index(data):\n",
    "    hin_corpus,eng_corpus=get_corpus(data)\n",
    "    engchar_idx={}\n",
    "    hinchar_idx={}\n",
    "    idx_engchar={}\n",
    "    idx_hinchar={}\n",
    "    i=0\n",
    "    for char in eng_corpus:\n",
    "        engchar_idx[char]=i\n",
    "        idx_engchar[i]=char\n",
    "        i+=1\n",
    "    i=0\n",
    "    for char in hin_corpus:\n",
    "        hinchar_idx[char]=i\n",
    "        idx_hinchar[i]=char\n",
    "        i+=1\n",
    "    return engchar_idx,hinchar_idx,idx_engchar,idx_hinchar,len(eng_corpus),len(hin_corpus)"
   ]
  },
  {
   "cell_type": "markdown",
   "id": "8670f39d",
   "metadata": {
    "papermill": {
     "duration": 0.005059,
     "end_time": "2023-04-27T06:24:45.954061",
     "exception": false,
     "start_time": "2023-04-27T06:24:45.949002",
     "status": "completed"
    },
    "tags": []
   },
   "source": [
    "## DATA PREPROCESSING"
   ]
  },
  {
   "cell_type": "code",
   "execution_count": 6,
   "id": "fe08744e",
   "metadata": {
    "execution": {
     "iopub.execute_input": "2023-04-27T06:24:45.965981Z",
     "iopub.status.busy": "2023-04-27T06:24:45.965607Z",
     "iopub.status.idle": "2023-04-27T06:24:45.971842Z",
     "shell.execute_reply": "2023-04-27T06:24:45.970668Z"
    },
    "papermill": {
     "duration": 0.01511,
     "end_time": "2023-04-27T06:24:45.974235",
     "exception": false,
     "start_time": "2023-04-27T06:24:45.959125",
     "status": "completed"
    },
    "tags": []
   },
   "outputs": [],
   "source": [
    "def maxlen(data):\n",
    "    maxlen_eng=0\n",
    "    maxlen_hin=0\n",
    "    for i in range(0,len(data)):\n",
    "        eng_word=data[0][i]\n",
    "        hin_word=data[1][i]\n",
    "        if(len(eng_word)>maxlen_eng):\n",
    "            maxlen_eng=len(eng_word)\n",
    "        if(len(hin_word)>maxlen_hin):\n",
    "            maxlen_hin=len(hin_word)\n",
    "    return maxlen_eng,maxlen_hin"
   ]
  },
  {
   "cell_type": "code",
   "execution_count": 7,
   "id": "ef180363",
   "metadata": {
    "execution": {
     "iopub.execute_input": "2023-04-27T06:24:45.986054Z",
     "iopub.status.busy": "2023-04-27T06:24:45.985727Z",
     "iopub.status.idle": "2023-04-27T06:24:45.994325Z",
     "shell.execute_reply": "2023-04-27T06:24:45.993144Z"
    },
    "papermill": {
     "duration": 0.017388,
     "end_time": "2023-04-27T06:24:45.996802",
     "exception": false,
     "start_time": "2023-04-27T06:24:45.979414",
     "status": "completed"
    },
    "tags": []
   },
   "outputs": [],
   "source": [
    "def pre_process(data,eng_to_idx,hin_to_idx):\n",
    "    eng=[]\n",
    "    hin=[]\n",
    "    maxlen_eng,maxlen_hin=maxlen(data)\n",
    "    \n",
    "    unknown= 999\n",
    "    for i in range(0,len(data)):\n",
    "        sz=0\n",
    "        eng_word=data[0][i]\n",
    "        hin_word='^'+data[1][i]\n",
    "        eng_word = eng_word.ljust(maxlen_eng+1, '#')\n",
    "        hin_word = hin_word.ljust(maxlen_hin+1, '#')\n",
    "        idx=[]\n",
    "        for char in eng_word:\n",
    "            if eng_to_idx.get(char) is not None:\n",
    "                idx.append(eng_to_idx[char])\n",
    "            else:\n",
    "                idx.append(unknown)\n",
    "        eng.append(idx)\n",
    "        idx=[]\n",
    "        for char in hin_word:\n",
    "            if hin_to_idx.get(char) is not None:\n",
    "                idx.append(hin_to_idx[char])\n",
    "            else:\n",
    "                idx.append(unknown)\n",
    "        hin.append(idx)    \n",
    "    return eng,hin"
   ]
  },
  {
   "cell_type": "markdown",
   "id": "343a3217",
   "metadata": {
    "papermill": {
     "duration": 0.005439,
     "end_time": "2023-04-27T06:24:46.008523",
     "exception": false,
     "start_time": "2023-04-27T06:24:46.003084",
     "status": "completed"
    },
    "tags": []
   },
   "source": [
    "## LOADING OUR CUSTOM DATASET TO DATALOADER"
   ]
  },
  {
   "cell_type": "code",
   "execution_count": 8,
   "id": "cd51b25a",
   "metadata": {
    "execution": {
     "iopub.execute_input": "2023-04-27T06:24:46.021281Z",
     "iopub.status.busy": "2023-04-27T06:24:46.020880Z",
     "iopub.status.idle": "2023-04-27T06:24:46.030710Z",
     "shell.execute_reply": "2023-04-27T06:24:46.029517Z"
    },
    "papermill": {
     "duration": 0.019344,
     "end_time": "2023-04-27T06:24:46.033264",
     "exception": false,
     "start_time": "2023-04-27T06:24:46.013920",
     "status": "completed"
    },
    "tags": []
   },
   "outputs": [],
   "source": [
    "class MyDataset(Dataset):\n",
    "    def __init__(self, train_x,train_y, transform=None):\n",
    "        self.train_x = train_x\n",
    "        self.train_y = train_y\n",
    "        self.transform = transform\n",
    "        \n",
    "    \n",
    "    def __len__(self):\n",
    "        return len(self.train_x)\n",
    "    \n",
    "    def __getitem__(self, idx):\n",
    "        if self.transform:\n",
    "            sample = self.transform(sample)\n",
    "        return torch.tensor(self.train_x[idx]).to(device),torch.tensor(self.train_y[idx]).to(device)\n",
    "\n",
    "def get_data():\n",
    "    download_data()\n",
    "    \n",
    "    train_df=pd.read_csv(\"aksharantar_sampled/hin/hin_train.csv\",header=None)\n",
    "    test_df=pd.read_csv(\"aksharantar_sampled/hin/hin_test.csv\",header=None)\n",
    "    val_df=pd.read_csv(\"aksharantar_sampled/hin/hin_valid.csv\",header=None)\n",
    "    eng_to_idx,hin_to_idx,idx_to_eng,idx_to_hin,input_len,target_len=word2index(train_df)\n",
    "    \n",
    "    return train_df,test_df,val_df,eng_to_idx,hin_to_idx,idx_to_eng,idx_to_hin,input_len,target_len"
   ]
  },
  {
   "cell_type": "markdown",
   "id": "f82d5407",
   "metadata": {
    "papermill": {
     "duration": 0.005235,
     "end_time": "2023-04-27T06:24:46.043981",
     "exception": false,
     "start_time": "2023-04-27T06:24:46.038746",
     "status": "completed"
    },
    "tags": []
   },
   "source": [
    "## Seq2Seq MODEL"
   ]
  },
  {
   "cell_type": "code",
   "execution_count": 9,
   "id": "07043c4e",
   "metadata": {
    "execution": {
     "iopub.execute_input": "2023-04-27T06:24:46.056269Z",
     "iopub.status.busy": "2023-04-27T06:24:46.055907Z",
     "iopub.status.idle": "2023-04-27T06:24:46.069224Z",
     "shell.execute_reply": "2023-04-27T06:24:46.068066Z"
    },
    "papermill": {
     "duration": 0.022127,
     "end_time": "2023-04-27T06:24:46.071422",
     "exception": false,
     "start_time": "2023-04-27T06:24:46.049295",
     "status": "completed"
    },
    "tags": []
   },
   "outputs": [],
   "source": [
    "class Encoder(nn.Module):\n",
    "    def __init__(self,input_size,hidden_size,embedding_size,num_of_layers,batch_size,bidirec):\n",
    "        super(Encoder,self).__init__()\n",
    "        self.hidden_size=hidden_size\n",
    "        self.batch_size=batch_size\n",
    "        self.input_size=input_size\n",
    "        self.embedding_size=embedding_size\n",
    "        self.embedding=nn.Embedding(input_size,embedding_size)\n",
    "        self.num_of_layers=num_of_layers\n",
    "        self.bidirec=bidirec\n",
    "        self.gru = nn.GRU(embedding_size,hidden_size,num_of_layers,bidirectional=bidirec)\n",
    "\n",
    "    def forward(self,input,hidden):\n",
    "        embedded=self.embedding(input).view(-1,self.batch_size, self.embedding_size)\n",
    "        output,hidden=self.gru(embedded,hidden)\n",
    "    \n",
    "        if self.bidirec:\n",
    "            hidden=hidden.resize(2,self.num_of_layers,self.batch_size,self.hidden_size)\n",
    "            hidden=torch.add(hidden[0],hidden[1])/2\n",
    "            \n",
    "        return output,hidden\n",
    "\n",
    "    def initHidden(self):\n",
    "        if(self.bidirec):\n",
    "            return torch.zeros(2*self.num_of_layers,self.batch_size,self.hidden_size,device=device)\n",
    "        else:\n",
    "            return torch.zeros(self.num_of_layers,self.batch_size,self.hidden_size,device=device)\n",
    "\n",
    "class Decoder(nn.Module):\n",
    "    def __init__(self, output_size,hidden_size, embedding_size, decoder_layers,batch_size):\n",
    "        super(Decoder, self).__init__()\n",
    "        self.hidden_size = hidden_size\n",
    "        self.embedding_size=embedding_size\n",
    "        self.embedding = nn.Embedding(output_size, embedding_size)\n",
    "        self.gru = nn.GRU(embedding_size,hidden_size, decoder_layers)\n",
    "        self.out = nn.Linear(hidden_size, output_size)\n",
    "        self.softmax = nn.LogSoftmax(dim=1)\n",
    "        self.batch_size=batch_size\n",
    "\n",
    "    def forward(self, input, hidden):\n",
    "        embedded = self.embedding(input).view(-1, self.batch_size, self.embedding_size)\n",
    "        output, hidden = self.gru(embedded, hidden)\n",
    "        output = self.softmax(self.out(output))\n",
    "        return output, hidden"
   ]
  },
  {
   "cell_type": "code",
   "execution_count": 10,
   "id": "9b8e2484",
   "metadata": {
    "execution": {
     "iopub.execute_input": "2023-04-27T06:24:46.084813Z",
     "iopub.status.busy": "2023-04-27T06:24:46.084437Z",
     "iopub.status.idle": "2023-04-27T06:24:46.097363Z",
     "shell.execute_reply": "2023-04-27T06:24:46.096293Z"
    },
    "papermill": {
     "duration": 0.022767,
     "end_time": "2023-04-27T06:24:46.099935",
     "exception": false,
     "start_time": "2023-04-27T06:24:46.077168",
     "status": "completed"
    },
    "tags": []
   },
   "outputs": [],
   "source": [
    "def train(train_data,encoder,decoder,loss_fun,encoder_optimizer,decoder_optimizer,encoder_layers,decoder_layers):\n",
    "    total_loss=0\n",
    "    teacher_forcing_ratio=0.5\n",
    "    for train_x,train_y in train_data:\n",
    "        encoder_optimizer.zero_grad()\n",
    "        decoder_optimizer.zero_grad()\n",
    "        train_x=train_x.T\n",
    "        train_y=train_y.T\n",
    "        timesteps=len(train_x)\n",
    "        encoder_hidden=encoder.initHidden()\n",
    "        loss=0\n",
    "        encoder_output,encoder_hidden=encoder(train_x,encoder_hidden)\n",
    "        \n",
    "        if(decoder_layers>encoder_layers):\n",
    "            i = decoder_layers\n",
    "            decoder_hidden=encoder_hidden\n",
    "            \n",
    "            while True:\n",
    "                if(i==encoder_layers):\n",
    "                    break\n",
    "                # Concatenate the two tensors along the first dimension\n",
    "                decoder_hidden = torch.cat([decoder_hidden, encoder_hidden[-1].unsqueeze(0)], dim=0)\n",
    "                i-=1\n",
    "                \n",
    "        elif(decoder_layers<encoder_layers):\n",
    "            decoder_hidden=encoder_hidden[-decoder_layers:]\n",
    "            \n",
    "        else:\n",
    "            decoder_hidden=encoder_hidden\n",
    "        \n",
    "        decoder_input = train_y[0]\n",
    "        \n",
    "        use_teacher_forcing = True if random.random() < teacher_forcing_ratio else False\n",
    "        if use_teacher_forcing:\n",
    "            for i in range(0,len(train_y)):\n",
    "                decoder_output, decoder_hidden= decoder(decoder_input, decoder_hidden)\n",
    "                loss+=loss_fun(torch.squeeze(decoder_output), train_y[i])\n",
    "                decoder_input = train_y[i]  # Teacher forcing\n",
    "        else:\n",
    "            for i in range(0,len(train_y)):\n",
    "                decoder_output,decoder_hidden=decoder(decoder_input,decoder_hidden)\n",
    "                max_prob,index=decoder_output.topk(1)\n",
    "                loss+=loss_fun(torch.squeeze(decoder_output), train_y[i])\n",
    "                decoder_input=index\n",
    "        loss.backward()\n",
    "        encoder_optimizer.step()\n",
    "        decoder_optimizer.step()\n",
    "        total_loss+=loss\n",
    "    return total_loss.item()/len(train_y),encoder,decoder"
   ]
  },
  {
   "cell_type": "code",
   "execution_count": 11,
   "id": "7dac9f40",
   "metadata": {
    "execution": {
     "iopub.execute_input": "2023-04-27T06:24:46.114695Z",
     "iopub.status.busy": "2023-04-27T06:24:46.112887Z",
     "iopub.status.idle": "2023-04-27T06:24:46.122505Z",
     "shell.execute_reply": "2023-04-27T06:24:46.121386Z"
    },
    "papermill": {
     "duration": 0.019212,
     "end_time": "2023-04-27T06:24:46.125086",
     "exception": false,
     "start_time": "2023-04-27T06:24:46.105874",
     "status": "completed"
    },
    "tags": []
   },
   "outputs": [],
   "source": [
    "def train_iter(input_data,input_len,target_len,epochs,batch_size,embedding_size,encoder_layers,decoder_layers,hidden_size,cell_type,bi_directional,dropout,beam_size):\n",
    "    lr=0.001\n",
    "    encoder=Encoder(input_len,hidden_size,embedding_size,encoder_layers,batch_size,bi_directional).to(device)\n",
    "    decoder=Decoder(target_len,hidden_size,embedding_size,decoder_layers,batch_size).to(device)\n",
    "    encoder_optimizer=optim.Adam(encoder.parameters(),lr)\n",
    "    decoder_optimizer=optim.Adam(decoder.parameters(),lr)\n",
    "    loss_fun=nn.CrossEntropyLoss(reduction=\"sum\")\n",
    "    encoder.train()\n",
    "    decoder.train()\n",
    "    epoch_loss=[]\n",
    "    for i in range(0,epochs):\n",
    "        loss,encoder,decoder=train(input_data,encoder,decoder,loss_fun,encoder_optimizer,decoder_optimizer,encoder_layers,decoder_layers)\n",
    "        epoch_loss.append(loss/51200)\n",
    "    \n",
    "    train_predictions=eval(input_data,encoder,decoder,encoder_layers,decoder_layers)\n",
    "    return train_predictions,epoch_loss,encoder,decoder,encoder_layers,decoder_layers"
   ]
  },
  {
   "cell_type": "code",
   "execution_count": 12,
   "id": "1dd8816f",
   "metadata": {
    "execution": {
     "iopub.execute_input": "2023-04-27T06:24:46.139397Z",
     "iopub.status.busy": "2023-04-27T06:24:46.138362Z",
     "iopub.status.idle": "2023-04-27T06:24:46.150278Z",
     "shell.execute_reply": "2023-04-27T06:24:46.149216Z"
    },
    "papermill": {
     "duration": 0.021856,
     "end_time": "2023-04-27T06:24:46.152988",
     "exception": false,
     "start_time": "2023-04-27T06:24:46.131132",
     "status": "completed"
    },
    "tags": []
   },
   "outputs": [],
   "source": [
    "def eval(input_data,encoder,decoder,encoder_layers,decoder_layers):\n",
    "    encoder.eval()\n",
    "    decoder.eval()\n",
    "    pred_words=list()\n",
    "    for x,y in input_data:\n",
    "        decoder_words=[]\n",
    "        x=x.T\n",
    "        y=y.T\n",
    "        encoder_hidden=encoder.initHidden()\n",
    "        timesteps=len(x)\n",
    "        encoder_output,encoder_hidden=encoder(x,encoder_hidden)\n",
    "        if(decoder_layers>encoder_layers):\n",
    "            i = decoder_layers\n",
    "            decoder_hidden=encoder_hidden\n",
    "            while True:\n",
    "                if(i==encoder_layers):\n",
    "                    break\n",
    "                # Concatenate the two tensors along the first dimension\n",
    "                decoder_hidden = torch.cat([decoder_hidden, encoder_hidden[-1].unsqueeze(0)], dim=0)\n",
    "                i-=1\n",
    "        \n",
    "        elif(decoder_layers<encoder_layers):\n",
    "            decoder_hidden=encoder_hidden[-decoder_layers:] \n",
    "        \n",
    "        else:\n",
    "            decoder_hidden=encoder_hidden\n",
    "        decoder_input = y[0]\n",
    "        \n",
    "        for i in range(0,len(y)):\n",
    "            decoder_output,decoder_hidden=decoder(decoder_input,decoder_hidden)\n",
    "            max_prob,index=decoder_output.topk(1)\n",
    "            index=index.squeeze()\n",
    "            decoder_input=index\n",
    "            decoder_words.append(index.tolist())\n",
    "        decoder_words=np.array(decoder_words)\n",
    "        pred_words.append(decoder_words.T)\n",
    "    \n",
    "    \n",
    "    predictions=[]\n",
    "    for batch in pred_words:\n",
    "        for word in batch:\n",
    "            predictions.append(word)\n",
    "    return predictions"
   ]
  },
  {
   "cell_type": "code",
   "execution_count": 13,
   "id": "7b6e7fec",
   "metadata": {
    "execution": {
     "iopub.execute_input": "2023-04-27T06:24:46.166554Z",
     "iopub.status.busy": "2023-04-27T06:24:46.166177Z",
     "iopub.status.idle": "2023-04-27T06:24:46.171966Z",
     "shell.execute_reply": "2023-04-27T06:24:46.170822Z"
    },
    "papermill": {
     "duration": 0.015393,
     "end_time": "2023-04-27T06:24:46.174313",
     "exception": false,
     "start_time": "2023-04-27T06:24:46.158920",
     "status": "completed"
    },
    "tags": []
   },
   "outputs": [],
   "source": [
    "def accuracy(predictions,train_y):\n",
    "    count=0\n",
    "    for i in range(0,len(predictions)):\n",
    "        p=predictions[i].tolist()\n",
    "        if p==train_y[i]:\n",
    "            count+=1\n",
    "    return count,len(predictions)"
   ]
  },
  {
   "cell_type": "code",
   "execution_count": 14,
   "id": "4dd7c731",
   "metadata": {
    "execution": {
     "iopub.execute_input": "2023-04-27T06:24:46.187276Z",
     "iopub.status.busy": "2023-04-27T06:24:46.186958Z",
     "iopub.status.idle": "2023-04-27T06:24:54.281866Z",
     "shell.execute_reply": "2023-04-27T06:24:54.280682Z"
    },
    "papermill": {
     "duration": 8.105358,
     "end_time": "2023-04-27T06:24:54.285461",
     "exception": false,
     "start_time": "2023-04-27T06:24:46.180103",
     "status": "completed"
    },
    "tags": []
   },
   "outputs": [],
   "source": [
    "train_df,test_df,val_df,eng_to_idx,hin_to_idx,idx_to_eng,idx_to_hin,input_len,target_len=get_data()\n",
    "\n",
    "train_x,train_y = pre_process(train_df,eng_to_idx,hin_to_idx)\n",
    "test_x,test_y = pre_process(test_df,eng_to_idx,hin_to_idx)\n",
    "val_x,val_y = pre_process(val_df,eng_to_idx,hin_to_idx)\n",
    "\n",
    "train_dataset=MyDataset(train_x,train_y)\n",
    "test_dataset=MyDataset(test_x,test_y)\n",
    "val_dataset=MyDataset(val_x,val_y)\n",
    "\n",
    "\n",
    "train_dataloader=DataLoader(train_dataset,batch_size=128)\n",
    "test_dataloader=DataLoader(test_dataset,batch_size=128)\n",
    "val_dataloader=DataLoader(val_dataset,batch_size=128)\n"
   ]
  },
  {
   "cell_type": "code",
   "execution_count": 15,
   "id": "b04fc572",
   "metadata": {
    "execution": {
     "iopub.execute_input": "2023-04-27T06:24:54.298842Z",
     "iopub.status.busy": "2023-04-27T06:24:54.298185Z",
     "iopub.status.idle": "2023-04-27T06:43:57.200007Z",
     "shell.execute_reply": "2023-04-27T06:43:57.198519Z"
    },
    "papermill": {
     "duration": 1142.91183,
     "end_time": "2023-04-27T06:43:57.203013",
     "exception": false,
     "start_time": "2023-04-27T06:24:54.291183",
     "status": "completed"
    },
    "tags": []
   },
   "outputs": [
    {
     "name": "stderr",
     "output_type": "stream",
     "text": [
      "/opt/conda/lib/python3.7/site-packages/torch/_tensor.py:760: UserWarning: non-inplace resize is deprecated\n",
      "  warnings.warn(\"non-inplace resize is deprecated\")\n"
     ]
    }
   ],
   "source": [
    "train_predictions,epoch_loss,encoder,decoder,encoder_layers,decoder_layers=train_iter(train_dataloader,input_len,target_len,50,128,256,3,2,256,\"GRU\",True,0.2,16)"
   ]
  },
  {
   "cell_type": "code",
   "execution_count": 16,
   "id": "3fee2385",
   "metadata": {
    "execution": {
     "iopub.execute_input": "2023-04-27T06:43:57.217805Z",
     "iopub.status.busy": "2023-04-27T06:43:57.216673Z",
     "iopub.status.idle": "2023-04-27T06:43:57.224689Z",
     "shell.execute_reply": "2023-04-27T06:43:57.223537Z"
    },
    "papermill": {
     "duration": 0.01779,
     "end_time": "2023-04-27T06:43:57.227258",
     "exception": false,
     "start_time": "2023-04-27T06:43:57.209468",
     "status": "completed"
    },
    "tags": []
   },
   "outputs": [
    {
     "name": "stdout",
     "output_type": "stream",
     "text": [
      "[1.5703898111979167, 0.9853421456473214, 0.8294122023809524, 0.7106489490327381, 0.6144423130580356, 0.5907033575148809, 0.5387016950334822, 0.49251226515997026, 0.4624995349702381, 0.4303104945591518, 0.41987743559337803, 0.3967113095238095, 0.3666245814732143, 0.3521223667689732, 0.3582190232049851, 0.3424424525669643, 0.34697806222098215, 0.3049237060546875, 0.2938509695870536, 0.2828720238095238, 0.30916495186941967, 0.3084758068266369, 0.2902264694940476, 0.2711185128348214, 0.2562541271391369, 0.2508927408854167, 0.2162175787062872, 0.20768310546875, 0.19995717366536458, 0.20758438836960566, 0.23259403773716517, 0.20509020124162947, 0.20172678629557292, 0.19641087123325893, 0.1860189238048735, 0.1924930681501116, 0.19381934756324404, 0.18708140055338543, 0.24034245082310268, 0.236819327218192, 0.19135992140997027, 0.1709168933686756, 0.16007250104631698, 0.1470549083891369, 0.14734915597098214, 0.144521731422061, 0.15340349469866071, 0.1512815202985491, 0.16245404924665177, 0.16174253917875744]\n"
     ]
    }
   ],
   "source": [
    "print(epoch_loss)"
   ]
  },
  {
   "cell_type": "code",
   "execution_count": 17,
   "id": "68dd2e0f",
   "metadata": {
    "execution": {
     "iopub.execute_input": "2023-04-27T06:43:57.240802Z",
     "iopub.status.busy": "2023-04-27T06:43:57.240439Z",
     "iopub.status.idle": "2023-04-27T06:43:57.938067Z",
     "shell.execute_reply": "2023-04-27T06:43:57.936922Z"
    },
    "papermill": {
     "duration": 0.707674,
     "end_time": "2023-04-27T06:43:57.940994",
     "exception": false,
     "start_time": "2023-04-27T06:43:57.233320",
     "status": "completed"
    },
    "tags": []
   },
   "outputs": [],
   "source": [
    "val_predictions=eval(val_dataloader,encoder,decoder,encoder_layers,decoder_layers)"
   ]
  },
  {
   "cell_type": "code",
   "execution_count": 18,
   "id": "ebdde99c",
   "metadata": {
    "execution": {
     "iopub.execute_input": "2023-04-27T06:43:57.955559Z",
     "iopub.status.busy": "2023-04-27T06:43:57.954515Z",
     "iopub.status.idle": "2023-04-27T06:43:58.701688Z",
     "shell.execute_reply": "2023-04-27T06:43:58.700538Z"
    },
    "papermill": {
     "duration": 0.757374,
     "end_time": "2023-04-27T06:43:58.704503",
     "exception": false,
     "start_time": "2023-04-27T06:43:57.947129",
     "status": "completed"
    },
    "tags": []
   },
   "outputs": [],
   "source": [
    "test_predictions=eval(test_dataloader,encoder,decoder,encoder_layers,decoder_layers)"
   ]
  },
  {
   "cell_type": "code",
   "execution_count": 19,
   "id": "979b63d7",
   "metadata": {
    "execution": {
     "iopub.execute_input": "2023-04-27T06:43:58.719558Z",
     "iopub.status.busy": "2023-04-27T06:43:58.717731Z",
     "iopub.status.idle": "2023-04-27T06:43:58.758149Z",
     "shell.execute_reply": "2023-04-27T06:43:58.756944Z"
    },
    "papermill": {
     "duration": 0.050143,
     "end_time": "2023-04-27T06:43:58.760729",
     "exception": false,
     "start_time": "2023-04-27T06:43:58.710586",
     "status": "completed"
    },
    "tags": []
   },
   "outputs": [
    {
     "name": "stdout",
     "output_type": "stream",
     "text": [
      "75.083984375\n"
     ]
    }
   ],
   "source": [
    "acc,total=accuracy(train_predictions,train_y)\n",
    "print(acc/total*100)"
   ]
  },
  {
   "cell_type": "code",
   "execution_count": 20,
   "id": "612c4409",
   "metadata": {
    "execution": {
     "iopub.execute_input": "2023-04-27T06:43:58.774752Z",
     "iopub.status.busy": "2023-04-27T06:43:58.774390Z",
     "iopub.status.idle": "2023-04-27T06:43:58.783238Z",
     "shell.execute_reply": "2023-04-27T06:43:58.782061Z"
    },
    "papermill": {
     "duration": 0.019077,
     "end_time": "2023-04-27T06:43:58.785897",
     "exception": false,
     "start_time": "2023-04-27T06:43:58.766820",
     "status": "completed"
    },
    "tags": []
   },
   "outputs": [
    {
     "name": "stdout",
     "output_type": "stream",
     "text": [
      "26.123046875\n"
     ]
    }
   ],
   "source": [
    "acc,total=accuracy(val_predictions,val_y)\n",
    "print(acc/total*100)"
   ]
  },
  {
   "cell_type": "code",
   "execution_count": 21,
   "id": "5595a48a",
   "metadata": {
    "execution": {
     "iopub.execute_input": "2023-04-27T06:43:58.799517Z",
     "iopub.status.busy": "2023-04-27T06:43:58.799154Z",
     "iopub.status.idle": "2023-04-27T06:43:58.807464Z",
     "shell.execute_reply": "2023-04-27T06:43:58.806317Z"
    },
    "papermill": {
     "duration": 0.018326,
     "end_time": "2023-04-27T06:43:58.810261",
     "exception": false,
     "start_time": "2023-04-27T06:43:58.791935",
     "status": "completed"
    },
    "tags": []
   },
   "outputs": [
    {
     "name": "stdout",
     "output_type": "stream",
     "text": [
      "26.025390625\n"
     ]
    }
   ],
   "source": [
    "acc,total=accuracy(test_predictions,test_y)\n",
    "print(acc/total*100)"
   ]
  }
 ],
 "metadata": {
  "kernelspec": {
   "display_name": "Python 3",
   "language": "python",
   "name": "python3"
  },
  "language_info": {
   "codemirror_mode": {
    "name": "ipython",
    "version": 3
   },
   "file_extension": ".py",
   "mimetype": "text/x-python",
   "name": "python",
   "nbconvert_exporter": "python",
   "pygments_lexer": "ipython3",
   "version": "3.7.12"
  },
  "papermill": {
   "default_parameters": {},
   "duration": 1168.754436,
   "end_time": "2023-04-27T06:44:00.845476",
   "environment_variables": {},
   "exception": null,
   "input_path": "__notebook__.ipynb",
   "output_path": "__notebook__.ipynb",
   "parameters": {},
   "start_time": "2023-04-27T06:24:32.091040",
   "version": "2.4.0"
  }
 },
 "nbformat": 4,
 "nbformat_minor": 5
}
